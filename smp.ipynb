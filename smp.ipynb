{
 "metadata": {
  "language_info": {
   "codemirror_mode": {
    "name": "ipython",
    "version": 3
   },
   "file_extension": ".py",
   "mimetype": "text/x-python",
   "name": "python",
   "nbconvert_exporter": "python",
   "pygments_lexer": "ipython3",
   "version": "3.8.6"
  },
  "orig_nbformat": 2,
  "kernelspec": {
   "name": "python386jvsc74a57bd008b64dc7e9099eac269fb18b5d824c195a782a2ed4ec34aad5d0bbbc3d697e62",
   "display_name": "Python 3.8.6 64-bit"
  }
 },
 "nbformat": 4,
 "nbformat_minor": 2,
 "cells": [
  {
   "cell_type": "code",
   "execution_count": 1,
   "metadata": {},
   "outputs": [],
   "source": [
    "import math\n",
    "import pandas as pd\n",
    "import numpy as np\n",
    "import seaborn as sns\n",
    "import matplotlib.pyplot as plt\n",
    "%matplotlib inline"
   ]
  },
  {
   "cell_type": "code",
   "execution_count": 2,
   "metadata": {},
   "outputs": [],
   "source": [
    "df1 = pd.read_csv('C:\\AAPL.csv')\n",
    "df2 = pd.read_csv('C:\\india-news-headlines.csv')"
   ]
  },
  {
   "cell_type": "code",
   "execution_count": 3,
   "metadata": {},
   "outputs": [
    {
     "output_type": "execute_result",
     "data": {
      "text/plain": [
       "   Unnamed: 0 symbol                       date    close     high     low  \\\n",
       "0           0   AAPL  2015-05-27 00:00:00+00:00  132.045  132.260  130.05   \n",
       "1           1   AAPL  2015-05-28 00:00:00+00:00  131.780  131.950  131.10   \n",
       "2           2   AAPL  2015-05-29 00:00:00+00:00  130.280  131.450  129.90   \n",
       "3           3   AAPL  2015-06-01 00:00:00+00:00  130.535  131.390  130.05   \n",
       "4           4   AAPL  2015-06-02 00:00:00+00:00  129.960  130.655  129.32   \n",
       "\n",
       "     open    volume    adjClose     adjHigh      adjLow     adjOpen  \\\n",
       "0  130.34  45833246  121.682558  121.880685  119.844118  120.111360   \n",
       "1  131.86  30733309  121.438354  121.595013  120.811718  121.512076   \n",
       "2  131.23  50884452  120.056069  121.134251  119.705890  120.931516   \n",
       "3  131.20  32112797  120.291057  121.078960  119.844118  120.903870   \n",
       "4  129.86  33667627  119.761181  120.401640  119.171406  119.669029   \n",
       "\n",
       "   adjVolume  divCash  splitFactor  \n",
       "0   45833246      0.0          1.0  \n",
       "1   30733309      0.0          1.0  \n",
       "2   50884452      0.0          1.0  \n",
       "3   32112797      0.0          1.0  \n",
       "4   33667627      0.0          1.0  "
      ],
      "text/html": "<div>\n<style scoped>\n    .dataframe tbody tr th:only-of-type {\n        vertical-align: middle;\n    }\n\n    .dataframe tbody tr th {\n        vertical-align: top;\n    }\n\n    .dataframe thead th {\n        text-align: right;\n    }\n</style>\n<table border=\"1\" class=\"dataframe\">\n  <thead>\n    <tr style=\"text-align: right;\">\n      <th></th>\n      <th>Unnamed: 0</th>\n      <th>symbol</th>\n      <th>date</th>\n      <th>close</th>\n      <th>high</th>\n      <th>low</th>\n      <th>open</th>\n      <th>volume</th>\n      <th>adjClose</th>\n      <th>adjHigh</th>\n      <th>adjLow</th>\n      <th>adjOpen</th>\n      <th>adjVolume</th>\n      <th>divCash</th>\n      <th>splitFactor</th>\n    </tr>\n  </thead>\n  <tbody>\n    <tr>\n      <th>0</th>\n      <td>0</td>\n      <td>AAPL</td>\n      <td>2015-05-27 00:00:00+00:00</td>\n      <td>132.045</td>\n      <td>132.260</td>\n      <td>130.05</td>\n      <td>130.34</td>\n      <td>45833246</td>\n      <td>121.682558</td>\n      <td>121.880685</td>\n      <td>119.844118</td>\n      <td>120.111360</td>\n      <td>45833246</td>\n      <td>0.0</td>\n      <td>1.0</td>\n    </tr>\n    <tr>\n      <th>1</th>\n      <td>1</td>\n      <td>AAPL</td>\n      <td>2015-05-28 00:00:00+00:00</td>\n      <td>131.780</td>\n      <td>131.950</td>\n      <td>131.10</td>\n      <td>131.86</td>\n      <td>30733309</td>\n      <td>121.438354</td>\n      <td>121.595013</td>\n      <td>120.811718</td>\n      <td>121.512076</td>\n      <td>30733309</td>\n      <td>0.0</td>\n      <td>1.0</td>\n    </tr>\n    <tr>\n      <th>2</th>\n      <td>2</td>\n      <td>AAPL</td>\n      <td>2015-05-29 00:00:00+00:00</td>\n      <td>130.280</td>\n      <td>131.450</td>\n      <td>129.90</td>\n      <td>131.23</td>\n      <td>50884452</td>\n      <td>120.056069</td>\n      <td>121.134251</td>\n      <td>119.705890</td>\n      <td>120.931516</td>\n      <td>50884452</td>\n      <td>0.0</td>\n      <td>1.0</td>\n    </tr>\n    <tr>\n      <th>3</th>\n      <td>3</td>\n      <td>AAPL</td>\n      <td>2015-06-01 00:00:00+00:00</td>\n      <td>130.535</td>\n      <td>131.390</td>\n      <td>130.05</td>\n      <td>131.20</td>\n      <td>32112797</td>\n      <td>120.291057</td>\n      <td>121.078960</td>\n      <td>119.844118</td>\n      <td>120.903870</td>\n      <td>32112797</td>\n      <td>0.0</td>\n      <td>1.0</td>\n    </tr>\n    <tr>\n      <th>4</th>\n      <td>4</td>\n      <td>AAPL</td>\n      <td>2015-06-02 00:00:00+00:00</td>\n      <td>129.960</td>\n      <td>130.655</td>\n      <td>129.32</td>\n      <td>129.86</td>\n      <td>33667627</td>\n      <td>119.761181</td>\n      <td>120.401640</td>\n      <td>119.171406</td>\n      <td>119.669029</td>\n      <td>33667627</td>\n      <td>0.0</td>\n      <td>1.0</td>\n    </tr>\n  </tbody>\n</table>\n</div>"
     },
     "metadata": {},
     "execution_count": 3
    }
   ],
   "source": [
    "df1.head()"
   ]
  },
  {
   "cell_type": "code",
   "execution_count": 4,
   "metadata": {},
   "outputs": [
    {
     "output_type": "execute_result",
     "data": {
      "text/plain": [
       "   20200101 life-style.events  \\\n",
       "0  20200101  city.bhubaneswar   \n",
       "1  20200101    city.hyderabad   \n",
       "2  20200101    city.hyderabad   \n",
       "3  20200101          city.koc   \n",
       "4  20200101    city.hyderabad   \n",
       "\n",
       "  Happy New Year 2020: Images; Quotes; Wishes; Messages; Cards; Greetings; Pictures; GIFs and Wallpapers  \n",
       "0      Bone-clling cold wavecontinues to sweep state                                                      \n",
       "1                    T gained 163 sq km forest cover                                                      \n",
       "2                    Draft electoral rolls published                                                      \n",
       "3  Invasive species increasing in Kerala's core f...                                                      \n",
       "4                Onion price in Hyd dips to Rs 90/kg                                                      "
      ],
      "text/html": "<div>\n<style scoped>\n    .dataframe tbody tr th:only-of-type {\n        vertical-align: middle;\n    }\n\n    .dataframe tbody tr th {\n        vertical-align: top;\n    }\n\n    .dataframe thead th {\n        text-align: right;\n    }\n</style>\n<table border=\"1\" class=\"dataframe\">\n  <thead>\n    <tr style=\"text-align: right;\">\n      <th></th>\n      <th>20200101</th>\n      <th>life-style.events</th>\n      <th>Happy New Year 2020: Images; Quotes; Wishes; Messages; Cards; Greetings; Pictures; GIFs and Wallpapers</th>\n    </tr>\n  </thead>\n  <tbody>\n    <tr>\n      <th>0</th>\n      <td>20200101</td>\n      <td>city.bhubaneswar</td>\n      <td>Bone-clling cold wavecontinues to sweep state</td>\n    </tr>\n    <tr>\n      <th>1</th>\n      <td>20200101</td>\n      <td>city.hyderabad</td>\n      <td>T gained 163 sq km forest cover</td>\n    </tr>\n    <tr>\n      <th>2</th>\n      <td>20200101</td>\n      <td>city.hyderabad</td>\n      <td>Draft electoral rolls published</td>\n    </tr>\n    <tr>\n      <th>3</th>\n      <td>20200101</td>\n      <td>city.koc</td>\n      <td>Invasive species increasing in Kerala's core f...</td>\n    </tr>\n    <tr>\n      <th>4</th>\n      <td>20200101</td>\n      <td>city.hyderabad</td>\n      <td>Onion price in Hyd dips to Rs 90/kg</td>\n    </tr>\n  </tbody>\n</table>\n</div>"
     },
     "metadata": {},
     "execution_count": 4
    }
   ],
   "source": [
    " df2.head()"
   ]
  },
  {
   "cell_type": "code",
   "execution_count": 5,
   "metadata": {},
   "outputs": [
    {
     "output_type": "execute_result",
     "data": {
      "text/plain": [
       "(1258, 15)"
      ]
     },
     "metadata": {},
     "execution_count": 5
    }
   ],
   "source": [
    "df1.shape"
   ]
  },
  {
   "cell_type": "code",
   "execution_count": 6,
   "metadata": {},
   "outputs": [
    {
     "output_type": "execute_result",
     "data": {
      "text/plain": [
       "(90872, 3)"
      ]
     },
     "metadata": {},
     "execution_count": 6
    }
   ],
   "source": [
    "df2.shape"
   ]
  },
  {
   "cell_type": "code",
   "execution_count": 7,
   "metadata": {},
   "outputs": [
    {
     "output_type": "execute_result",
     "data": {
      "text/plain": [
       "Unnamed: 0     1258\n",
       "symbol            1\n",
       "date           1258\n",
       "close          1201\n",
       "high           1196\n",
       "low            1209\n",
       "open           1205\n",
       "volume         1258\n",
       "adjClose       1240\n",
       "adjHigh        1237\n",
       "adjLow         1238\n",
       "adjOpen        1237\n",
       "adjVolume      1258\n",
       "divCash           7\n",
       "splitFactor       1\n",
       "dtype: int64"
      ]
     },
     "metadata": {},
     "execution_count": 7
    }
   ],
   "source": [
    "df1.nunique()"
   ]
  },
  {
   "cell_type": "code",
   "execution_count": 8,
   "metadata": {},
   "outputs": [
    {
     "output_type": "execute_result",
     "data": {
      "text/plain": [
       "20200101                                                                                                    182\n",
       "life-style.events                                                                                           256\n",
       "Happy New Year 2020: Images; Quotes; Wishes; Messages; Cards; Greetings; Pictures; GIFs and Wallpapers    87856\n",
       "dtype: int64"
      ]
     },
     "metadata": {},
     "execution_count": 8
    }
   ],
   "source": [
    "df2.nunique()"
   ]
  },
  {
   "cell_type": "code",
   "execution_count": 9,
   "metadata": {},
   "outputs": [
    {
     "output_type": "stream",
     "name": "stdout",
     "text": [
      "<class 'pandas.core.frame.DataFrame'>\nRangeIndex: 1258 entries, 0 to 1257\nData columns (total 15 columns):\n #   Column       Non-Null Count  Dtype  \n---  ------       --------------  -----  \n 0   Unnamed: 0   1258 non-null   int64  \n 1   symbol       1258 non-null   object \n 2   date         1258 non-null   object \n 3   close        1258 non-null   float64\n 4   high         1258 non-null   float64\n 5   low          1258 non-null   float64\n 6   open         1258 non-null   float64\n 7   volume       1258 non-null   int64  \n 8   adjClose     1258 non-null   float64\n 9   adjHigh      1258 non-null   float64\n 10  adjLow       1258 non-null   float64\n 11  adjOpen      1258 non-null   float64\n 12  adjVolume    1258 non-null   int64  \n 13  divCash      1258 non-null   float64\n 14  splitFactor  1258 non-null   float64\ndtypes: float64(10), int64(3), object(2)\nmemory usage: 147.5+ KB\n"
     ]
    }
   ],
   "source": [
    "df1.info()"
   ]
  },
  {
   "cell_type": "code",
   "execution_count": 10,
   "metadata": {},
   "outputs": [
    {
     "output_type": "execute_result",
     "data": {
      "text/plain": [
       "(Unnamed: 0     False\n",
       " symbol         False\n",
       " date           False\n",
       " close          False\n",
       " high           False\n",
       " low            False\n",
       " open           False\n",
       " volume         False\n",
       " adjClose       False\n",
       " adjHigh        False\n",
       " adjLow         False\n",
       " adjOpen        False\n",
       " adjVolume      False\n",
       " divCash        False\n",
       " splitFactor    False\n",
       " dtype: bool,\n",
       " 20200101                                                                                                  False\n",
       " life-style.events                                                                                         False\n",
       " Happy New Year 2020: Images; Quotes; Wishes; Messages; Cards; Greetings; Pictures; GIFs and Wallpapers    False\n",
       " dtype: bool)"
      ]
     },
     "metadata": {},
     "execution_count": 10
    }
   ],
   "source": [
    "df1.isna().any(), df2.isna().any()"
   ]
  },
  {
   "cell_type": "code",
   "execution_count": 11,
   "metadata": {},
   "outputs": [
    {
     "output_type": "execute_result",
     "data": {
      "text/plain": [
       "      Unnamed: 0 symbol                       date    close     high  \\\n",
       "0              0   AAPL  2015-05-27 00:00:00+00:00  132.045  132.260   \n",
       "1              1   AAPL  2015-05-28 00:00:00+00:00  131.780  131.950   \n",
       "2              2   AAPL  2015-05-29 00:00:00+00:00  130.280  131.450   \n",
       "3              3   AAPL  2015-06-01 00:00:00+00:00  130.535  131.390   \n",
       "4              4   AAPL  2015-06-02 00:00:00+00:00  129.960  130.655   \n",
       "...          ...    ...                        ...      ...      ...   \n",
       "1253        1253   AAPL  2020-05-18 00:00:00+00:00  314.960  316.500   \n",
       "1254        1254   AAPL  2020-05-19 00:00:00+00:00  313.140  318.520   \n",
       "1255        1255   AAPL  2020-05-20 00:00:00+00:00  319.230  319.520   \n",
       "1256        1256   AAPL  2020-05-21 00:00:00+00:00  316.850  320.890   \n",
       "1257        1257   AAPL  2020-05-22 00:00:00+00:00  318.890  319.230   \n",
       "\n",
       "           low    open    volume    adjClose     adjHigh      adjLow  \\\n",
       "0     130.0500  130.34  45833246  121.682558  121.880685  119.844118   \n",
       "1     131.1000  131.86  30733309  121.438354  121.595013  120.811718   \n",
       "2     129.9000  131.23  50884452  120.056069  121.134251  119.705890   \n",
       "3     130.0500  131.20  32112797  120.291057  121.078960  119.844118   \n",
       "4     129.3200  129.86  33667627  119.761181  120.401640  119.171406   \n",
       "...        ...     ...       ...         ...         ...         ...   \n",
       "1253  310.3241  313.17  33843125  314.960000  316.500000  310.324100   \n",
       "1254  313.0100  315.03  25432385  313.140000  318.520000  313.010000   \n",
       "1255  316.2000  316.68  27876215  319.230000  319.520000  316.200000   \n",
       "1256  315.8700  318.66  25672211  316.850000  320.890000  315.870000   \n",
       "1257  315.3500  315.77  20450754  318.890000  319.230000  315.350000   \n",
       "\n",
       "         adjOpen  adjVolume  divCash  splitFactor  \n",
       "0     120.111360   45833246      0.0          1.0  \n",
       "1     121.512076   30733309      0.0          1.0  \n",
       "2     120.931516   50884452      0.0          1.0  \n",
       "3     120.903870   32112797      0.0          1.0  \n",
       "4     119.669029   33667627      0.0          1.0  \n",
       "...          ...        ...      ...          ...  \n",
       "1253  313.170000   33843125      0.0          1.0  \n",
       "1254  315.030000   25432385      0.0          1.0  \n",
       "1255  316.680000   27876215      0.0          1.0  \n",
       "1256  318.660000   25672211      0.0          1.0  \n",
       "1257  315.770000   20450754      0.0          1.0  \n",
       "\n",
       "[1258 rows x 15 columns]"
      ],
      "text/html": "<div>\n<style scoped>\n    .dataframe tbody tr th:only-of-type {\n        vertical-align: middle;\n    }\n\n    .dataframe tbody tr th {\n        vertical-align: top;\n    }\n\n    .dataframe thead th {\n        text-align: right;\n    }\n</style>\n<table border=\"1\" class=\"dataframe\">\n  <thead>\n    <tr style=\"text-align: right;\">\n      <th></th>\n      <th>Unnamed: 0</th>\n      <th>symbol</th>\n      <th>date</th>\n      <th>close</th>\n      <th>high</th>\n      <th>low</th>\n      <th>open</th>\n      <th>volume</th>\n      <th>adjClose</th>\n      <th>adjHigh</th>\n      <th>adjLow</th>\n      <th>adjOpen</th>\n      <th>adjVolume</th>\n      <th>divCash</th>\n      <th>splitFactor</th>\n    </tr>\n  </thead>\n  <tbody>\n    <tr>\n      <th>0</th>\n      <td>0</td>\n      <td>AAPL</td>\n      <td>2015-05-27 00:00:00+00:00</td>\n      <td>132.045</td>\n      <td>132.260</td>\n      <td>130.0500</td>\n      <td>130.34</td>\n      <td>45833246</td>\n      <td>121.682558</td>\n      <td>121.880685</td>\n      <td>119.844118</td>\n      <td>120.111360</td>\n      <td>45833246</td>\n      <td>0.0</td>\n      <td>1.0</td>\n    </tr>\n    <tr>\n      <th>1</th>\n      <td>1</td>\n      <td>AAPL</td>\n      <td>2015-05-28 00:00:00+00:00</td>\n      <td>131.780</td>\n      <td>131.950</td>\n      <td>131.1000</td>\n      <td>131.86</td>\n      <td>30733309</td>\n      <td>121.438354</td>\n      <td>121.595013</td>\n      <td>120.811718</td>\n      <td>121.512076</td>\n      <td>30733309</td>\n      <td>0.0</td>\n      <td>1.0</td>\n    </tr>\n    <tr>\n      <th>2</th>\n      <td>2</td>\n      <td>AAPL</td>\n      <td>2015-05-29 00:00:00+00:00</td>\n      <td>130.280</td>\n      <td>131.450</td>\n      <td>129.9000</td>\n      <td>131.23</td>\n      <td>50884452</td>\n      <td>120.056069</td>\n      <td>121.134251</td>\n      <td>119.705890</td>\n      <td>120.931516</td>\n      <td>50884452</td>\n      <td>0.0</td>\n      <td>1.0</td>\n    </tr>\n    <tr>\n      <th>3</th>\n      <td>3</td>\n      <td>AAPL</td>\n      <td>2015-06-01 00:00:00+00:00</td>\n      <td>130.535</td>\n      <td>131.390</td>\n      <td>130.0500</td>\n      <td>131.20</td>\n      <td>32112797</td>\n      <td>120.291057</td>\n      <td>121.078960</td>\n      <td>119.844118</td>\n      <td>120.903870</td>\n      <td>32112797</td>\n      <td>0.0</td>\n      <td>1.0</td>\n    </tr>\n    <tr>\n      <th>4</th>\n      <td>4</td>\n      <td>AAPL</td>\n      <td>2015-06-02 00:00:00+00:00</td>\n      <td>129.960</td>\n      <td>130.655</td>\n      <td>129.3200</td>\n      <td>129.86</td>\n      <td>33667627</td>\n      <td>119.761181</td>\n      <td>120.401640</td>\n      <td>119.171406</td>\n      <td>119.669029</td>\n      <td>33667627</td>\n      <td>0.0</td>\n      <td>1.0</td>\n    </tr>\n    <tr>\n      <th>...</th>\n      <td>...</td>\n      <td>...</td>\n      <td>...</td>\n      <td>...</td>\n      <td>...</td>\n      <td>...</td>\n      <td>...</td>\n      <td>...</td>\n      <td>...</td>\n      <td>...</td>\n      <td>...</td>\n      <td>...</td>\n      <td>...</td>\n      <td>...</td>\n      <td>...</td>\n    </tr>\n    <tr>\n      <th>1253</th>\n      <td>1253</td>\n      <td>AAPL</td>\n      <td>2020-05-18 00:00:00+00:00</td>\n      <td>314.960</td>\n      <td>316.500</td>\n      <td>310.3241</td>\n      <td>313.17</td>\n      <td>33843125</td>\n      <td>314.960000</td>\n      <td>316.500000</td>\n      <td>310.324100</td>\n      <td>313.170000</td>\n      <td>33843125</td>\n      <td>0.0</td>\n      <td>1.0</td>\n    </tr>\n    <tr>\n      <th>1254</th>\n      <td>1254</td>\n      <td>AAPL</td>\n      <td>2020-05-19 00:00:00+00:00</td>\n      <td>313.140</td>\n      <td>318.520</td>\n      <td>313.0100</td>\n      <td>315.03</td>\n      <td>25432385</td>\n      <td>313.140000</td>\n      <td>318.520000</td>\n      <td>313.010000</td>\n      <td>315.030000</td>\n      <td>25432385</td>\n      <td>0.0</td>\n      <td>1.0</td>\n    </tr>\n    <tr>\n      <th>1255</th>\n      <td>1255</td>\n      <td>AAPL</td>\n      <td>2020-05-20 00:00:00+00:00</td>\n      <td>319.230</td>\n      <td>319.520</td>\n      <td>316.2000</td>\n      <td>316.68</td>\n      <td>27876215</td>\n      <td>319.230000</td>\n      <td>319.520000</td>\n      <td>316.200000</td>\n      <td>316.680000</td>\n      <td>27876215</td>\n      <td>0.0</td>\n      <td>1.0</td>\n    </tr>\n    <tr>\n      <th>1256</th>\n      <td>1256</td>\n      <td>AAPL</td>\n      <td>2020-05-21 00:00:00+00:00</td>\n      <td>316.850</td>\n      <td>320.890</td>\n      <td>315.8700</td>\n      <td>318.66</td>\n      <td>25672211</td>\n      <td>316.850000</td>\n      <td>320.890000</td>\n      <td>315.870000</td>\n      <td>318.660000</td>\n      <td>25672211</td>\n      <td>0.0</td>\n      <td>1.0</td>\n    </tr>\n    <tr>\n      <th>1257</th>\n      <td>1257</td>\n      <td>AAPL</td>\n      <td>2020-05-22 00:00:00+00:00</td>\n      <td>318.890</td>\n      <td>319.230</td>\n      <td>315.3500</td>\n      <td>315.77</td>\n      <td>20450754</td>\n      <td>318.890000</td>\n      <td>319.230000</td>\n      <td>315.350000</td>\n      <td>315.770000</td>\n      <td>20450754</td>\n      <td>0.0</td>\n      <td>1.0</td>\n    </tr>\n  </tbody>\n</table>\n<p>1258 rows × 15 columns</p>\n</div>"
     },
     "metadata": {},
     "execution_count": 11
    }
   ],
   "source": [
    "df1.drop_duplicates()"
   ]
  },
  {
   "cell_type": "code",
   "execution_count": 12,
   "metadata": {},
   "outputs": [
    {
     "output_type": "execute_result",
     "data": {
      "text/plain": [
       "       20200101                 life-style.events  \\\n",
       "0      20200101                  city.bhubaneswar   \n",
       "1      20200101                    city.hyderabad   \n",
       "2      20200101                    city.hyderabad   \n",
       "3      20200101                          city.koc   \n",
       "4      20200101                    city.hyderabad   \n",
       "...         ...                               ...   \n",
       "90867  20200630                      gadgets-news   \n",
       "90868  20200630       entertainment.ndi.bollywood   \n",
       "90869  20200630       entertainment.ndi.bollywood   \n",
       "90870  20200630       entertainment.ndi.bollywood   \n",
       "90871  20200630  entertainment.telugu.movies.news   \n",
       "\n",
       "      Happy New Year 2020: Images; Quotes; Wishes; Messages; Cards; Greetings; Pictures; GIFs and Wallpapers  \n",
       "0          Bone-clling cold wavecontinues to sweep state                                                      \n",
       "1                        T gained 163 sq km forest cover                                                      \n",
       "2                        Draft electoral rolls published                                                      \n",
       "3      Invasive species increasing in Kerala's core f...                                                      \n",
       "4                    Onion price in Hyd dips to Rs 90/kg                                                      \n",
       "...                                                  ...                                                      \n",
       "90867      why tiktok removed 1 65 crore videos in india                                                      \n",
       "90868  apurva asrani calls alia bhatts mother soni ra...                                                      \n",
       "90869  kangana ranaut gets a doll version of herself ...                                                      \n",
       "90870  meezaan jaffrey reminisces s cldhood days with...                                                      \n",
       "90871  prabhas20 titled as radhe shyam prabhas and po...                                                      \n",
       "\n",
       "[90573 rows x 3 columns]"
      ],
      "text/html": "<div>\n<style scoped>\n    .dataframe tbody tr th:only-of-type {\n        vertical-align: middle;\n    }\n\n    .dataframe tbody tr th {\n        vertical-align: top;\n    }\n\n    .dataframe thead th {\n        text-align: right;\n    }\n</style>\n<table border=\"1\" class=\"dataframe\">\n  <thead>\n    <tr style=\"text-align: right;\">\n      <th></th>\n      <th>20200101</th>\n      <th>life-style.events</th>\n      <th>Happy New Year 2020: Images; Quotes; Wishes; Messages; Cards; Greetings; Pictures; GIFs and Wallpapers</th>\n    </tr>\n  </thead>\n  <tbody>\n    <tr>\n      <th>0</th>\n      <td>20200101</td>\n      <td>city.bhubaneswar</td>\n      <td>Bone-clling cold wavecontinues to sweep state</td>\n    </tr>\n    <tr>\n      <th>1</th>\n      <td>20200101</td>\n      <td>city.hyderabad</td>\n      <td>T gained 163 sq km forest cover</td>\n    </tr>\n    <tr>\n      <th>2</th>\n      <td>20200101</td>\n      <td>city.hyderabad</td>\n      <td>Draft electoral rolls published</td>\n    </tr>\n    <tr>\n      <th>3</th>\n      <td>20200101</td>\n      <td>city.koc</td>\n      <td>Invasive species increasing in Kerala's core f...</td>\n    </tr>\n    <tr>\n      <th>4</th>\n      <td>20200101</td>\n      <td>city.hyderabad</td>\n      <td>Onion price in Hyd dips to Rs 90/kg</td>\n    </tr>\n    <tr>\n      <th>...</th>\n      <td>...</td>\n      <td>...</td>\n      <td>...</td>\n    </tr>\n    <tr>\n      <th>90867</th>\n      <td>20200630</td>\n      <td>gadgets-news</td>\n      <td>why tiktok removed 1 65 crore videos in india</td>\n    </tr>\n    <tr>\n      <th>90868</th>\n      <td>20200630</td>\n      <td>entertainment.ndi.bollywood</td>\n      <td>apurva asrani calls alia bhatts mother soni ra...</td>\n    </tr>\n    <tr>\n      <th>90869</th>\n      <td>20200630</td>\n      <td>entertainment.ndi.bollywood</td>\n      <td>kangana ranaut gets a doll version of herself ...</td>\n    </tr>\n    <tr>\n      <th>90870</th>\n      <td>20200630</td>\n      <td>entertainment.ndi.bollywood</td>\n      <td>meezaan jaffrey reminisces s cldhood days with...</td>\n    </tr>\n    <tr>\n      <th>90871</th>\n      <td>20200630</td>\n      <td>entertainment.telugu.movies.news</td>\n      <td>prabhas20 titled as radhe shyam prabhas and po...</td>\n    </tr>\n  </tbody>\n</table>\n<p>90573 rows × 3 columns</p>\n</div>"
     },
     "metadata": {},
     "execution_count": 12
    }
   ],
   "source": [
    "df2.drop_duplicates()"
   ]
  },
  {
   "cell_type": "code",
   "execution_count": 13,
   "metadata": {},
   "outputs": [
    {
     "output_type": "execute_result",
     "data": {
      "text/plain": [
       "                             close    open     high       low    volume\n",
       "date                                                                   \n",
       "2015-05-27 00:00:00+00:00  132.045  130.34  132.260  130.0500  45833246\n",
       "2015-05-28 00:00:00+00:00  131.780  131.86  131.950  131.1000  30733309\n",
       "2015-05-29 00:00:00+00:00  130.280  131.23  131.450  129.9000  50884452\n",
       "2015-06-01 00:00:00+00:00  130.535  131.20  131.390  130.0500  32112797\n",
       "2015-06-02 00:00:00+00:00  129.960  129.86  130.655  129.3200  33667627\n",
       "...                            ...     ...      ...       ...       ...\n",
       "2020-05-18 00:00:00+00:00  314.960  313.17  316.500  310.3241  33843125\n",
       "2020-05-19 00:00:00+00:00  313.140  315.03  318.520  313.0100  25432385\n",
       "2020-05-20 00:00:00+00:00  319.230  316.68  319.520  316.2000  27876215\n",
       "2020-05-21 00:00:00+00:00  316.850  318.66  320.890  315.8700  25672211\n",
       "2020-05-22 00:00:00+00:00  318.890  315.77  319.230  315.3500  20450754\n",
       "\n",
       "[1258 rows x 5 columns]"
      ],
      "text/html": "<div>\n<style scoped>\n    .dataframe tbody tr th:only-of-type {\n        vertical-align: middle;\n    }\n\n    .dataframe tbody tr th {\n        vertical-align: top;\n    }\n\n    .dataframe thead th {\n        text-align: right;\n    }\n</style>\n<table border=\"1\" class=\"dataframe\">\n  <thead>\n    <tr style=\"text-align: right;\">\n      <th></th>\n      <th>close</th>\n      <th>open</th>\n      <th>high</th>\n      <th>low</th>\n      <th>volume</th>\n    </tr>\n    <tr>\n      <th>date</th>\n      <th></th>\n      <th></th>\n      <th></th>\n      <th></th>\n      <th></th>\n    </tr>\n  </thead>\n  <tbody>\n    <tr>\n      <th>2015-05-27 00:00:00+00:00</th>\n      <td>132.045</td>\n      <td>130.34</td>\n      <td>132.260</td>\n      <td>130.0500</td>\n      <td>45833246</td>\n    </tr>\n    <tr>\n      <th>2015-05-28 00:00:00+00:00</th>\n      <td>131.780</td>\n      <td>131.86</td>\n      <td>131.950</td>\n      <td>131.1000</td>\n      <td>30733309</td>\n    </tr>\n    <tr>\n      <th>2015-05-29 00:00:00+00:00</th>\n      <td>130.280</td>\n      <td>131.23</td>\n      <td>131.450</td>\n      <td>129.9000</td>\n      <td>50884452</td>\n    </tr>\n    <tr>\n      <th>2015-06-01 00:00:00+00:00</th>\n      <td>130.535</td>\n      <td>131.20</td>\n      <td>131.390</td>\n      <td>130.0500</td>\n      <td>32112797</td>\n    </tr>\n    <tr>\n      <th>2015-06-02 00:00:00+00:00</th>\n      <td>129.960</td>\n      <td>129.86</td>\n      <td>130.655</td>\n      <td>129.3200</td>\n      <td>33667627</td>\n    </tr>\n    <tr>\n      <th>...</th>\n      <td>...</td>\n      <td>...</td>\n      <td>...</td>\n      <td>...</td>\n      <td>...</td>\n    </tr>\n    <tr>\n      <th>2020-05-18 00:00:00+00:00</th>\n      <td>314.960</td>\n      <td>313.17</td>\n      <td>316.500</td>\n      <td>310.3241</td>\n      <td>33843125</td>\n    </tr>\n    <tr>\n      <th>2020-05-19 00:00:00+00:00</th>\n      <td>313.140</td>\n      <td>315.03</td>\n      <td>318.520</td>\n      <td>313.0100</td>\n      <td>25432385</td>\n    </tr>\n    <tr>\n      <th>2020-05-20 00:00:00+00:00</th>\n      <td>319.230</td>\n      <td>316.68</td>\n      <td>319.520</td>\n      <td>316.2000</td>\n      <td>27876215</td>\n    </tr>\n    <tr>\n      <th>2020-05-21 00:00:00+00:00</th>\n      <td>316.850</td>\n      <td>318.66</td>\n      <td>320.890</td>\n      <td>315.8700</td>\n      <td>25672211</td>\n    </tr>\n    <tr>\n      <th>2020-05-22 00:00:00+00:00</th>\n      <td>318.890</td>\n      <td>315.77</td>\n      <td>319.230</td>\n      <td>315.3500</td>\n      <td>20450754</td>\n    </tr>\n  </tbody>\n</table>\n<p>1258 rows × 5 columns</p>\n</div>"
     },
     "metadata": {},
     "execution_count": 13
    }
   ],
   "source": [
    "# dropping duplicates\n",
    "df1 = df1.drop_duplicates()\n",
    "\n",
    "# coverting the datatype of column 'Date' from type object to type 'datetime'\n",
    "df1['date'] = pd.to_datetime(df1['date']).dt.normalize()\n",
    "\n",
    "# filtering the important columns required\n",
    "df1 = df1.filter(['date', 'close', 'open', 'high', 'low', 'volume'])\n",
    "\n",
    "# setting column 'Date' as the index column\n",
    "df1.set_index('date', inplace= True)\n",
    "\n",
    "# sorting the data according to the index i.e 'Date'\n",
    "df1 = df1.sort_index(ascending=True, axis=0)\n",
    "df1"
   ]
  },
  {
   "cell_type": "code",
   "execution_count": 14,
   "metadata": {},
   "outputs": [
    {
     "output_type": "execute_result",
     "data": {
      "text/plain": [
       "Text(0, 0.5, 'close Price ($)')"
      ]
     },
     "metadata": {},
     "execution_count": 14
    },
    {
     "output_type": "display_data",
     "data": {
      "text/plain": "<Figure size 1080x720 with 1 Axes>",
      "image/svg+xml": "<?xml version=\"1.0\" encoding=\"utf-8\" standalone=\"no\"?>\r\n<!DOCTYPE svg PUBLIC \"-//W3C//DTD SVG 1.1//EN\"\r\n  \"http://www.w3.org/Graphics/SVG/1.1/DTD/svg11.dtd\">\r\n<!-- Created with matplotlib (https://matplotlib.org/) -->\r\n<svg height=\"560.902752pt\" version=\"1.1\" viewBox=\"0 0 891.165625 560.902752\" width=\"891.165625pt\" xmlns=\"http://www.w3.org/2000/svg\" xmlns:xlink=\"http://www.w3.org/1999/xlink\">\r\n <metadata>\r\n  <rdf:RDF xmlns:cc=\"http://creativecommons.org/ns#\" xmlns:dc=\"http://purl.org/dc/elements/1.1/\" xmlns:rdf=\"http://www.w3.org/1999/02/22-rdf-syntax-ns#\">\r\n   <cc:Work>\r\n    <dc:type rdf:resource=\"http://purl.org/dc/dcmitype/StillImage\"/>\r\n    <dc:date>2021-05-07T21:32:54.763489</dc:date>\r\n    <dc:format>image/svg+xml</dc:format>\r\n    <dc:creator>\r\n     <cc:Agent>\r\n      <dc:title>Matplotlib v3.3.4, https://matplotlib.org/</dc:title>\r\n     </cc:Agent>\r\n    </dc:creator>\r\n   </cc:Work>\r\n  </rdf:RDF>\r\n </metadata>\r\n <defs>\r\n  <style type=\"text/css\">*{stroke-linecap:butt;stroke-linejoin:round;}</style>\r\n </defs>\r\n <g id=\"figure_1\">\r\n  <g id=\"patch_1\">\r\n   <path d=\"M 0 560.902752 \r\nL 891.165625 560.902752 \r\nL 891.165625 -0 \r\nL 0 -0 \r\nz\r\n\" style=\"fill:none;\"/>\r\n  </g>\r\n  <g id=\"axes_1\">\r\n   <g id=\"patch_2\">\r\n    <path d=\"M 46.965625 511.918125 \r\nL 883.965625 511.918125 \r\nL 883.965625 22.318125 \r\nL 46.965625 22.318125 \r\nz\r\n\" style=\"fill:#ffffff;\"/>\r\n   </g>\r\n   <g id=\"matplotlib.axis_1\">\r\n    <g id=\"xtick_1\">\r\n     <g id=\"line2d_1\">\r\n      <defs>\r\n       <path d=\"M 0 0 \r\nL 0 3.5 \r\n\" id=\"m8084f5840b\" style=\"stroke:#000000;stroke-width:0.8;\"/>\r\n      </defs>\r\n      <g>\r\n       <use style=\"stroke:#000000;stroke-width:0.8;\" x=\"176.470515\" xlink:href=\"#m8084f5840b\" y=\"511.918125\"/>\r\n      </g>\r\n     </g>\r\n     <g id=\"text_1\">\r\n      <!-- 2016 -->\r\n      <g transform=\"translate(153.390324 538.223565)rotate(-30)scale(0.1 -0.1)\">\r\n       <defs>\r\n        <path d=\"M 19.1875 8.296875 \r\nL 53.609375 8.296875 \r\nL 53.609375 0 \r\nL 7.328125 0 \r\nL 7.328125 8.296875 \r\nQ 12.9375 14.109375 22.625 23.890625 \r\nQ 32.328125 33.6875 34.8125 36.53125 \r\nQ 39.546875 41.84375 41.421875 45.53125 \r\nQ 43.3125 49.21875 43.3125 52.78125 \r\nQ 43.3125 58.59375 39.234375 62.25 \r\nQ 35.15625 65.921875 28.609375 65.921875 \r\nQ 23.96875 65.921875 18.8125 64.3125 \r\nQ 13.671875 62.703125 7.8125 59.421875 \r\nL 7.8125 69.390625 \r\nQ 13.765625 71.78125 18.9375 73 \r\nQ 24.125 74.21875 28.421875 74.21875 \r\nQ 39.75 74.21875 46.484375 68.546875 \r\nQ 53.21875 62.890625 53.21875 53.421875 \r\nQ 53.21875 48.921875 51.53125 44.890625 \r\nQ 49.859375 40.875 45.40625 35.40625 \r\nQ 44.1875 33.984375 37.640625 27.21875 \r\nQ 31.109375 20.453125 19.1875 8.296875 \r\nz\r\n\" id=\"DejaVuSans-50\"/>\r\n        <path d=\"M 31.78125 66.40625 \r\nQ 24.171875 66.40625 20.328125 58.90625 \r\nQ 16.5 51.421875 16.5 36.375 \r\nQ 16.5 21.390625 20.328125 13.890625 \r\nQ 24.171875 6.390625 31.78125 6.390625 \r\nQ 39.453125 6.390625 43.28125 13.890625 \r\nQ 47.125 21.390625 47.125 36.375 \r\nQ 47.125 51.421875 43.28125 58.90625 \r\nQ 39.453125 66.40625 31.78125 66.40625 \r\nz\r\nM 31.78125 74.21875 \r\nQ 44.046875 74.21875 50.515625 64.515625 \r\nQ 56.984375 54.828125 56.984375 36.375 \r\nQ 56.984375 17.96875 50.515625 8.265625 \r\nQ 44.046875 -1.421875 31.78125 -1.421875 \r\nQ 19.53125 -1.421875 13.0625 8.265625 \r\nQ 6.59375 17.96875 6.59375 36.375 \r\nQ 6.59375 54.828125 13.0625 64.515625 \r\nQ 19.53125 74.21875 31.78125 74.21875 \r\nz\r\n\" id=\"DejaVuSans-48\"/>\r\n        <path d=\"M 12.40625 8.296875 \r\nL 28.515625 8.296875 \r\nL 28.515625 63.921875 \r\nL 10.984375 60.40625 \r\nL 10.984375 69.390625 \r\nL 28.421875 72.90625 \r\nL 38.28125 72.90625 \r\nL 38.28125 8.296875 \r\nL 54.390625 8.296875 \r\nL 54.390625 0 \r\nL 12.40625 0 \r\nz\r\n\" id=\"DejaVuSans-49\"/>\r\n        <path d=\"M 33.015625 40.375 \r\nQ 26.375 40.375 22.484375 35.828125 \r\nQ 18.609375 31.296875 18.609375 23.390625 \r\nQ 18.609375 15.53125 22.484375 10.953125 \r\nQ 26.375 6.390625 33.015625 6.390625 \r\nQ 39.65625 6.390625 43.53125 10.953125 \r\nQ 47.40625 15.53125 47.40625 23.390625 \r\nQ 47.40625 31.296875 43.53125 35.828125 \r\nQ 39.65625 40.375 33.015625 40.375 \r\nz\r\nM 52.59375 71.296875 \r\nL 52.59375 62.3125 \r\nQ 48.875 64.0625 45.09375 64.984375 \r\nQ 41.3125 65.921875 37.59375 65.921875 \r\nQ 27.828125 65.921875 22.671875 59.328125 \r\nQ 17.53125 52.734375 16.796875 39.40625 \r\nQ 19.671875 43.65625 24.015625 45.921875 \r\nQ 28.375 48.1875 33.59375 48.1875 \r\nQ 44.578125 48.1875 50.953125 41.515625 \r\nQ 57.328125 34.859375 57.328125 23.390625 \r\nQ 57.328125 12.15625 50.6875 5.359375 \r\nQ 44.046875 -1.421875 33.015625 -1.421875 \r\nQ 20.359375 -1.421875 13.671875 8.265625 \r\nQ 6.984375 17.96875 6.984375 36.375 \r\nQ 6.984375 53.65625 15.1875 63.9375 \r\nQ 23.390625 74.21875 37.203125 74.21875 \r\nQ 40.921875 74.21875 44.703125 73.484375 \r\nQ 48.484375 72.75 52.59375 71.296875 \r\nz\r\n\" id=\"DejaVuSans-54\"/>\r\n       </defs>\r\n       <use xlink:href=\"#DejaVuSans-50\"/>\r\n       <use x=\"63.623047\" xlink:href=\"#DejaVuSans-48\"/>\r\n       <use x=\"127.246094\" xlink:href=\"#DejaVuSans-49\"/>\r\n       <use x=\"190.869141\" xlink:href=\"#DejaVuSans-54\"/>\r\n      </g>\r\n     </g>\r\n    </g>\r\n    <g id=\"xtick_2\">\r\n     <g id=\"line2d_2\">\r\n      <g>\r\n       <use style=\"stroke:#000000;stroke-width:0.8;\" x=\"329.32053\" xlink:href=\"#m8084f5840b\" y=\"511.918125\"/>\r\n      </g>\r\n     </g>\r\n     <g id=\"text_2\">\r\n      <!-- 2017 -->\r\n      <g transform=\"translate(306.240339 538.223565)rotate(-30)scale(0.1 -0.1)\">\r\n       <defs>\r\n        <path d=\"M 8.203125 72.90625 \r\nL 55.078125 72.90625 \r\nL 55.078125 68.703125 \r\nL 28.609375 0 \r\nL 18.3125 0 \r\nL 43.21875 64.59375 \r\nL 8.203125 64.59375 \r\nz\r\n\" id=\"DejaVuSans-55\"/>\r\n       </defs>\r\n       <use xlink:href=\"#DejaVuSans-50\"/>\r\n       <use x=\"63.623047\" xlink:href=\"#DejaVuSans-48\"/>\r\n       <use x=\"127.246094\" xlink:href=\"#DejaVuSans-49\"/>\r\n       <use x=\"190.869141\" xlink:href=\"#DejaVuSans-55\"/>\r\n      </g>\r\n     </g>\r\n    </g>\r\n    <g id=\"xtick_3\">\r\n     <g id=\"line2d_3\">\r\n      <g>\r\n       <use style=\"stroke:#000000;stroke-width:0.8;\" x=\"481.752922\" xlink:href=\"#m8084f5840b\" y=\"511.918125\"/>\r\n      </g>\r\n     </g>\r\n     <g id=\"text_3\">\r\n      <!-- 2018 -->\r\n      <g transform=\"translate(458.672731 538.223565)rotate(-30)scale(0.1 -0.1)\">\r\n       <defs>\r\n        <path d=\"M 31.78125 34.625 \r\nQ 24.75 34.625 20.71875 30.859375 \r\nQ 16.703125 27.09375 16.703125 20.515625 \r\nQ 16.703125 13.921875 20.71875 10.15625 \r\nQ 24.75 6.390625 31.78125 6.390625 \r\nQ 38.8125 6.390625 42.859375 10.171875 \r\nQ 46.921875 13.96875 46.921875 20.515625 \r\nQ 46.921875 27.09375 42.890625 30.859375 \r\nQ 38.875 34.625 31.78125 34.625 \r\nz\r\nM 21.921875 38.8125 \r\nQ 15.578125 40.375 12.03125 44.71875 \r\nQ 8.5 49.078125 8.5 55.328125 \r\nQ 8.5 64.0625 14.71875 69.140625 \r\nQ 20.953125 74.21875 31.78125 74.21875 \r\nQ 42.671875 74.21875 48.875 69.140625 \r\nQ 55.078125 64.0625 55.078125 55.328125 \r\nQ 55.078125 49.078125 51.53125 44.71875 \r\nQ 48 40.375 41.703125 38.8125 \r\nQ 48.828125 37.15625 52.796875 32.3125 \r\nQ 56.78125 27.484375 56.78125 20.515625 \r\nQ 56.78125 9.90625 50.3125 4.234375 \r\nQ 43.84375 -1.421875 31.78125 -1.421875 \r\nQ 19.734375 -1.421875 13.25 4.234375 \r\nQ 6.78125 9.90625 6.78125 20.515625 \r\nQ 6.78125 27.484375 10.78125 32.3125 \r\nQ 14.796875 37.15625 21.921875 38.8125 \r\nz\r\nM 18.3125 54.390625 \r\nQ 18.3125 48.734375 21.84375 45.5625 \r\nQ 25.390625 42.390625 31.78125 42.390625 \r\nQ 38.140625 42.390625 41.71875 45.5625 \r\nQ 45.3125 48.734375 45.3125 54.390625 \r\nQ 45.3125 60.0625 41.71875 63.234375 \r\nQ 38.140625 66.40625 31.78125 66.40625 \r\nQ 25.390625 66.40625 21.84375 63.234375 \r\nQ 18.3125 60.0625 18.3125 54.390625 \r\nz\r\n\" id=\"DejaVuSans-56\"/>\r\n       </defs>\r\n       <use xlink:href=\"#DejaVuSans-50\"/>\r\n       <use x=\"63.623047\" xlink:href=\"#DejaVuSans-48\"/>\r\n       <use x=\"127.246094\" xlink:href=\"#DejaVuSans-49\"/>\r\n       <use x=\"190.869141\" xlink:href=\"#DejaVuSans-56\"/>\r\n      </g>\r\n     </g>\r\n    </g>\r\n    <g id=\"xtick_4\">\r\n     <g id=\"line2d_4\">\r\n      <g>\r\n       <use style=\"stroke:#000000;stroke-width:0.8;\" x=\"634.185314\" xlink:href=\"#m8084f5840b\" y=\"511.918125\"/>\r\n      </g>\r\n     </g>\r\n     <g id=\"text_4\">\r\n      <!-- 2019 -->\r\n      <g transform=\"translate(611.105123 538.223565)rotate(-30)scale(0.1 -0.1)\">\r\n       <defs>\r\n        <path d=\"M 10.984375 1.515625 \r\nL 10.984375 10.5 \r\nQ 14.703125 8.734375 18.5 7.8125 \r\nQ 22.3125 6.890625 25.984375 6.890625 \r\nQ 35.75 6.890625 40.890625 13.453125 \r\nQ 46.046875 20.015625 46.78125 33.40625 \r\nQ 43.953125 29.203125 39.59375 26.953125 \r\nQ 35.25 24.703125 29.984375 24.703125 \r\nQ 19.046875 24.703125 12.671875 31.3125 \r\nQ 6.296875 37.9375 6.296875 49.421875 \r\nQ 6.296875 60.640625 12.9375 67.421875 \r\nQ 19.578125 74.21875 30.609375 74.21875 \r\nQ 43.265625 74.21875 49.921875 64.515625 \r\nQ 56.59375 54.828125 56.59375 36.375 \r\nQ 56.59375 19.140625 48.40625 8.859375 \r\nQ 40.234375 -1.421875 26.421875 -1.421875 \r\nQ 22.703125 -1.421875 18.890625 -0.6875 \r\nQ 15.09375 0.046875 10.984375 1.515625 \r\nz\r\nM 30.609375 32.421875 \r\nQ 37.25 32.421875 41.125 36.953125 \r\nQ 45.015625 41.5 45.015625 49.421875 \r\nQ 45.015625 57.28125 41.125 61.84375 \r\nQ 37.25 66.40625 30.609375 66.40625 \r\nQ 23.96875 66.40625 20.09375 61.84375 \r\nQ 16.21875 57.28125 16.21875 49.421875 \r\nQ 16.21875 41.5 20.09375 36.953125 \r\nQ 23.96875 32.421875 30.609375 32.421875 \r\nz\r\n\" id=\"DejaVuSans-57\"/>\r\n       </defs>\r\n       <use xlink:href=\"#DejaVuSans-50\"/>\r\n       <use x=\"63.623047\" xlink:href=\"#DejaVuSans-48\"/>\r\n       <use x=\"127.246094\" xlink:href=\"#DejaVuSans-49\"/>\r\n       <use x=\"190.869141\" xlink:href=\"#DejaVuSans-57\"/>\r\n      </g>\r\n     </g>\r\n    </g>\r\n    <g id=\"xtick_5\">\r\n     <g id=\"line2d_5\">\r\n      <g>\r\n       <use style=\"stroke:#000000;stroke-width:0.8;\" x=\"786.617706\" xlink:href=\"#m8084f5840b\" y=\"511.918125\"/>\r\n      </g>\r\n     </g>\r\n     <g id=\"text_5\">\r\n      <!-- 2020 -->\r\n      <g transform=\"translate(763.537515 538.223565)rotate(-30)scale(0.1 -0.1)\">\r\n       <use xlink:href=\"#DejaVuSans-50\"/>\r\n       <use x=\"63.623047\" xlink:href=\"#DejaVuSans-48\"/>\r\n       <use x=\"127.246094\" xlink:href=\"#DejaVuSans-50\"/>\r\n       <use x=\"190.869141\" xlink:href=\"#DejaVuSans-48\"/>\r\n      </g>\r\n     </g>\r\n    </g>\r\n    <g id=\"text_6\">\r\n     <!-- Date -->\r\n     <g transform=\"translate(453.514844 551.623065)scale(0.1 -0.1)\">\r\n      <defs>\r\n       <path d=\"M 19.671875 64.796875 \r\nL 19.671875 8.109375 \r\nL 31.59375 8.109375 \r\nQ 46.6875 8.109375 53.6875 14.9375 \r\nQ 60.6875 21.78125 60.6875 36.53125 \r\nQ 60.6875 51.171875 53.6875 57.984375 \r\nQ 46.6875 64.796875 31.59375 64.796875 \r\nz\r\nM 9.8125 72.90625 \r\nL 30.078125 72.90625 \r\nQ 51.265625 72.90625 61.171875 64.09375 \r\nQ 71.09375 55.28125 71.09375 36.53125 \r\nQ 71.09375 17.671875 61.125 8.828125 \r\nQ 51.171875 0 30.078125 0 \r\nL 9.8125 0 \r\nz\r\n\" id=\"DejaVuSans-68\"/>\r\n       <path d=\"M 34.28125 27.484375 \r\nQ 23.390625 27.484375 19.1875 25 \r\nQ 14.984375 22.515625 14.984375 16.5 \r\nQ 14.984375 11.71875 18.140625 8.90625 \r\nQ 21.296875 6.109375 26.703125 6.109375 \r\nQ 34.1875 6.109375 38.703125 11.40625 \r\nQ 43.21875 16.703125 43.21875 25.484375 \r\nL 43.21875 27.484375 \r\nz\r\nM 52.203125 31.203125 \r\nL 52.203125 0 \r\nL 43.21875 0 \r\nL 43.21875 8.296875 \r\nQ 40.140625 3.328125 35.546875 0.953125 \r\nQ 30.953125 -1.421875 24.3125 -1.421875 \r\nQ 15.921875 -1.421875 10.953125 3.296875 \r\nQ 6 8.015625 6 15.921875 \r\nQ 6 25.140625 12.171875 29.828125 \r\nQ 18.359375 34.515625 30.609375 34.515625 \r\nL 43.21875 34.515625 \r\nL 43.21875 35.40625 \r\nQ 43.21875 41.609375 39.140625 45 \r\nQ 35.0625 48.390625 27.6875 48.390625 \r\nQ 23 48.390625 18.546875 47.265625 \r\nQ 14.109375 46.140625 10.015625 43.890625 \r\nL 10.015625 52.203125 \r\nQ 14.9375 54.109375 19.578125 55.046875 \r\nQ 24.21875 56 28.609375 56 \r\nQ 40.484375 56 46.34375 49.84375 \r\nQ 52.203125 43.703125 52.203125 31.203125 \r\nz\r\n\" id=\"DejaVuSans-97\"/>\r\n       <path d=\"M 18.3125 70.21875 \r\nL 18.3125 54.6875 \r\nL 36.8125 54.6875 \r\nL 36.8125 47.703125 \r\nL 18.3125 47.703125 \r\nL 18.3125 18.015625 \r\nQ 18.3125 11.328125 20.140625 9.421875 \r\nQ 21.96875 7.515625 27.59375 7.515625 \r\nL 36.8125 7.515625 \r\nL 36.8125 0 \r\nL 27.59375 0 \r\nQ 17.1875 0 13.234375 3.875 \r\nQ 9.28125 7.765625 9.28125 18.015625 \r\nL 9.28125 47.703125 \r\nL 2.6875 47.703125 \r\nL 2.6875 54.6875 \r\nL 9.28125 54.6875 \r\nL 9.28125 70.21875 \r\nz\r\n\" id=\"DejaVuSans-116\"/>\r\n       <path d=\"M 56.203125 29.59375 \r\nL 56.203125 25.203125 \r\nL 14.890625 25.203125 \r\nQ 15.484375 15.921875 20.484375 11.0625 \r\nQ 25.484375 6.203125 34.421875 6.203125 \r\nQ 39.59375 6.203125 44.453125 7.46875 \r\nQ 49.3125 8.734375 54.109375 11.28125 \r\nL 54.109375 2.78125 \r\nQ 49.265625 0.734375 44.1875 -0.34375 \r\nQ 39.109375 -1.421875 33.890625 -1.421875 \r\nQ 20.796875 -1.421875 13.15625 6.1875 \r\nQ 5.515625 13.8125 5.515625 26.8125 \r\nQ 5.515625 40.234375 12.765625 48.109375 \r\nQ 20.015625 56 32.328125 56 \r\nQ 43.359375 56 49.78125 48.890625 \r\nQ 56.203125 41.796875 56.203125 29.59375 \r\nz\r\nM 47.21875 32.234375 \r\nQ 47.125 39.59375 43.09375 43.984375 \r\nQ 39.0625 48.390625 32.421875 48.390625 \r\nQ 24.90625 48.390625 20.390625 44.140625 \r\nQ 15.875 39.890625 15.1875 32.171875 \r\nz\r\n\" id=\"DejaVuSans-101\"/>\r\n      </defs>\r\n      <use xlink:href=\"#DejaVuSans-68\"/>\r\n      <use x=\"77.001953\" xlink:href=\"#DejaVuSans-97\"/>\r\n      <use x=\"138.28125\" xlink:href=\"#DejaVuSans-116\"/>\r\n      <use x=\"177.490234\" xlink:href=\"#DejaVuSans-101\"/>\r\n     </g>\r\n    </g>\r\n   </g>\r\n   <g id=\"matplotlib.axis_2\">\r\n    <g id=\"ytick_1\">\r\n     <g id=\"line2d_6\">\r\n      <defs>\r\n       <path d=\"M 0 0 \r\nL -3.5 0 \r\n\" id=\"m38384090d6\" style=\"stroke:#000000;stroke-width:0.8;\"/>\r\n      </defs>\r\n      <g>\r\n       <use style=\"stroke:#000000;stroke-width:0.8;\" x=\"46.965625\" xlink:href=\"#m38384090d6\" y=\"471.511177\"/>\r\n      </g>\r\n     </g>\r\n     <g id=\"text_7\">\r\n      <!-- 100 -->\r\n      <g transform=\"translate(20.878125 475.310395)scale(0.1 -0.1)\">\r\n       <use xlink:href=\"#DejaVuSans-49\"/>\r\n       <use x=\"63.623047\" xlink:href=\"#DejaVuSans-48\"/>\r\n       <use x=\"127.246094\" xlink:href=\"#DejaVuSans-48\"/>\r\n      </g>\r\n     </g>\r\n    </g>\r\n    <g id=\"ytick_2\">\r\n     <g id=\"line2d_7\">\r\n      <g>\r\n       <use style=\"stroke:#000000;stroke-width:0.8;\" x=\"46.965625\" xlink:href=\"#m38384090d6\" y=\"377.554639\"/>\r\n      </g>\r\n     </g>\r\n     <g id=\"text_8\">\r\n      <!-- 150 -->\r\n      <g transform=\"translate(20.878125 381.353858)scale(0.1 -0.1)\">\r\n       <defs>\r\n        <path d=\"M 10.796875 72.90625 \r\nL 49.515625 72.90625 \r\nL 49.515625 64.59375 \r\nL 19.828125 64.59375 \r\nL 19.828125 46.734375 \r\nQ 21.96875 47.46875 24.109375 47.828125 \r\nQ 26.265625 48.1875 28.421875 48.1875 \r\nQ 40.625 48.1875 47.75 41.5 \r\nQ 54.890625 34.8125 54.890625 23.390625 \r\nQ 54.890625 11.625 47.5625 5.09375 \r\nQ 40.234375 -1.421875 26.90625 -1.421875 \r\nQ 22.3125 -1.421875 17.546875 -0.640625 \r\nQ 12.796875 0.140625 7.71875 1.703125 \r\nL 7.71875 11.625 \r\nQ 12.109375 9.234375 16.796875 8.0625 \r\nQ 21.484375 6.890625 26.703125 6.890625 \r\nQ 35.15625 6.890625 40.078125 11.328125 \r\nQ 45.015625 15.765625 45.015625 23.390625 \r\nQ 45.015625 31 40.078125 35.4375 \r\nQ 35.15625 39.890625 26.703125 39.890625 \r\nQ 22.75 39.890625 18.8125 39.015625 \r\nQ 14.890625 38.140625 10.796875 36.28125 \r\nz\r\n\" id=\"DejaVuSans-53\"/>\r\n       </defs>\r\n       <use xlink:href=\"#DejaVuSans-49\"/>\r\n       <use x=\"63.623047\" xlink:href=\"#DejaVuSans-53\"/>\r\n       <use x=\"127.246094\" xlink:href=\"#DejaVuSans-48\"/>\r\n      </g>\r\n     </g>\r\n    </g>\r\n    <g id=\"ytick_3\">\r\n     <g id=\"line2d_8\">\r\n      <g>\r\n       <use style=\"stroke:#000000;stroke-width:0.8;\" x=\"46.965625\" xlink:href=\"#m38384090d6\" y=\"283.598102\"/>\r\n      </g>\r\n     </g>\r\n     <g id=\"text_9\">\r\n      <!-- 200 -->\r\n      <g transform=\"translate(20.878125 287.39732)scale(0.1 -0.1)\">\r\n       <use xlink:href=\"#DejaVuSans-50\"/>\r\n       <use x=\"63.623047\" xlink:href=\"#DejaVuSans-48\"/>\r\n       <use x=\"127.246094\" xlink:href=\"#DejaVuSans-48\"/>\r\n      </g>\r\n     </g>\r\n    </g>\r\n    <g id=\"ytick_4\">\r\n     <g id=\"line2d_9\">\r\n      <g>\r\n       <use style=\"stroke:#000000;stroke-width:0.8;\" x=\"46.965625\" xlink:href=\"#m38384090d6\" y=\"189.641564\"/>\r\n      </g>\r\n     </g>\r\n     <g id=\"text_10\">\r\n      <!-- 250 -->\r\n      <g transform=\"translate(20.878125 193.440783)scale(0.1 -0.1)\">\r\n       <use xlink:href=\"#DejaVuSans-50\"/>\r\n       <use x=\"63.623047\" xlink:href=\"#DejaVuSans-53\"/>\r\n       <use x=\"127.246094\" xlink:href=\"#DejaVuSans-48\"/>\r\n      </g>\r\n     </g>\r\n    </g>\r\n    <g id=\"ytick_5\">\r\n     <g id=\"line2d_10\">\r\n      <g>\r\n       <use style=\"stroke:#000000;stroke-width:0.8;\" x=\"46.965625\" xlink:href=\"#m38384090d6\" y=\"95.685027\"/>\r\n      </g>\r\n     </g>\r\n     <g id=\"text_11\">\r\n      <!-- 300 -->\r\n      <g transform=\"translate(20.878125 99.484246)scale(0.1 -0.1)\">\r\n       <defs>\r\n        <path d=\"M 40.578125 39.3125 \r\nQ 47.65625 37.796875 51.625 33 \r\nQ 55.609375 28.21875 55.609375 21.1875 \r\nQ 55.609375 10.40625 48.1875 4.484375 \r\nQ 40.765625 -1.421875 27.09375 -1.421875 \r\nQ 22.515625 -1.421875 17.65625 -0.515625 \r\nQ 12.796875 0.390625 7.625 2.203125 \r\nL 7.625 11.71875 \r\nQ 11.71875 9.328125 16.59375 8.109375 \r\nQ 21.484375 6.890625 26.8125 6.890625 \r\nQ 36.078125 6.890625 40.9375 10.546875 \r\nQ 45.796875 14.203125 45.796875 21.1875 \r\nQ 45.796875 27.640625 41.28125 31.265625 \r\nQ 36.765625 34.90625 28.71875 34.90625 \r\nL 20.21875 34.90625 \r\nL 20.21875 43.015625 \r\nL 29.109375 43.015625 \r\nQ 36.375 43.015625 40.234375 45.921875 \r\nQ 44.09375 48.828125 44.09375 54.296875 \r\nQ 44.09375 59.90625 40.109375 62.90625 \r\nQ 36.140625 65.921875 28.71875 65.921875 \r\nQ 24.65625 65.921875 20.015625 65.03125 \r\nQ 15.375 64.15625 9.8125 62.3125 \r\nL 9.8125 71.09375 \r\nQ 15.4375 72.65625 20.34375 73.4375 \r\nQ 25.25 74.21875 29.59375 74.21875 \r\nQ 40.828125 74.21875 47.359375 69.109375 \r\nQ 53.90625 64.015625 53.90625 55.328125 \r\nQ 53.90625 49.265625 50.4375 45.09375 \r\nQ 46.96875 40.921875 40.578125 39.3125 \r\nz\r\n\" id=\"DejaVuSans-51\"/>\r\n       </defs>\r\n       <use xlink:href=\"#DejaVuSans-51\"/>\r\n       <use x=\"63.623047\" xlink:href=\"#DejaVuSans-48\"/>\r\n       <use x=\"127.246094\" xlink:href=\"#DejaVuSans-48\"/>\r\n      </g>\r\n     </g>\r\n    </g>\r\n    <g id=\"text_12\">\r\n     <!-- close Price ($) -->\r\n     <g transform=\"translate(14.798438 302.455625)rotate(-90)scale(0.1 -0.1)\">\r\n      <defs>\r\n       <path d=\"M 48.78125 52.59375 \r\nL 48.78125 44.1875 \r\nQ 44.96875 46.296875 41.140625 47.34375 \r\nQ 37.3125 48.390625 33.40625 48.390625 \r\nQ 24.65625 48.390625 19.8125 42.84375 \r\nQ 14.984375 37.3125 14.984375 27.296875 \r\nQ 14.984375 17.28125 19.8125 11.734375 \r\nQ 24.65625 6.203125 33.40625 6.203125 \r\nQ 37.3125 6.203125 41.140625 7.25 \r\nQ 44.96875 8.296875 48.78125 10.40625 \r\nL 48.78125 2.09375 \r\nQ 45.015625 0.34375 40.984375 -0.53125 \r\nQ 36.96875 -1.421875 32.421875 -1.421875 \r\nQ 20.0625 -1.421875 12.78125 6.34375 \r\nQ 5.515625 14.109375 5.515625 27.296875 \r\nQ 5.515625 40.671875 12.859375 48.328125 \r\nQ 20.21875 56 33.015625 56 \r\nQ 37.15625 56 41.109375 55.140625 \r\nQ 45.0625 54.296875 48.78125 52.59375 \r\nz\r\n\" id=\"DejaVuSans-99\"/>\r\n       <path d=\"M 9.421875 75.984375 \r\nL 18.40625 75.984375 \r\nL 18.40625 0 \r\nL 9.421875 0 \r\nz\r\n\" id=\"DejaVuSans-108\"/>\r\n       <path d=\"M 30.609375 48.390625 \r\nQ 23.390625 48.390625 19.1875 42.75 \r\nQ 14.984375 37.109375 14.984375 27.296875 \r\nQ 14.984375 17.484375 19.15625 11.84375 \r\nQ 23.34375 6.203125 30.609375 6.203125 \r\nQ 37.796875 6.203125 41.984375 11.859375 \r\nQ 46.1875 17.53125 46.1875 27.296875 \r\nQ 46.1875 37.015625 41.984375 42.703125 \r\nQ 37.796875 48.390625 30.609375 48.390625 \r\nz\r\nM 30.609375 56 \r\nQ 42.328125 56 49.015625 48.375 \r\nQ 55.71875 40.765625 55.71875 27.296875 \r\nQ 55.71875 13.875 49.015625 6.21875 \r\nQ 42.328125 -1.421875 30.609375 -1.421875 \r\nQ 18.84375 -1.421875 12.171875 6.21875 \r\nQ 5.515625 13.875 5.515625 27.296875 \r\nQ 5.515625 40.765625 12.171875 48.375 \r\nQ 18.84375 56 30.609375 56 \r\nz\r\n\" id=\"DejaVuSans-111\"/>\r\n       <path d=\"M 44.28125 53.078125 \r\nL 44.28125 44.578125 \r\nQ 40.484375 46.53125 36.375 47.5 \r\nQ 32.28125 48.484375 27.875 48.484375 \r\nQ 21.1875 48.484375 17.84375 46.4375 \r\nQ 14.5 44.390625 14.5 40.28125 \r\nQ 14.5 37.15625 16.890625 35.375 \r\nQ 19.28125 33.59375 26.515625 31.984375 \r\nL 29.59375 31.296875 \r\nQ 39.15625 29.25 43.1875 25.515625 \r\nQ 47.21875 21.78125 47.21875 15.09375 \r\nQ 47.21875 7.46875 41.1875 3.015625 \r\nQ 35.15625 -1.421875 24.609375 -1.421875 \r\nQ 20.21875 -1.421875 15.453125 -0.5625 \r\nQ 10.6875 0.296875 5.421875 2 \r\nL 5.421875 11.28125 \r\nQ 10.40625 8.6875 15.234375 7.390625 \r\nQ 20.0625 6.109375 24.8125 6.109375 \r\nQ 31.15625 6.109375 34.5625 8.28125 \r\nQ 37.984375 10.453125 37.984375 14.40625 \r\nQ 37.984375 18.0625 35.515625 20.015625 \r\nQ 33.0625 21.96875 24.703125 23.78125 \r\nL 21.578125 24.515625 \r\nQ 13.234375 26.265625 9.515625 29.90625 \r\nQ 5.8125 33.546875 5.8125 39.890625 \r\nQ 5.8125 47.609375 11.28125 51.796875 \r\nQ 16.75 56 26.8125 56 \r\nQ 31.78125 56 36.171875 55.265625 \r\nQ 40.578125 54.546875 44.28125 53.078125 \r\nz\r\n\" id=\"DejaVuSans-115\"/>\r\n       <path id=\"DejaVuSans-32\"/>\r\n       <path d=\"M 19.671875 64.796875 \r\nL 19.671875 37.40625 \r\nL 32.078125 37.40625 \r\nQ 38.96875 37.40625 42.71875 40.96875 \r\nQ 46.484375 44.53125 46.484375 51.125 \r\nQ 46.484375 57.671875 42.71875 61.234375 \r\nQ 38.96875 64.796875 32.078125 64.796875 \r\nz\r\nM 9.8125 72.90625 \r\nL 32.078125 72.90625 \r\nQ 44.34375 72.90625 50.609375 67.359375 \r\nQ 56.890625 61.8125 56.890625 51.125 \r\nQ 56.890625 40.328125 50.609375 34.8125 \r\nQ 44.34375 29.296875 32.078125 29.296875 \r\nL 19.671875 29.296875 \r\nL 19.671875 0 \r\nL 9.8125 0 \r\nz\r\n\" id=\"DejaVuSans-80\"/>\r\n       <path d=\"M 41.109375 46.296875 \r\nQ 39.59375 47.171875 37.8125 47.578125 \r\nQ 36.03125 48 33.890625 48 \r\nQ 26.265625 48 22.1875 43.046875 \r\nQ 18.109375 38.09375 18.109375 28.8125 \r\nL 18.109375 0 \r\nL 9.078125 0 \r\nL 9.078125 54.6875 \r\nL 18.109375 54.6875 \r\nL 18.109375 46.1875 \r\nQ 20.953125 51.171875 25.484375 53.578125 \r\nQ 30.03125 56 36.53125 56 \r\nQ 37.453125 56 38.578125 55.875 \r\nQ 39.703125 55.765625 41.0625 55.515625 \r\nz\r\n\" id=\"DejaVuSans-114\"/>\r\n       <path d=\"M 9.421875 54.6875 \r\nL 18.40625 54.6875 \r\nL 18.40625 0 \r\nL 9.421875 0 \r\nz\r\nM 9.421875 75.984375 \r\nL 18.40625 75.984375 \r\nL 18.40625 64.59375 \r\nL 9.421875 64.59375 \r\nz\r\n\" id=\"DejaVuSans-105\"/>\r\n       <path d=\"M 31 75.875 \r\nQ 24.46875 64.65625 21.28125 53.65625 \r\nQ 18.109375 42.671875 18.109375 31.390625 \r\nQ 18.109375 20.125 21.3125 9.0625 \r\nQ 24.515625 -2 31 -13.1875 \r\nL 23.1875 -13.1875 \r\nQ 15.875 -1.703125 12.234375 9.375 \r\nQ 8.59375 20.453125 8.59375 31.390625 \r\nQ 8.59375 42.28125 12.203125 53.3125 \r\nQ 15.828125 64.359375 23.1875 75.875 \r\nz\r\n\" id=\"DejaVuSans-40\"/>\r\n       <path d=\"M 33.796875 -14.703125 \r\nL 28.90625 -14.703125 \r\nL 28.859375 0 \r\nQ 23.734375 0.09375 18.609375 1.1875 \r\nQ 13.484375 2.296875 8.296875 4.5 \r\nL 8.296875 13.28125 \r\nQ 13.28125 10.15625 18.375 8.5625 \r\nQ 23.484375 6.984375 28.90625 6.9375 \r\nL 28.90625 29.203125 \r\nQ 18.109375 30.953125 13.203125 35.15625 \r\nQ 8.296875 39.359375 8.296875 46.6875 \r\nQ 8.296875 54.640625 13.625 59.21875 \r\nQ 18.953125 63.8125 28.90625 64.5 \r\nL 28.90625 75.984375 \r\nL 33.796875 75.984375 \r\nL 33.796875 64.65625 \r\nQ 38.328125 64.453125 42.578125 63.6875 \r\nQ 46.828125 62.9375 50.875 61.625 \r\nL 50.875 53.078125 \r\nQ 46.828125 55.125 42.546875 56.25 \r\nQ 38.28125 57.375 33.796875 57.5625 \r\nL 33.796875 36.71875 \r\nQ 44.875 35.015625 50.09375 30.609375 \r\nQ 55.328125 26.21875 55.328125 18.609375 \r\nQ 55.328125 10.359375 49.78125 5.59375 \r\nQ 44.234375 0.828125 33.796875 0.09375 \r\nz\r\nM 28.90625 37.59375 \r\nL 28.90625 57.625 \r\nQ 23.25 56.984375 20.265625 54.390625 \r\nQ 17.28125 51.8125 17.28125 47.515625 \r\nQ 17.28125 43.3125 20.03125 40.96875 \r\nQ 22.796875 38.625 28.90625 37.59375 \r\nz\r\nM 33.796875 28.21875 \r\nL 33.796875 7.078125 \r\nQ 39.984375 7.90625 43.140625 10.59375 \r\nQ 46.296875 13.28125 46.296875 17.671875 \r\nQ 46.296875 21.96875 43.28125 24.5 \r\nQ 40.28125 27.046875 33.796875 28.21875 \r\nz\r\n\" id=\"DejaVuSans-36\"/>\r\n       <path d=\"M 8.015625 75.875 \r\nL 15.828125 75.875 \r\nQ 23.140625 64.359375 26.78125 53.3125 \r\nQ 30.421875 42.28125 30.421875 31.390625 \r\nQ 30.421875 20.453125 26.78125 9.375 \r\nQ 23.140625 -1.703125 15.828125 -13.1875 \r\nL 8.015625 -13.1875 \r\nQ 14.5 -2 17.703125 9.0625 \r\nQ 20.90625 20.125 20.90625 31.390625 \r\nQ 20.90625 42.671875 17.703125 53.65625 \r\nQ 14.5 64.65625 8.015625 75.875 \r\nz\r\n\" id=\"DejaVuSans-41\"/>\r\n      </defs>\r\n      <use xlink:href=\"#DejaVuSans-99\"/>\r\n      <use x=\"54.980469\" xlink:href=\"#DejaVuSans-108\"/>\r\n      <use x=\"82.763672\" xlink:href=\"#DejaVuSans-111\"/>\r\n      <use x=\"143.945312\" xlink:href=\"#DejaVuSans-115\"/>\r\n      <use x=\"196.044922\" xlink:href=\"#DejaVuSans-101\"/>\r\n      <use x=\"257.568359\" xlink:href=\"#DejaVuSans-32\"/>\r\n      <use x=\"289.355469\" xlink:href=\"#DejaVuSans-80\"/>\r\n      <use x=\"347.908203\" xlink:href=\"#DejaVuSans-114\"/>\r\n      <use x=\"389.021484\" xlink:href=\"#DejaVuSans-105\"/>\r\n      <use x=\"416.804688\" xlink:href=\"#DejaVuSans-99\"/>\r\n      <use x=\"471.785156\" xlink:href=\"#DejaVuSans-101\"/>\r\n      <use x=\"533.308594\" xlink:href=\"#DejaVuSans-32\"/>\r\n      <use x=\"565.095703\" xlink:href=\"#DejaVuSans-40\"/>\r\n      <use x=\"604.109375\" xlink:href=\"#DejaVuSans-36\"/>\r\n      <use x=\"667.732422\" xlink:href=\"#DejaVuSans-41\"/>\r\n     </g>\r\n    </g>\r\n   </g>\r\n   <g id=\"line2d_11\">\r\n    <path clip-path=\"url(#pef231dc476)\" d=\"M 85.01108 411.294432 \r\nL 85.428703 411.792401 \r\nL 85.846326 414.611097 \r\nL 87.099195 414.131919 \r\nL 87.516817 415.212419 \r\nL 87.93444 414.911758 \r\nL 88.769686 417.674081 \r\nL 90.022555 419.271342 \r\nL 90.440178 419.985411 \r\nL 90.857801 417.24188 \r\nL 91.275424 417.786828 \r\nL 91.693047 420.455194 \r\nL 92.945916 420.924977 \r\nL 93.363539 419.647168 \r\nL 93.781162 420.210907 \r\nL 94.198785 419.121011 \r\nL 94.616408 421.526299 \r\nL 95.869277 419.628377 \r\nL 96.2869 420.718272 \r\nL 96.704523 418.688811 \r\nL 97.539769 421.244429 \r\nL 98.792638 425.416099 \r\nL 99.210261 423.734277 \r\nL 99.627884 421.526299 \r\nL 100.045507 421.82696 \r\nL 101.715999 422.653777 \r\nL 102.133622 423.236308 \r\nL 102.968868 433.797022 \r\nL 103.386491 427.765013 \r\nL 104.63936 423.292682 \r\nL 105.056983 423.386638 \r\nL 105.474606 421.11289 \r\nL 105.892229 417.937159 \r\nL 106.309852 415.851324 \r\nL 107.562721 411.247453 \r\nL 107.980344 413.727906 \r\nL 108.397967 424.119499 \r\nL 108.81559 424.232247 \r\nL 109.233213 425.472473 \r\nL 110.486082 428.723369 \r\nL 110.903705 427.5771 \r\nL 111.321328 428.309961 \r\nL 111.738951 429.475022 \r\nL 112.156574 431.485692 \r\nL 113.409443 436.860006 \r\nL 113.827066 444.000702 \r\nL 114.244689 442.572563 \r\nL 114.662312 443.079928 \r\nL 115.079935 442.347067 \r\nL 116.332804 434.454718 \r\nL 116.750427 446.161703 \r\nL 117.16805 442.873224 \r\nL 117.585673 443.042346 \r\nL 118.003296 441.52025 \r\nL 119.256165 439.265293 \r\nL 119.673788 440.505519 \r\nL 120.091411 443.305424 \r\nL 120.509034 447.740173 \r\nL 120.926657 460.687383 \r\nL 122.179526 465.648289 \r\nL 122.597149 464.483228 \r\nL 123.014772 453.3024 \r\nL 123.432395 447.232807 \r\nL 123.850018 446.537529 \r\nL 125.102887 447.533468 \r\nL 125.52051 457.004287 \r\nL 125.938133 448.322703 \r\nL 126.355756 452.024591 \r\nL 126.773379 454.091634 \r\nL 128.443871 448.379077 \r\nL 128.861494 452.437999 \r\nL 129.279117 447.890503 \r\nL 129.69674 444.808729 \r\nL 130.949609 442.741685 \r\nL 131.367232 440.918928 \r\nL 131.784855 440.674641 \r\nL 132.202478 445.353676 \r\nL 132.620101 446.236868 \r\nL 133.87297 442.929598 \r\nL 134.290593 446.330824 \r\nL 135.125839 443.324215 \r\nL 135.543462 443.869163 \r\nL 136.796331 448.13479 \r\nL 137.213954 454.486252 \r\nL 137.631577 452.15613 \r\nL 138.049199 453.509104 \r\nL 138.466822 452.005799 \r\nL 139.719691 451.254147 \r\nL 140.137314 450.258208 \r\nL 140.554937 451.254147 \r\nL 140.97256 453.659434 \r\nL 141.390183 448.736112 \r\nL 142.643052 449.71326 \r\nL 143.060675 449.356225 \r\nL 143.478298 452.325252 \r\nL 143.895921 449.224686 \r\nL 144.313544 450.765573 \r\nL 145.566413 449.468973 \r\nL 145.984036 445.635546 \r\nL 146.401659 445.654337 \r\nL 146.819282 442.38465 \r\nL 147.236905 435.657362 \r\nL 148.489774 442.798059 \r\nL 148.907397 444.169824 \r\nL 149.32502 435.300327 \r\nL 149.742643 432.932622 \r\nL 150.160266 434.868127 \r\nL 151.413135 431.711187 \r\nL 151.830758 429.099196 \r\nL 152.248381 430.1703 \r\nL 152.666004 432.199761 \r\nL 153.083627 431.936683 \r\nL 154.336496 432.857457 \r\nL 154.754119 439.998154 \r\nL 155.171742 441.23838 \r\nL 155.589365 441.971241 \r\nL 156.006988 448.322703 \r\nL 157.259857 444.874498 \r\nL 157.67748 445.785877 \r\nL 158.095103 439.021006 \r\nL 158.512726 436.221101 \r\nL 158.930349 435.243953 \r\nL 160.183218 438.156606 \r\nL 160.600841 436.033188 \r\nL 161.018464 437.630449 \r\nL 161.85371 438.043858 \r\nL 163.106579 437.123084 \r\nL 164.359448 442.948389 \r\nL 164.777071 435.751318 \r\nL 166.02994 437.160666 \r\nL 166.447563 437.254623 \r\nL 166.865186 442.159154 \r\nL 167.282809 441.125632 \r\nL 167.700432 446.744233 \r\nL 168.953301 448.059625 \r\nL 169.370924 451.799095 \r\nL 169.788547 450.201834 \r\nL 170.623793 460.180018 \r\nL 171.876662 457.737148 \r\nL 172.294285 457.925061 \r\nL 172.711908 455.331861 \r\nL 173.129531 456.421757 \r\nL 174.800023 458.695505 \r\nL 175.217646 455.087574 \r\nL 175.635269 457.755939 \r\nL 176.052892 461.626949 \r\nL 177.723384 461.457827 \r\nL 178.55863 470.195785 \r\nL 178.976253 478.182091 \r\nL 180.646745 474.273499 \r\nL 181.064368 471.586342 \r\nL 181.481991 476.415708 \r\nL 181.899614 472.413159 \r\nL 182.317237 476.904282 \r\nL 183.987729 477.787473 \r\nL 184.405352 477.543186 \r\nL 184.822975 478.46396 \r\nL 185.240598 468.842811 \r\nL 186.493467 472.56349 \r\nL 186.91109 471.529968 \r\nL 187.328713 483.875857 \r\nL 187.746336 482.616839 \r\nL 188.163958 476.509664 \r\nL 189.416827 478.219673 \r\nL 189.83445 481.883978 \r\nL 190.252073 478.370004 \r\nL 190.669696 477.900221 \r\nL 191.087319 482.748378 \r\nL 192.340188 480.888039 \r\nL 192.757811 480.925622 \r\nL 193.593057 483.3497 \r\nL 194.01068 482.804752 \r\nL 195.681172 477.825056 \r\nL 196.098795 475.043942 \r\nL 196.516418 478.539126 \r\nL 196.934041 478.952534 \r\nL 198.18691 477.374064 \r\nL 198.604533 481.489361 \r\nL 199.022156 478.839786 \r\nL 199.439779 477.59956 \r\nL 199.857402 477.317691 \r\nL 201.110271 477.731099 \r\nL 201.527894 470.515237 \r\nL 201.945517 470.101828 \r\nL 202.36314 468.69248 \r\nL 202.780763 465.854993 \r\nL 204.033632 467.997202 \r\nL 204.451255 469.575672 \r\nL 205.286501 469.312594 \r\nL 205.704124 467.264341 \r\nL 206.956993 466.775767 \r\nL 207.374616 462.904758 \r\nL 207.792239 460.292766 \r\nL 208.209862 460.612218 \r\nL 208.627485 460.386722 \r\nL 209.880354 460.405514 \r\nL 210.297977 458.883418 \r\nL 211.133223 460.856505 \r\nL 212.803715 461.758488 \r\nL 213.638961 453.546687 \r\nL 214.056584 454.617791 \r\nL 214.474207 452.73866 \r\nL 215.727076 450.615243 \r\nL 216.144699 453.076904 \r\nL 216.562322 450.915904 \r\nL 216.979945 455.4634 \r\nL 218.650437 454.561417 \r\nL 219.485683 448.886442 \r\nL 219.903306 448.773694 \r\nL 220.320929 453.001739 \r\nL 221.573798 457.455279 \r\nL 221.991421 458.526383 \r\nL 222.409044 458.112974 \r\nL 222.826667 460.292766 \r\nL 223.24429 460.837714 \r\nL 224.497159 461.965192 \r\nL 224.914782 463.336958 \r\nL 225.332405 475.607682 \r\nL 225.750028 481.226282 \r\nL 226.167651 483.274535 \r\nL 227.42052 483.462448 \r\nL 227.838143 480.568587 \r\nL 228.673389 484.2141 \r\nL 229.091012 485.191248 \r\nL 230.343881 485.059709 \r\nL 230.761504 483.875857 \r\nL 231.179127 485.585866 \r\nL 231.59675 489.66358 \r\nL 232.014373 489.325336 \r\nL 233.267242 483.011457 \r\nL 233.684865 483.744318 \r\nL 234.102488 481.733648 \r\nL 234.520111 482.410135 \r\nL 234.937734 480.493421 \r\nL 236.190603 478.219673 \r\nL 237.025849 472.225246 \r\nL 237.443472 470.740733 \r\nL 237.861095 470.853481 \r\nL 239.531586 471.774255 \r\nL 239.949209 474.405038 \r\nL 240.366832 475.795595 \r\nL 240.784455 475.419768 \r\nL 242.037324 474.085586 \r\nL 242.454947 473.333933 \r\nL 242.87257 473.503055 \r\nL 243.290193 472.168872 \r\nL 243.707816 473.709759 \r\nL 244.960685 476.509664 \r\nL 245.378308 476.284169 \r\nL 245.795931 476.88549 \r\nL 246.213554 476.115047 \r\nL 246.631177 480.286717 \r\nL 247.884046 480.718917 \r\nL 248.301669 479.196821 \r\nL 248.719292 479.873308 \r\nL 249.136915 478.839786 \r\nL 249.554538 483.913439 \r\nL 250.807407 486.469057 \r\nL 251.22503 483.556405 \r\nL 251.642653 482.034309 \r\nL 252.060276 479.779352 \r\nL 252.477899 479.234404 \r\nL 254.148391 480.925622 \r\nL 255.40126 477.749891 \r\nL 256.654129 477.186151 \r\nL 257.071752 476.359334 \r\nL 257.489375 477.392856 \r\nL 257.906998 473.784925 \r\nL 258.324621 473.803716 \r\nL 259.57749 471.830629 \r\nL 260.412736 471.586342 \r\nL 260.830359 472.582281 \r\nL 261.247982 474.029212 \r\nL 262.500851 476.509664 \r\nL 262.918474 477.768682 \r\nL 263.336097 465.967741 \r\nL 263.75372 463.355749 \r\nL 264.171343 463.600036 \r\nL 265.424212 460.142435 \r\nL 265.841835 463.092671 \r\nL 266.259458 460.631009 \r\nL 266.677081 460.480679 \r\nL 267.094704 457.455279 \r\nL 268.347573 455.782852 \r\nL 268.765196 454.956035 \r\nL 269.182819 456.478131 \r\nL 269.600442 456.60967 \r\nL 270.018065 456.139887 \r\nL 271.270934 453.697017 \r\nL 272.10618 454.185591 \r\nL 272.523803 454.448669 \r\nL 272.941426 453.922513 \r\nL 274.194295 455.519774 \r\nL 274.611918 454.880869 \r\nL 275.029541 456.421757 \r\nL 275.447164 457.286157 \r\nL 275.864787 458.470009 \r\nL 277.117656 458.695505 \r\nL 277.535279 460.236392 \r\nL 277.952902 460.048479 \r\nL 278.370525 458.864627 \r\nL 278.788148 456.985496 \r\nL 280.45864 457.04187 \r\nL 280.876263 455.801643 \r\nL 281.711509 465.629497 \r\nL 282.964378 461.288705 \r\nL 283.382001 456.572087 \r\nL 284.217247 442.253111 \r\nL 284.63487 443.474546 \r\nL 285.887739 445.992581 \r\nL 286.722985 446.048955 \r\nL 287.140608 444.038285 \r\nL 287.558231 447.627425 \r\nL 288.8111 447.307972 \r\nL 289.228722 446.913355 \r\nL 289.646345 445.297303 \r\nL 290.063968 448.623364 \r\nL 290.481591 446.98852 \r\nL 291.73446 447.98446 \r\nL 292.152083 447.082477 \r\nL 292.569706 446.98852 \r\nL 292.987329 445.41005 \r\nL 293.404952 445.090598 \r\nL 294.657821 441.351128 \r\nL 295.075444 440.881345 \r\nL 295.493067 438.927049 \r\nL 295.91069 439.603536 \r\nL 296.328313 438.382101 \r\nL 297.998805 438.682762 \r\nL 298.416428 439.340458 \r\nL 298.834051 439.453206 \r\nL 299.251674 440.317606 \r\nL 300.504543 438.344519 \r\nL 300.922166 437.21704 \r\nL 301.339789 442.215528 \r\nL 301.757412 444.301363 \r\nL 302.175035 445.729503 \r\nL 303.427904 446.067746 \r\nL 303.845527 449.919964 \r\nL 304.26315 449.732051 \r\nL 304.680773 453.039321 \r\nL 305.098396 454.899661 \r\nL 306.768888 450.72799 \r\nL 307.186511 451.066234 \r\nL 307.604134 456.872748 \r\nL 308.021757 455.670104 \r\nL 309.274626 460.78134 \r\nL 309.692249 458.150557 \r\nL 310.109872 452.73866 \r\nL 310.527495 452.813826 \r\nL 310.945118 452.607121 \r\nL 312.197987 449.468973 \r\nL 312.61561 449.337434 \r\nL 313.033233 450.408538 \r\nL 313.868479 449.356225 \r\nL 315.538971 449.976338 \r\nL 316.374217 453.678226 \r\nL 316.79184 452.907782 \r\nL 318.044709 454.392295 \r\nL 318.462332 452.813826 \r\nL 319.297578 448.736112 \r\nL 319.715201 445.297303 \r\nL 320.96807 446.518738 \r\nL 321.385693 442.96718 \r\nL 321.803316 442.96718 \r\nL 322.220939 441.783328 \r\nL 322.638562 441.501458 \r\nL 323.891431 440.242441 \r\nL 324.309054 439.65991 \r\nL 324.726677 439.453206 \r\nL 325.1443 440.900137 \r\nL 325.561923 440.467937 \r\nL 327.232415 439.07738 \r\nL 327.650038 440.016945 \r\nL 328.067661 440.073319 \r\nL 328.485284 441.783328 \r\nL 330.155776 441.163215 \r\nL 330.573399 441.407502 \r\nL 330.991022 440.298815 \r\nL 331.408645 437.855945 \r\nL 332.661514 435.826484 \r\nL 333.079137 435.600988 \r\nL 333.49676 434.398344 \r\nL 333.914383 435.33791 \r\nL 334.332006 435.732527 \r\nL 336.002498 433.928562 \r\nL 336.420121 433.947353 \r\nL 336.837744 434.34197 \r\nL 337.255367 433.928562 \r\nL 338.508236 433.778231 \r\nL 338.925859 433.984935 \r\nL 339.343482 430.395796 \r\nL 340.178727 430.264257 \r\nL 341.431596 430.865578 \r\nL 341.849219 431.391735 \r\nL 342.266842 417.486167 \r\nL 342.684465 417.899576 \r\nL 343.102088 416.866054 \r\nL 344.354957 414.592306 \r\nL 344.77258 412.262184 \r\nL 345.607826 410.589758 \r\nL 346.025449 411.153497 \r\nL 347.278318 408.954914 \r\nL 347.695941 405.704018 \r\nL 348.113564 404.783244 \r\nL 348.531187 405.0933 \r\nL 348.94881 404.388626 \r\nL 350.619302 402.547078 \r\nL 351.036925 401.776634 \r\nL 351.454548 402.86653 \r\nL 351.872171 402.622243 \r\nL 353.542663 402.00213 \r\nL 353.960286 396.740564 \r\nL 354.377909 398.300243 \r\nL 354.795532 396.759355 \r\nL 356.048401 397.586173 \r\nL 356.466024 397.247929 \r\nL 356.883647 398.225077 \r\nL 357.30127 398.826399 \r\nL 357.718893 397.961999 \r\nL 358.971762 397.849251 \r\nL 359.389385 398.243869 \r\nL 359.807008 395.481546 \r\nL 360.224631 395.049346 \r\nL 360.642254 396.364738 \r\nL 361.895123 393.602416 \r\nL 362.312746 396.646607 \r\nL 362.730369 393.677581 \r\nL 363.147992 394.617146 \r\nL 363.565615 395.143303 \r\nL 364.818484 394.692312 \r\nL 365.236107 389.20525 \r\nL 365.65373 388.603928 \r\nL 366.071353 388.960963 \r\nL 366.488976 389.468328 \r\nL 367.741845 389.393163 \r\nL 368.159468 387.382493 \r\nL 368.577091 388.791841 \r\nL 369.412337 390.06965 \r\nL 370.665206 390.389102 \r\nL 371.082829 393.282963 \r\nL 371.500452 392.963511 \r\nL 371.918075 394.372859 \r\nL 373.588567 392.907137 \r\nL 374.423813 395.068138 \r\nL 374.841436 391.760868 \r\nL 375.259059 392.08032 \r\nL 376.511928 389.505911 \r\nL 376.929551 387.833484 \r\nL 377.347174 389.430745 \r\nL 377.764797 389.224041 \r\nL 378.18242 389.487119 \r\nL 379.852912 382.233675 \r\nL 380.688158 384.075223 \r\nL 381.105781 379.508935 \r\nL 382.35865 371.898456 \r\nL 382.776273 370.056907 \r\nL 383.193896 371.428673 \r\nL 383.611519 370.132073 \r\nL 384.029142 366.091942 \r\nL 385.282011 366.843594 \r\nL 385.699634 367.275794 \r\nL 386.117257 377.084856 \r\nL 386.53488 372.781647 \r\nL 386.952503 371.804499 \r\nL 388.205372 370.056907 \r\nL 388.622995 370.413942 \r\nL 389.040618 371.278342 \r\nL 389.458241 370.282403 \r\nL 389.875863 370.770977 \r\nL 391.546355 370.658229 \r\nL 391.963978 372.368238 \r\nL 392.381601 371.579003 \r\nL 392.799224 367.313377 \r\nL 394.052093 370.169655 \r\nL 394.469716 369.192507 \r\nL 394.887339 367.463707 \r\nL 395.304962 368.177777 \r\nL 395.722585 379.471352 \r\nL 396.975454 386.161058 \r\nL 397.393077 383.962475 \r\nL 397.8107 386.649632 \r\nL 398.228323 388.284476 \r\nL 398.645946 392.08032 \r\nL 399.898815 384.432258 \r\nL 400.316438 386.931502 \r\nL 400.734061 385.315449 \r\nL 401.151684 385.76644 \r\nL 401.569307 384.545005 \r\nL 402.822176 385.409406 \r\nL 403.239799 389.336789 \r\nL 403.657422 385.390614 \r\nL 404.075045 389.430745 \r\nL 404.492668 388.791841 \r\nL 405.745537 389.768989 \r\nL 406.580783 388.660302 \r\nL 406.998406 391.21592 \r\nL 407.416029 388.49118 \r\nL 408.668898 386.837545 \r\nL 409.086521 385.954354 \r\nL 409.504144 385.559736 \r\nL 409.921767 381.745101 \r\nL 410.33939 379.358605 \r\nL 411.592259 378.381457 \r\nL 412.009882 377.404309 \r\nL 412.427505 375.637926 \r\nL 412.845128 376.915735 \r\nL 413.262751 377.047274 \r\nL 415.350866 371.052847 \r\nL 415.768489 376.502326 \r\nL 416.186112 378.494204 \r\nL 417.438981 379.941135 \r\nL 417.856604 377.460683 \r\nL 418.274227 364.137646 \r\nL 418.69185 367.087881 \r\nL 420.362342 360.999497 \r\nL 421.197588 356.771453 \r\nL 421.615211 367.557664 \r\nL 422.032834 363.498741 \r\nL 423.285703 359.045201 \r\nL 423.703326 355.756722 \r\nL 424.120949 356.978157 \r\nL 424.538572 362.784671 \r\nL 424.956195 363.461158 \r\nL 426.209064 364.006106 \r\nL 426.626687 359.17674 \r\nL 427.04431 358.800914 \r\nL 427.461933 360.135097 \r\nL 429.132425 356.001009 \r\nL 429.550048 353.295061 \r\nL 429.967671 352.468244 \r\nL 430.385294 351.246809 \r\nL 430.802917 351.152852 \r\nL 432.473409 354.85474 \r\nL 432.891032 355.174192 \r\nL 433.308655 356.395627 \r\nL 433.726278 361.337741 \r\nL 434.979147 355.944635 \r\nL 435.39677 357.147279 \r\nL 436.232016 361.995436 \r\nL 436.649639 358.988827 \r\nL 437.902508 361.262576 \r\nL 438.320131 361.149828 \r\nL 439.155377 371.184386 \r\nL 439.573 374.003082 \r\nL 440.825868 376.521117 \r\nL 441.243491 371.654169 \r\nL 441.661114 369.605916 \r\nL 442.078737 371.39109 \r\nL 442.49636 369.81262 \r\nL 443.749229 370.395151 \r\nL 444.166852 369.136133 \r\nL 444.584475 371.015264 \r\nL 445.002098 367.426124 \r\nL 445.419721 367.595246 \r\nL 446.67259 366.580516 \r\nL 447.090213 366.467768 \r\nL 447.507836 365.246333 \r\nL 447.925459 366.279855 \r\nL 449.595951 358.988827 \r\nL 450.013574 357.88014 \r\nL 450.431197 359.214323 \r\nL 450.84882 366.317437 \r\nL 451.266443 365.810072 \r\nL 452.519312 365.960402 \r\nL 452.936935 364.212811 \r\nL 453.354558 365.509411 \r\nL 453.772181 363.63028 \r\nL 454.189804 353.031983 \r\nL 455.442673 346.135573 \r\nL 455.860296 341.77599 \r\nL 456.277919 345.816121 \r\nL 456.695542 343.523581 \r\nL 457.113165 335.274197 \r\nL 458.783657 330.933405 \r\nL 459.20128 328.246248 \r\nL 459.618903 328.922735 \r\nL 460.036526 331.196484 \r\nL 461.289395 332.511875 \r\nL 462.124641 341.700824 \r\nL 462.542264 337.90498 \r\nL 462.959887 339.690155 \r\nL 464.212756 340.009607 \r\nL 464.630379 334.071554 \r\nL 465.048002 330.651536 \r\nL 465.883248 330.632744 \r\nL 467.136117 332.286379 \r\nL 467.55374 334.203093 \r\nL 467.971363 340.949172 \r\nL 468.388986 336.495632 \r\nL 468.806609 337.998937 \r\nL 470.059478 340.34785 \r\nL 470.477101 340.648511 \r\nL 470.894724 341.832364 \r\nL 471.312347 341.249833 \r\nL 471.72997 341.155876 \r\nL 472.982839 334.954745 \r\nL 473.400462 336.777502 \r\nL 473.818085 335.706397 \r\nL 474.235708 335.800354 \r\nL 474.653331 332.511875 \r\nL 475.9062 327.908005 \r\nL 476.323823 331.440771 \r\nL 476.741446 331.797805 \r\nL 477.159069 330.557579 \r\nL 477.576692 330.557579 \r\nL 479.247184 338.90092 \r\nL 479.664807 338.844546 \r\nL 480.08243 337.942563 \r\nL 480.500053 341.418955 \r\nL 482.170545 335.725189 \r\nL 482.588168 335.781563 \r\nL 483.005791 334.278258 \r\nL 483.423414 330.57637 \r\nL 484.676283 331.797805 \r\nL 485.511529 331.910553 \r\nL 485.929152 330.050214 \r\nL 486.346775 326.648987 \r\nL 488.017267 328.340205 \r\nL 488.43489 322.871934 \r\nL 488.852513 322.571273 \r\nL 489.270136 324.074578 \r\nL 490.523005 326.818109 \r\nL 490.940627 326.742944 \r\nL 491.775873 337.886189 \r\nL 492.193496 337.134537 \r\nL 493.863988 345.66579 \r\nL 494.699234 344.143694 \r\nL 495.116857 357.823766 \r\nL 496.369726 365.359081 \r\nL 496.787349 353.069565 \r\nL 497.622595 367.877116 \r\nL 498.040218 365.509411 \r\nL 500.128333 344.914138 \r\nL 500.545956 334.353423 \r\nL 500.963579 335.405736 \r\nL 502.634071 336.495632 \r\nL 503.051694 337.961354 \r\nL 503.469317 335.274197 \r\nL 503.88694 329.636805 \r\nL 505.139809 323.116221 \r\nL 505.557432 324.206117 \r\nL 505.975055 324.713482 \r\nL 506.392678 330.57637 \r\nL 506.810301 328.302622 \r\nL 508.06317 327.156352 \r\nL 508.480793 327.438222 \r\nL 508.898416 330.519996 \r\nL 509.316039 326.930857 \r\nL 509.733662 321.218299 \r\nL 510.986531 317.948612 \r\nL 511.821777 324.112161 \r\nL 512.2394 323.717543 \r\nL 512.657023 324.901396 \r\nL 513.909892 330.012631 \r\nL 514.327515 330.125379 \r\nL 514.745138 337.585528 \r\nL 515.162761 342.133024 \r\nL 515.580384 349.480426 \r\nL 516.833253 334.766832 \r\nL 517.250876 343.091381 \r\nL 517.668499 346.586564 \r\nL 518.086122 344.143694 \r\nL 519.756614 346.210738 \r\nL 520.174237 342.997425 \r\nL 520.59186 336.946624 \r\nL 521.009483 334.710458 \r\nL 521.427106 343.016216 \r\nL 522.679975 339.878068 \r\nL 523.097598 333.864849 \r\nL 523.515221 335.386945 \r\nL 523.932844 332.192423 \r\nL 524.350467 331.083736 \r\nL 525.603336 329.035483 \r\nL 526.020959 324.487987 \r\nL 526.438582 325.239639 \r\nL 526.856205 334.710458 \r\nL 527.273828 348.014704 \r\nL 528.526697 348.916686 \r\nL 528.94432 353.238687 \r\nL 529.779566 350.8334 \r\nL 530.197189 354.403748 \r\nL 531.450058 348.879104 \r\nL 531.867681 341.663242 \r\nL 532.285304 327.626135 \r\nL 532.702927 327.024813 \r\nL 533.12055 313.983646 \r\nL 534.373419 311.484402 \r\nL 534.791042 309.811976 \r\nL 535.208665 307.350314 \r\nL 535.626288 302.314244 \r\nL 536.043911 305.038984 \r\nL 537.29678 305.865801 \r\nL 537.714403 309.079115 \r\nL 538.132026 305.809427 \r\nL 538.549649 308.045593 \r\nL 538.967272 309.323402 \r\nL 540.220141 306.842949 \r\nL 540.637764 307.72614 \r\nL 541.055387 305.471184 \r\nL 541.473009 305.865801 \r\nL 541.890632 305.057775 \r\nL 543.561124 306.335584 \r\nL 543.978747 307.087236 \r\nL 544.39637 308.271088 \r\nL 544.813993 301.938418 \r\nL 546.066862 298.9506 \r\nL 546.484485 296.169486 \r\nL 546.902108 294.910469 \r\nL 547.319731 295.887617 \r\nL 547.737354 299.194887 \r\nL 548.990223 300.078078 \r\nL 549.407846 298.104991 \r\nL 549.825469 301.074018 \r\nL 550.243092 300.886105 \r\nL 550.660715 304.569201 \r\nL 551.913584 304.757114 \r\nL 552.331207 310.488463 \r\nL 552.74883 308.966367 \r\nL 553.166453 310.920663 \r\nL 553.584076 311.935393 \r\nL 554.836945 317.103003 \r\nL 555.254568 312.856167 \r\nL 555.672191 313.363533 \r\nL 556.089814 310.845498 \r\nL 556.507437 311.578359 \r\nL 557.760306 307.688558 \r\nL 558.177929 313.814524 \r\nL 559.013175 311.033411 \r\nL 559.430798 306.204045 \r\nL 560.683667 301.299513 \r\nL 561.10129 301.731713 \r\nL 561.518913 306.373166 \r\nL 561.936536 300.453904 \r\nL 562.354159 299.890165 \r\nL 563.607028 300.6794 \r\nL 564.024651 299.66467 \r\nL 564.442274 301.637757 \r\nL 564.859897 298.856643 \r\nL 565.27752 299.683461 \r\nL 566.530389 299.364009 \r\nL 566.948012 296.752017 \r\nL 567.365635 293.331999 \r\nL 567.783258 294.478269 \r\nL 568.200881 300.547861 \r\nL 569.45375 302.558531 \r\nL 569.871373 301.844461 \r\nL 570.288996 280.779406 \r\nL 570.706619 269.711325 \r\nL 571.124242 268.583847 \r\nL 572.377111 266.554386 \r\nL 572.794734 270.237482 \r\nL 573.212357 269.974404 \r\nL 573.62998 266.911421 \r\nL 574.047603 269.448247 \r\nL 575.300472 266.930212 \r\nL 575.718095 265.276577 \r\nL 576.135718 264.355803 \r\nL 576.553341 258.56808 \r\nL 576.970964 250.562983 \r\nL 578.223833 254.54674 \r\nL 578.641456 255.335975 \r\nL 579.059079 255.317184 \r\nL 579.476702 254.490366 \r\nL 579.894325 253.231349 \r\nL 581.147194 249.886496 \r\nL 581.564817 246.579226 \r\nL 581.98244 240.415677 \r\nL 582.400063 236.563459 \r\nL 582.817686 231.677719 \r\nL 584.488178 230.305954 \r\nL 584.905801 233.105858 \r\nL 585.323424 240.190181 \r\nL 585.741047 243.572617 \r\nL 586.993916 249.153635 \r\nL 587.411539 238.780833 \r\nL 587.829162 244.004817 \r\nL 588.246785 233.970259 \r\nL 588.664408 238.799625 \r\nL 589.917277 249.999244 \r\nL 590.3349 249.322757 \r\nL 590.752523 249.07847 \r\nL 591.170146 245.959113 \r\nL 591.587768 250.412653 \r\nL 592.840637 244.530973 \r\nL 593.25826 241.90019 \r\nL 593.675883 245.226252 \r\nL 594.093506 236.713789 \r\nL 594.511129 235.229276 \r\nL 595.763998 232.372997 \r\nL 596.181621 228.577153 \r\nL 596.599244 223.334379 \r\nL 597.43449 237.954016 \r\nL 598.687359 238.931164 \r\nL 599.104982 233.105858 \r\nL 599.522605 252.855523 \r\nL 599.940228 256.444662 \r\nL 600.357851 242.050521 \r\nL 601.61072 250.976392 \r\nL 602.028343 241.975356 \r\nL 602.445966 243.779321 \r\nL 602.863589 253.494427 \r\nL 603.281212 247.312087 \r\nL 604.534081 244.794052 \r\nL 604.951704 240.88546 \r\nL 605.369327 255.242019 \r\nL 605.78695 246.391313 \r\nL 606.204573 252.96827 \r\nL 607.457442 260.597541 \r\nL 607.875065 258.605663 \r\nL 608.292688 248.157696 \r\nL 608.710311 241.843816 \r\nL 609.127934 269.542204 \r\nL 610.380803 280.610284 \r\nL 610.798426 276.513779 \r\nL 611.216049 264.900751 \r\nL 611.633672 267.644282 \r\nL 612.051295 275.198387 \r\nL 613.304164 294.553434 \r\nL 613.721787 298.198948 \r\nL 614.13941 308.402628 \r\nL 614.557033 299.739835 \r\nL 614.974656 295.756078 \r\nL 616.227525 310.16901 \r\nL 616.645148 326.855691 \r\nL 617.062771 327.231518 \r\nL 617.898017 335.668815 \r\nL 619.150886 331.29044 \r\nL 619.568509 332.00451 \r\nL 619.986132 319.414334 \r\nL 620.403755 322.026325 \r\nL 620.821378 323.849082 \r\nL 622.074247 312.123306 \r\nL 622.49187 327.400639 \r\nL 623.327116 331.102527 \r\nL 623.744739 342.809512 \r\nL 624.997608 340.723676 \r\nL 625.415231 342.546433 \r\nL 625.832854 341.663242 \r\nL 626.250477 338.18685 \r\nL 626.6681 348.465695 \r\nL 627.920969 351.359556 \r\nL 628.338592 347.357008 \r\nL 629.591461 376.182874 \r\nL 630.84433 383.511484 \r\nL 631.679576 364.081272 \r\nL 632.097199 365.997985 \r\nL 632.514822 365.847655 \r\nL 633.767691 363.010167 \r\nL 634.602937 362.671924 \r\nL 635.02056 392.23065 \r\nL 635.438183 380.824327 \r\nL 636.691052 381.44444 \r\nL 637.526298 371.334716 \r\nL 637.943921 370.413942 \r\nL 638.361544 373.25143 \r\nL 639.614413 377.554639 \r\nL 640.032036 371.785708 \r\nL 640.449659 368.271733 \r\nL 641.284905 364.738967 \r\nL 642.955396 371.353508 \r\nL 643.373019 370.188447 \r\nL 643.790642 372.480986 \r\nL 644.208265 362.972584 \r\nL 645.461134 365.716115 \r\nL 645.878757 368.760307 \r\nL 646.29638 348.897895 \r\nL 646.714003 346.66173 \r\nL 647.131626 346.511399 \r\nL 648.384495 337.623111 \r\nL 648.802118 332.117258 \r\nL 649.219741 332.00451 \r\nL 649.637364 338.205641 \r\nL 650.054987 339.201581 \r\nL 651.307856 341.043129 \r\nL 651.725479 338.299598 \r\nL 652.143102 339.633781 \r\nL 652.560725 338.46872 \r\nL 652.978348 339.182789 \r\nL 654.64884 338.224433 \r\nL 655.066463 336.157389 \r\nL 655.484086 337.980146 \r\nL 655.901709 334.391006 \r\nL 657.154578 332.023301 \r\nL 657.572201 331.835388 \r\nL 657.989824 330.820657 \r\nL 658.407447 334.052762 \r\nL 658.82507 330.632744 \r\nL 660.077939 328.979109 \r\nL 660.495562 329.580431 \r\nL 660.913185 331.478353 \r\nL 661.330808 335.274197 \r\nL 661.748431 334.503754 \r\nL 663.418923 319.470708 \r\nL 663.836546 317.967403 \r\nL 664.671792 309.680436 \r\nL 665.924661 306.110088 \r\nL 666.342284 308.909993 \r\nL 666.759907 305.84701 \r\nL 667.17753 292.824634 \r\nL 667.595153 300.416322 \r\nL 668.848022 304.757114 \r\nL 669.265645 308.421419 \r\nL 669.683268 305.264479 \r\nL 670.100891 304.794697 \r\nL 670.518514 302.483366 \r\nL 671.771383 300.059287 \r\nL 672.189006 294.835304 \r\nL 672.606629 292.33606 \r\nL 673.024252 291.697155 \r\nL 673.441875 289.235494 \r\nL 674.694744 283.410189 \r\nL 675.112367 284.537667 \r\nL 675.52999 282.433041 \r\nL 675.947613 285.571189 \r\nL 676.365236 285.721519 \r\nL 677.618105 285.045032 \r\nL 678.035728 285.00745 \r\nL 678.453351 277.716422 \r\nL 678.870974 276.344657 \r\nL 680.541466 275.085639 \r\nL 680.959089 269.542204 \r\nL 681.376712 270.143526 \r\nL 681.794335 273.676291 \r\nL 682.211958 275.517839 \r\nL 683.464827 274.935309 \r\nL 683.88245 282.339084 \r\nL 684.300073 263.829646 \r\nL 684.717696 266.404055 \r\nL 685.135319 261.518315 \r\nL 686.388188 267.663073 \r\nL 686.805811 278.223788 \r\nL 687.223434 278.148622 \r\nL 687.641057 282.245128 \r\nL 689.311549 310.432089 \r\nL 690.146795 300.660609 \r\nL 690.564418 302.239079 \r\nL 690.982041 304.26854 \r\nL 692.23491 315.374203 \r\nL 692.652532 308.778454 \r\nL 693.487778 321.819621 \r\nL 693.905401 323.116221 \r\nL 695.575893 324.506778 \r\nL 695.993516 326.104039 \r\nL 696.411139 324.375239 \r\nL 696.828762 330.444831 \r\nL 698.081631 333.770893 \r\nL 698.499254 321.857204 \r\nL 699.3345 311.371654 \r\nL 699.752123 302.10754 \r\nL 701.004992 297.541252 \r\nL 701.422615 293.35079 \r\nL 701.840238 294.515851 \r\nL 702.257861 294.591017 \r\nL 702.675484 297.240591 \r\nL 703.928353 295.079591 \r\nL 704.345976 286.510754 \r\nL 704.763599 287.60065 \r\nL 705.181222 284.612832 \r\nL 705.598845 285.890641 \r\nL 706.851714 286.266467 \r\nL 707.269337 291.922651 \r\nL 707.68696 283.973928 \r\nL 708.104583 284.086676 \r\nL 708.522206 287.506694 \r\nL 710.192698 278.468075 \r\nL 710.610321 275.311135 \r\nL 711.445567 275.649379 \r\nL 712.698436 283.560519 \r\nL 713.116059 281.26798 \r\nL 713.533682 277.528509 \r\nL 713.951305 280.309623 \r\nL 714.368928 277.39697 \r\nL 715.621797 273.80783 \r\nL 716.03942 275.142013 \r\nL 716.457043 277.303014 \r\nL 716.874666 272.962222 \r\nL 717.292289 278.731153 \r\nL 718.962781 266.986586 \r\nL 719.380404 267.306038 \r\nL 719.798027 270.406604 \r\nL 720.21565 269.05363 \r\nL 721.468519 265.408116 \r\nL 721.886142 267.099334 \r\nL 722.303765 259.094237 \r\nL 723.139011 276.043996 \r\nL 724.39188 296.113112 \r\nL 724.809503 289.235494 \r\nL 725.227126 285.402067 \r\nL 725.644749 277.152683 \r\nL 726.062372 281.737762 \r\nL 727.315241 282.696119 \r\nL 727.732864 266.742299 \r\nL 728.150487 278.430492 \r\nL 728.56811 280.328414 \r\nL 728.985733 271.383752 \r\nL 730.238602 264.149098 \r\nL 730.656225 264.130307 \r\nL 731.073848 259.845889 \r\nL 731.491471 260.184133 \r\nL 731.909094 278.637196 \r\nL 733.161963 271.402543 \r\nL 733.579586 275.780918 \r\nL 733.997209 273.206509 \r\nL 734.414832 266.667134 \r\nL 734.832455 267.174499 \r\nL 736.502947 272.887056 \r\nL 737.338193 258.643245 \r\nL 737.755816 258.680828 \r\nL 739.008685 256.970819 \r\nL 739.426308 252.216618 \r\nL 739.843931 239.269407 \r\nL 740.261554 240.218368 \r\nL 740.679177 248.3644 \r\nL 741.932046 246.2034 \r\nL 742.349669 244.700095 \r\nL 742.767292 240.810295 \r\nL 743.184914 244.211521 \r\nL 743.602537 250.281113 \r\nL 744.855406 248.420774 \r\nL 745.273029 250.37507 \r\nL 745.690652 244.079982 \r\nL 746.525898 248.232861 \r\nL 747.778767 238.555338 \r\nL 748.19639 237.390277 \r\nL 748.614013 247.969783 \r\nL 749.031636 244.474599 \r\nL 749.449259 232.84278 \r\nL 750.702128 232.748824 \r\nL 751.119751 237.747311 \r\nL 751.954997 227.055057 \r\nL 752.37262 215.554777 \r\nL 753.625489 216.193682 \r\nL 754.043112 217.227204 \r\nL 754.460735 219.012378 \r\nL 755.295981 215.178951 \r\nL 756.54885 207.474515 \r\nL 756.966473 208.508037 \r\nL 757.384096 202.457236 \r\nL 757.801719 201.705584 \r\nL 758.219342 196.068191 \r\nL 759.472211 191.426738 \r\nL 759.889834 202.250532 \r\nL 760.307457 202.306905 \r\nL 760.72508 191.971686 \r\nL 761.142703 178.705023 \r\nL 762.395572 175.548084 \r\nL 762.813195 176.243362 \r\nL 763.230818 176.036658 \r\nL 763.648441 171.921361 \r\nL 765.318933 166.716169 \r\nL 765.736556 167.16716 \r\nL 766.154179 162.450542 \r\nL 766.571802 165.889352 \r\nL 766.989425 160.026464 \r\nL 768.242294 157.508428 \r\nL 768.659917 159.030524 \r\nL 769.07754 164.85583 \r\nL 769.495163 167.073204 \r\nL 769.912786 167.505404 \r\nL 771.165655 158.880194 \r\nL 771.583278 162.788786 \r\nL 772.000901 156.117872 \r\nL 772.836147 157.226559 \r\nL 774.089016 163.033073 \r\nL 774.506639 171.883779 \r\nL 774.924262 167.580569 \r\nL 775.341885 160.364707 \r\nL 775.759508 150.724766 \r\nL 777.012377 157.846672 \r\nL 777.43 154.915228 \r\nL 777.847623 150.612019 \r\nL 778.265246 149.315418 \r\nL 778.682869 142.381426 \r\nL 779.935738 133.53072 \r\nL 780.353361 132.497198 \r\nL 780.770984 133.756216 \r\nL 781.188607 133.230059 \r\nL 781.60623 134.319955 \r\nL 782.859099 125.751119 \r\nL 783.276722 125.243753 \r\nL 784.111968 114.645456 \r\nL 784.529591 114.85216 \r\nL 785.78246 111.620056 \r\nL 786.200083 107.617507 \r\nL 787.035329 95.027331 \r\nL 787.452952 100.514393 \r\nL 788.705821 96.060853 \r\nL 789.123444 98.710427 \r\nL 789.541067 89.6906 \r\nL 789.95869 77.588998 \r\nL 790.376313 76.273606 \r\nL 791.629182 63.814969 \r\nL 792.046805 71.857649 \r\nL 792.464428 74.375684 \r\nL 793.299673 60.488908 \r\nL 794.970165 64.54783 \r\nL 795.387788 62.424413 \r\nL 795.805411 59.549343 \r\nL 796.223034 61.278143 \r\nL 797.475903 78.866807 \r\nL 798.311149 49.946984 \r\nL 798.728772 50.830176 \r\nL 799.146395 77.814493 \r\nL 800.399264 79.411755 \r\nL 800.816887 60.263412 \r\nL 801.23451 55.377672 \r\nL 801.652133 48.312141 \r\nL 802.069756 58.046038 \r\nL 803.322625 55.189759 \r\nL 803.740248 58.835273 \r\nL 804.157871 44.57267 \r\nL 804.575494 48.951045 \r\nL 804.993117 48.800715 \r\nL 806.663609 59.981543 \r\nL 807.081232 51.299959 \r\nL 807.498855 57.538673 \r\nL 807.916478 71.162371 \r\nL 809.169347 99.105045 \r\nL 809.58697 118.084265 \r\nL 810.004593 109.496638 \r\nL 810.422216 145.444409 \r\nL 810.839839 145.74507 \r\nL 812.092708 97.921192 \r\nL 812.510331 115.754143 \r\nL 812.927954 90.536209 \r\nL 813.345577 108.989273 \r\nL 813.7632 116.299091 \r\nL 815.016069 159.25602 \r\nL 815.433692 123.233084 \r\nL 815.851315 141.855269 \r\nL 816.268938 192.967626 \r\nL 816.686561 137.082277 \r\nL 817.93943 204.279993 \r\nL 818.357053 184.26725 \r\nL 818.774676 195.89907 \r\nL 819.192299 199.450627 \r\nL 819.609922 228.652319 \r\nL 820.862791 237.803685 \r\nL 821.280414 195.504452 \r\nL 821.698037 198.06007 \r\nL 822.11566 173.781701 \r\nL 822.533283 193.8884 \r\nL 823.786152 180.602945 \r\nL 824.203775 181.580093 \r\nL 824.621398 206.722863 \r\nL 825.039021 199.168757 \r\nL 825.456644 205.783297 \r\nL 826.709513 166.208804 \r\nL 827.127136 171.921361 \r\nL 827.544759 159.443933 \r\nL 827.962382 155.836002 \r\nL 829.632874 145.951774 \r\nL 830.050497 120.01977 \r\nL 830.46812 124.943093 \r\nL 830.885743 120.696257 \r\nL 831.303366 128.006076 \r\nL 832.556235 139.036573 \r\nL 832.973858 155.121932 \r\nL 833.391481 140.596252 \r\nL 833.809104 142.606922 \r\nL 834.226727 127.686623 \r\nL 835.479596 127.310797 \r\nL 835.897219 135.936007 \r\nL 836.314842 118.741961 \r\nL 836.732465 107.335637 \r\nL 837.150088 116.223926 \r\nL 838.402957 108.538281 \r\nL 838.82058 100.270106 \r\nL 839.655826 88.657078 \r\nL 840.073449 76.649432 \r\nL 841.326318 67.479274 \r\nL 842.161564 81.309677 \r\nL 842.579187 77.758119 \r\nL 842.99681 81.196929 \r\nL 844.249678 67.573231 \r\nL 844.667301 70.993249 \r\nL 845.084924 59.549343 \r\nL 845.502547 64.021674 \r\nL 845.92017 60.188247 \r\nL 845.92017 60.188247 \r\n\" style=\"fill:none;stroke:#1f77b4;stroke-linecap:square;stroke-width:1.5;\"/>\r\n   </g>\r\n   <g id=\"patch_3\">\r\n    <path d=\"M 46.965625 511.918125 \r\nL 46.965625 22.318125 \r\n\" style=\"fill:none;stroke:#000000;stroke-linecap:square;stroke-linejoin:miter;stroke-width:0.8;\"/>\r\n   </g>\r\n   <g id=\"patch_4\">\r\n    <path d=\"M 883.965625 511.918125 \r\nL 883.965625 22.318125 \r\n\" style=\"fill:none;stroke:#000000;stroke-linecap:square;stroke-linejoin:miter;stroke-width:0.8;\"/>\r\n   </g>\r\n   <g id=\"patch_5\">\r\n    <path d=\"M 46.965625 511.918125 \r\nL 883.965625 511.918125 \r\n\" style=\"fill:none;stroke:#000000;stroke-linecap:square;stroke-linejoin:miter;stroke-width:0.8;\"/>\r\n   </g>\r\n   <g id=\"patch_6\">\r\n    <path d=\"M 46.965625 22.318125 \r\nL 883.965625 22.318125 \r\n\" style=\"fill:none;stroke:#000000;stroke-linecap:square;stroke-linejoin:miter;stroke-width:0.8;\"/>\r\n   </g>\r\n   <g id=\"text_13\">\r\n    <!-- close Price -->\r\n    <g transform=\"translate(433.466875 16.318125)scale(0.12 -0.12)\">\r\n     <use xlink:href=\"#DejaVuSans-99\"/>\r\n     <use x=\"54.980469\" xlink:href=\"#DejaVuSans-108\"/>\r\n     <use x=\"82.763672\" xlink:href=\"#DejaVuSans-111\"/>\r\n     <use x=\"143.945312\" xlink:href=\"#DejaVuSans-115\"/>\r\n     <use x=\"196.044922\" xlink:href=\"#DejaVuSans-101\"/>\r\n     <use x=\"257.568359\" xlink:href=\"#DejaVuSans-32\"/>\r\n     <use x=\"289.355469\" xlink:href=\"#DejaVuSans-80\"/>\r\n     <use x=\"347.908203\" xlink:href=\"#DejaVuSans-114\"/>\r\n     <use x=\"389.021484\" xlink:href=\"#DejaVuSans-105\"/>\r\n     <use x=\"416.804688\" xlink:href=\"#DejaVuSans-99\"/>\r\n     <use x=\"471.785156\" xlink:href=\"#DejaVuSans-101\"/>\r\n    </g>\r\n   </g>\r\n  </g>\r\n </g>\r\n <defs>\r\n  <clipPath id=\"pef231dc476\">\r\n   <rect height=\"489.6\" width=\"837\" x=\"46.965625\" y=\"22.318125\"/>\r\n  </clipPath>\r\n </defs>\r\n</svg>\r\n",
      "image/png": "[encoded data removed]"
     },
     "metadata": {
      "needs_background": "light"
     }
    }
   ],
   "source": [
    "plt.figure(figsize=(15,10))\n",
    "df1['close'].plot()\n",
    "plt.title(\"close Price\")\n",
    "plt.xlabel('Date')\n",
    "plt.ylabel('close Price ($)')"
   ]
  },
  {
   "cell_type": "code",
   "execution_count": 15,
   "metadata": {},
   "outputs": [
    {
     "output_type": "execute_result",
     "data": {
      "text/plain": [
       "                                close        open        high         low  \\\n",
       "date                                                                        \n",
       "2015-05-27 00:00:00+00:00         NaN         NaN         NaN         NaN   \n",
       "2015-05-28 00:00:00+00:00         NaN         NaN         NaN         NaN   \n",
       "2015-05-29 00:00:00+00:00         NaN         NaN         NaN         NaN   \n",
       "2015-06-01 00:00:00+00:00         NaN         NaN         NaN         NaN   \n",
       "2015-06-02 00:00:00+00:00         NaN         NaN         NaN         NaN   \n",
       "2015-06-03 00:00:00+00:00         NaN         NaN         NaN         NaN   \n",
       "2015-06-04 00:00:00+00:00  130.582857  130.675714  131.317857  129.890000   \n",
       "2015-06-05 00:00:00+00:00  130.097857  130.555714  130.950714  129.648571   \n",
       "2015-06-08 00:00:00+00:00  129.529286  130.132857  130.559286  129.038571   \n",
       "2015-06-09 00:00:00+00:00  129.120714  129.485714  130.077857  128.427143   \n",
       "2015-06-10 00:00:00+00:00  128.884286  129.017143  129.785000  128.112857   \n",
       "2015-06-11 00:00:00+00:00  128.688571  128.920000  129.717143  127.992143   \n",
       "2015-06-12 00:00:00+00:00  128.267143  128.566429  129.344286  127.593571   \n",
       "2015-06-15 00:00:00+00:00  127.918571  128.069286  128.867143  127.136429   \n",
       "2015-06-16 00:00:00+00:00  127.768571  127.716429  128.604286  126.852143   \n",
       "2015-06-17 00:00:00+00:00  127.697143  127.547857  128.414286  126.839286   \n",
       "2015-06-18 00:00:00+00:00  127.762857  127.623571  128.447143  127.067857   \n",
       "2015-06-19 00:00:00+00:00  127.437143  127.593571  128.230000  126.860714   \n",
       "2015-06-22 00:00:00+00:00  127.297143  127.352143  127.927143  126.661429   \n",
       "2015-06-23 00:00:00+00:00  127.277143  127.251429  127.824286  126.628457   \n",
       "\n",
       "                                 volume  \n",
       "date                                     \n",
       "2015-05-27 00:00:00+00:00           NaN  \n",
       "2015-05-28 00:00:00+00:00           NaN  \n",
       "2015-05-29 00:00:00+00:00           NaN  \n",
       "2015-06-01 00:00:00+00:00           NaN  \n",
       "2015-06-02 00:00:00+00:00           NaN  \n",
       "2015-06-03 00:00:00+00:00           NaN  \n",
       "2015-06-04 00:00:00+00:00  3.752358e+07  \n",
       "2015-06-05 00:00:00+00:00  3.606552e+07  \n",
       "2015-06-08 00:00:00+00:00  3.920002e+07  \n",
       "2015-06-09 00:00:00+00:00  3.994158e+07  \n",
       "2015-06-10 00:00:00+00:00  4.093793e+07  \n",
       "2015-06-11 00:00:00+00:00  4.118411e+07  \n",
       "2015-06-12 00:00:00+00:00  4.202736e+07  \n",
       "2015-06-15 00:00:00+00:00  4.281862e+07  \n",
       "2015-06-16 00:00:00+00:00  4.222824e+07  \n",
       "2015-06-17 00:00:00+00:00  3.940585e+07  \n",
       "2015-06-18 00:00:00+00:00  3.645325e+07  \n",
       "2015-06-19 00:00:00+00:00  3.868606e+07  \n",
       "2015-06-22 00:00:00+00:00  3.849298e+07  \n",
       "2015-06-23 00:00:00+00:00  3.754764e+07  "
      ],
      "text/html": "<div>\n<style scoped>\n    .dataframe tbody tr th:only-of-type {\n        vertical-align: middle;\n    }\n\n    .dataframe tbody tr th {\n        vertical-align: top;\n    }\n\n    .dataframe thead th {\n        text-align: right;\n    }\n</style>\n<table border=\"1\" class=\"dataframe\">\n  <thead>\n    <tr style=\"text-align: right;\">\n      <th></th>\n      <th>close</th>\n      <th>open</th>\n      <th>high</th>\n      <th>low</th>\n      <th>volume</th>\n    </tr>\n    <tr>\n      <th>date</th>\n      <th></th>\n      <th></th>\n      <th></th>\n      <th></th>\n      <th></th>\n    </tr>\n  </thead>\n  <tbody>\n    <tr>\n      <th>2015-05-27 00:00:00+00:00</th>\n      <td>NaN</td>\n      <td>NaN</td>\n      <td>NaN</td>\n      <td>NaN</td>\n      <td>NaN</td>\n    </tr>\n    <tr>\n      <th>2015-05-28 00:00:00+00:00</th>\n      <td>NaN</td>\n      <td>NaN</td>\n      <td>NaN</td>\n      <td>NaN</td>\n      <td>NaN</td>\n    </tr>\n    <tr>\n      <th>2015-05-29 00:00:00+00:00</th>\n      <td>NaN</td>\n      <td>NaN</td>\n      <td>NaN</td>\n      <td>NaN</td>\n      <td>NaN</td>\n    </tr>\n    <tr>\n      <th>2015-06-01 00:00:00+00:00</th>\n      <td>NaN</td>\n      <td>NaN</td>\n      <td>NaN</td>\n      <td>NaN</td>\n      <td>NaN</td>\n    </tr>\n    <tr>\n      <th>2015-06-02 00:00:00+00:00</th>\n      <td>NaN</td>\n      <td>NaN</td>\n      <td>NaN</td>\n      <td>NaN</td>\n      <td>NaN</td>\n    </tr>\n    <tr>\n      <th>2015-06-03 00:00:00+00:00</th>\n      <td>NaN</td>\n      <td>NaN</td>\n      <td>NaN</td>\n      <td>NaN</td>\n      <td>NaN</td>\n    </tr>\n    <tr>\n      <th>2015-06-04 00:00:00+00:00</th>\n      <td>130.582857</td>\n      <td>130.675714</td>\n      <td>131.317857</td>\n      <td>129.890000</td>\n      <td>3.752358e+07</td>\n    </tr>\n    <tr>\n      <th>2015-06-05 00:00:00+00:00</th>\n      <td>130.097857</td>\n      <td>130.555714</td>\n      <td>130.950714</td>\n      <td>129.648571</td>\n      <td>3.606552e+07</td>\n    </tr>\n    <tr>\n      <th>2015-06-08 00:00:00+00:00</th>\n      <td>129.529286</td>\n      <td>130.132857</td>\n      <td>130.559286</td>\n      <td>129.038571</td>\n      <td>3.920002e+07</td>\n    </tr>\n    <tr>\n      <th>2015-06-09 00:00:00+00:00</th>\n      <td>129.120714</td>\n      <td>129.485714</td>\n      <td>130.077857</td>\n      <td>128.427143</td>\n      <td>3.994158e+07</td>\n    </tr>\n    <tr>\n      <th>2015-06-10 00:00:00+00:00</th>\n      <td>128.884286</td>\n      <td>129.017143</td>\n      <td>129.785000</td>\n      <td>128.112857</td>\n      <td>4.093793e+07</td>\n    </tr>\n    <tr>\n      <th>2015-06-11 00:00:00+00:00</th>\n      <td>128.688571</td>\n      <td>128.920000</td>\n      <td>129.717143</td>\n      <td>127.992143</td>\n      <td>4.118411e+07</td>\n    </tr>\n    <tr>\n      <th>2015-06-12 00:00:00+00:00</th>\n      <td>128.267143</td>\n      <td>128.566429</td>\n      <td>129.344286</td>\n      <td>127.593571</td>\n      <td>4.202736e+07</td>\n    </tr>\n    <tr>\n      <th>2015-06-15 00:00:00+00:00</th>\n      <td>127.918571</td>\n      <td>128.069286</td>\n      <td>128.867143</td>\n      <td>127.136429</td>\n      <td>4.281862e+07</td>\n    </tr>\n    <tr>\n      <th>2015-06-16 00:00:00+00:00</th>\n      <td>127.768571</td>\n      <td>127.716429</td>\n      <td>128.604286</td>\n      <td>126.852143</td>\n      <td>4.222824e+07</td>\n    </tr>\n    <tr>\n      <th>2015-06-17 00:00:00+00:00</th>\n      <td>127.697143</td>\n      <td>127.547857</td>\n      <td>128.414286</td>\n      <td>126.839286</td>\n      <td>3.940585e+07</td>\n    </tr>\n    <tr>\n      <th>2015-06-18 00:00:00+00:00</th>\n      <td>127.762857</td>\n      <td>127.623571</td>\n      <td>128.447143</td>\n      <td>127.067857</td>\n      <td>3.645325e+07</td>\n    </tr>\n    <tr>\n      <th>2015-06-19 00:00:00+00:00</th>\n      <td>127.437143</td>\n      <td>127.593571</td>\n      <td>128.230000</td>\n      <td>126.860714</td>\n      <td>3.868606e+07</td>\n    </tr>\n    <tr>\n      <th>2015-06-22 00:00:00+00:00</th>\n      <td>127.297143</td>\n      <td>127.352143</td>\n      <td>127.927143</td>\n      <td>126.661429</td>\n      <td>3.849298e+07</td>\n    </tr>\n    <tr>\n      <th>2015-06-23 00:00:00+00:00</th>\n      <td>127.277143</td>\n      <td>127.251429</td>\n      <td>127.824286</td>\n      <td>126.628457</td>\n      <td>3.754764e+07</td>\n    </tr>\n  </tbody>\n</table>\n</div>"
     },
     "metadata": {},
     "execution_count": 15
    }
   ],
   "source": [
    "df1.rolling(7).mean().head(20)"
   ]
  },
  {
   "cell_type": "code",
   "execution_count": 16,
   "metadata": {},
   "outputs": [
    {
     "output_type": "execute_result",
     "data": {
      "text/plain": [
       "<AxesSubplot:xlabel='date'>"
      ]
     },
     "metadata": {},
     "execution_count": 16
    },
    {
     "output_type": "display_data",
     "data": {
      "text/plain": "<Figure size 1152x432 with 1 Axes>",
      "image/svg+xml": "<?xml version=\"1.0\" encoding=\"utf-8\" standalone=\"no\"?>\r\n<!DOCTYPE svg PUBLIC \"-//W3C//DTD SVG 1.1//EN\"\r\n  \"http://www.w3.org/Graphics/SVG/1.1/DTD/svg11.dtd\">\r\n<!-- Created with matplotlib (https://matplotlib.org/) -->\r\n<svg height=\"349.944627pt\" version=\"1.1\" viewBox=\"0 0 933.2875 349.944627\" width=\"933.2875pt\" xmlns=\"http://www.w3.org/2000/svg\" xmlns:xlink=\"http://www.w3.org/1999/xlink\">\r\n <metadata>\r\n  <rdf:RDF xmlns:cc=\"http://creativecommons.org/ns#\" xmlns:dc=\"http://purl.org/dc/elements/1.1/\" xmlns:rdf=\"http://www.w3.org/1999/02/22-rdf-syntax-ns#\">\r\n   <cc:Work>\r\n    <dc:type rdf:resource=\"http://purl.org/dc/dcmitype/StillImage\"/>\r\n    <dc:date>2021-05-07T21:32:59.065033</dc:date>\r\n    <dc:format>image/svg+xml</dc:format>\r\n    <dc:creator>\r\n     <cc:Agent>\r\n      <dc:title>Matplotlib v3.3.4, https://matplotlib.org/</dc:title>\r\n     </cc:Agent>\r\n    </dc:creator>\r\n   </cc:Work>\r\n  </rdf:RDF>\r\n </metadata>\r\n <defs>\r\n  <style type=\"text/css\">*{stroke-linecap:butt;stroke-linejoin:round;}</style>\r\n </defs>\r\n <g id=\"figure_1\">\r\n  <g id=\"patch_1\">\r\n   <path d=\"M 0 349.944627 \r\nL 933.2875 349.944627 \r\nL 933.2875 0 \r\nL 0 0 \r\nz\r\n\" style=\"fill:none;\"/>\r\n  </g>\r\n  <g id=\"axes_1\">\r\n   <g id=\"patch_2\">\r\n    <path d=\"M 33.2875 300.96 \r\nL 926.0875 300.96 \r\nL 926.0875 7.2 \r\nL 33.2875 7.2 \r\nz\r\n\" style=\"fill:#ffffff;\"/>\r\n   </g>\r\n   <g id=\"matplotlib.axis_1\">\r\n    <g id=\"xtick_1\">\r\n     <g id=\"line2d_1\">\r\n      <defs>\r\n       <path d=\"M 0 0 \r\nL 0 3.5 \r\n\" id=\"m94bdd8b0f6\" style=\"stroke:#000000;stroke-width:0.8;\"/>\r\n      </defs>\r\n      <g>\r\n       <use style=\"stroke:#000000;stroke-width:0.8;\" x=\"171.426049\" xlink:href=\"#m94bdd8b0f6\" y=\"300.96\"/>\r\n      </g>\r\n     </g>\r\n     <g id=\"text_1\">\r\n      <!-- 2016 -->\r\n      <g transform=\"translate(148.345859 327.26544)rotate(-30)scale(0.1 -0.1)\">\r\n       <defs>\r\n        <path d=\"M 19.1875 8.296875 \r\nL 53.609375 8.296875 \r\nL 53.609375 0 \r\nL 7.328125 0 \r\nL 7.328125 8.296875 \r\nQ 12.9375 14.109375 22.625 23.890625 \r\nQ 32.328125 33.6875 34.8125 36.53125 \r\nQ 39.546875 41.84375 41.421875 45.53125 \r\nQ 43.3125 49.21875 43.3125 52.78125 \r\nQ 43.3125 58.59375 39.234375 62.25 \r\nQ 35.15625 65.921875 28.609375 65.921875 \r\nQ 23.96875 65.921875 18.8125 64.3125 \r\nQ 13.671875 62.703125 7.8125 59.421875 \r\nL 7.8125 69.390625 \r\nQ 13.765625 71.78125 18.9375 73 \r\nQ 24.125 74.21875 28.421875 74.21875 \r\nQ 39.75 74.21875 46.484375 68.546875 \r\nQ 53.21875 62.890625 53.21875 53.421875 \r\nQ 53.21875 48.921875 51.53125 44.890625 \r\nQ 49.859375 40.875 45.40625 35.40625 \r\nQ 44.1875 33.984375 37.640625 27.21875 \r\nQ 31.109375 20.453125 19.1875 8.296875 \r\nz\r\n\" id=\"DejaVuSans-50\"/>\r\n        <path d=\"M 31.78125 66.40625 \r\nQ 24.171875 66.40625 20.328125 58.90625 \r\nQ 16.5 51.421875 16.5 36.375 \r\nQ 16.5 21.390625 20.328125 13.890625 \r\nQ 24.171875 6.390625 31.78125 6.390625 \r\nQ 39.453125 6.390625 43.28125 13.890625 \r\nQ 47.125 21.390625 47.125 36.375 \r\nQ 47.125 51.421875 43.28125 58.90625 \r\nQ 39.453125 66.40625 31.78125 66.40625 \r\nz\r\nM 31.78125 74.21875 \r\nQ 44.046875 74.21875 50.515625 64.515625 \r\nQ 56.984375 54.828125 56.984375 36.375 \r\nQ 56.984375 17.96875 50.515625 8.265625 \r\nQ 44.046875 -1.421875 31.78125 -1.421875 \r\nQ 19.53125 -1.421875 13.0625 8.265625 \r\nQ 6.59375 17.96875 6.59375 36.375 \r\nQ 6.59375 54.828125 13.0625 64.515625 \r\nQ 19.53125 74.21875 31.78125 74.21875 \r\nz\r\n\" id=\"DejaVuSans-48\"/>\r\n        <path d=\"M 12.40625 8.296875 \r\nL 28.515625 8.296875 \r\nL 28.515625 63.921875 \r\nL 10.984375 60.40625 \r\nL 10.984375 69.390625 \r\nL 28.421875 72.90625 \r\nL 38.28125 72.90625 \r\nL 38.28125 8.296875 \r\nL 54.390625 8.296875 \r\nL 54.390625 0 \r\nL 12.40625 0 \r\nz\r\n\" id=\"DejaVuSans-49\"/>\r\n        <path d=\"M 33.015625 40.375 \r\nQ 26.375 40.375 22.484375 35.828125 \r\nQ 18.609375 31.296875 18.609375 23.390625 \r\nQ 18.609375 15.53125 22.484375 10.953125 \r\nQ 26.375 6.390625 33.015625 6.390625 \r\nQ 39.65625 6.390625 43.53125 10.953125 \r\nQ 47.40625 15.53125 47.40625 23.390625 \r\nQ 47.40625 31.296875 43.53125 35.828125 \r\nQ 39.65625 40.375 33.015625 40.375 \r\nz\r\nM 52.59375 71.296875 \r\nL 52.59375 62.3125 \r\nQ 48.875 64.0625 45.09375 64.984375 \r\nQ 41.3125 65.921875 37.59375 65.921875 \r\nQ 27.828125 65.921875 22.671875 59.328125 \r\nQ 17.53125 52.734375 16.796875 39.40625 \r\nQ 19.671875 43.65625 24.015625 45.921875 \r\nQ 28.375 48.1875 33.59375 48.1875 \r\nQ 44.578125 48.1875 50.953125 41.515625 \r\nQ 57.328125 34.859375 57.328125 23.390625 \r\nQ 57.328125 12.15625 50.6875 5.359375 \r\nQ 44.046875 -1.421875 33.015625 -1.421875 \r\nQ 20.359375 -1.421875 13.671875 8.265625 \r\nQ 6.984375 17.96875 6.984375 36.375 \r\nQ 6.984375 53.65625 15.1875 63.9375 \r\nQ 23.390625 74.21875 37.203125 74.21875 \r\nQ 40.921875 74.21875 44.703125 73.484375 \r\nQ 48.484375 72.75 52.59375 71.296875 \r\nz\r\n\" id=\"DejaVuSans-54\"/>\r\n       </defs>\r\n       <use xlink:href=\"#DejaVuSans-50\"/>\r\n       <use x=\"63.623047\" xlink:href=\"#DejaVuSans-48\"/>\r\n       <use x=\"127.246094\" xlink:href=\"#DejaVuSans-49\"/>\r\n       <use x=\"190.869141\" xlink:href=\"#DejaVuSans-54\"/>\r\n      </g>\r\n     </g>\r\n    </g>\r\n    <g id=\"xtick_2\">\r\n     <g id=\"line2d_2\">\r\n      <g>\r\n       <use style=\"stroke:#000000;stroke-width:0.8;\" x=\"334.466065\" xlink:href=\"#m94bdd8b0f6\" y=\"300.96\"/>\r\n      </g>\r\n     </g>\r\n     <g id=\"text_2\">\r\n      <!-- 2017 -->\r\n      <g transform=\"translate(311.385875 327.26544)rotate(-30)scale(0.1 -0.1)\">\r\n       <defs>\r\n        <path d=\"M 8.203125 72.90625 \r\nL 55.078125 72.90625 \r\nL 55.078125 68.703125 \r\nL 28.609375 0 \r\nL 18.3125 0 \r\nL 43.21875 64.59375 \r\nL 8.203125 64.59375 \r\nz\r\n\" id=\"DejaVuSans-55\"/>\r\n       </defs>\r\n       <use xlink:href=\"#DejaVuSans-50\"/>\r\n       <use x=\"63.623047\" xlink:href=\"#DejaVuSans-48\"/>\r\n       <use x=\"127.246094\" xlink:href=\"#DejaVuSans-49\"/>\r\n       <use x=\"190.869141\" xlink:href=\"#DejaVuSans-55\"/>\r\n      </g>\r\n     </g>\r\n    </g>\r\n    <g id=\"xtick_3\">\r\n     <g id=\"line2d_3\">\r\n      <g>\r\n       <use style=\"stroke:#000000;stroke-width:0.8;\" x=\"497.060616\" xlink:href=\"#m94bdd8b0f6\" y=\"300.96\"/>\r\n      </g>\r\n     </g>\r\n     <g id=\"text_3\">\r\n      <!-- 2018 -->\r\n      <g transform=\"translate(473.980426 327.26544)rotate(-30)scale(0.1 -0.1)\">\r\n       <defs>\r\n        <path d=\"M 31.78125 34.625 \r\nQ 24.75 34.625 20.71875 30.859375 \r\nQ 16.703125 27.09375 16.703125 20.515625 \r\nQ 16.703125 13.921875 20.71875 10.15625 \r\nQ 24.75 6.390625 31.78125 6.390625 \r\nQ 38.8125 6.390625 42.859375 10.171875 \r\nQ 46.921875 13.96875 46.921875 20.515625 \r\nQ 46.921875 27.09375 42.890625 30.859375 \r\nQ 38.875 34.625 31.78125 34.625 \r\nz\r\nM 21.921875 38.8125 \r\nQ 15.578125 40.375 12.03125 44.71875 \r\nQ 8.5 49.078125 8.5 55.328125 \r\nQ 8.5 64.0625 14.71875 69.140625 \r\nQ 20.953125 74.21875 31.78125 74.21875 \r\nQ 42.671875 74.21875 48.875 69.140625 \r\nQ 55.078125 64.0625 55.078125 55.328125 \r\nQ 55.078125 49.078125 51.53125 44.71875 \r\nQ 48 40.375 41.703125 38.8125 \r\nQ 48.828125 37.15625 52.796875 32.3125 \r\nQ 56.78125 27.484375 56.78125 20.515625 \r\nQ 56.78125 9.90625 50.3125 4.234375 \r\nQ 43.84375 -1.421875 31.78125 -1.421875 \r\nQ 19.734375 -1.421875 13.25 4.234375 \r\nQ 6.78125 9.90625 6.78125 20.515625 \r\nQ 6.78125 27.484375 10.78125 32.3125 \r\nQ 14.796875 37.15625 21.921875 38.8125 \r\nz\r\nM 18.3125 54.390625 \r\nQ 18.3125 48.734375 21.84375 45.5625 \r\nQ 25.390625 42.390625 31.78125 42.390625 \r\nQ 38.140625 42.390625 41.71875 45.5625 \r\nQ 45.3125 48.734375 45.3125 54.390625 \r\nQ 45.3125 60.0625 41.71875 63.234375 \r\nQ 38.140625 66.40625 31.78125 66.40625 \r\nQ 25.390625 66.40625 21.84375 63.234375 \r\nQ 18.3125 60.0625 18.3125 54.390625 \r\nz\r\n\" id=\"DejaVuSans-56\"/>\r\n       </defs>\r\n       <use xlink:href=\"#DejaVuSans-50\"/>\r\n       <use x=\"63.623047\" xlink:href=\"#DejaVuSans-48\"/>\r\n       <use x=\"127.246094\" xlink:href=\"#DejaVuSans-49\"/>\r\n       <use x=\"190.869141\" xlink:href=\"#DejaVuSans-56\"/>\r\n      </g>\r\n     </g>\r\n    </g>\r\n    <g id=\"xtick_4\">\r\n     <g id=\"line2d_4\">\r\n      <g>\r\n       <use style=\"stroke:#000000;stroke-width:0.8;\" x=\"659.655168\" xlink:href=\"#m94bdd8b0f6\" y=\"300.96\"/>\r\n      </g>\r\n     </g>\r\n     <g id=\"text_4\">\r\n      <!-- 2019 -->\r\n      <g transform=\"translate(636.574978 327.26544)rotate(-30)scale(0.1 -0.1)\">\r\n       <defs>\r\n        <path d=\"M 10.984375 1.515625 \r\nL 10.984375 10.5 \r\nQ 14.703125 8.734375 18.5 7.8125 \r\nQ 22.3125 6.890625 25.984375 6.890625 \r\nQ 35.75 6.890625 40.890625 13.453125 \r\nQ 46.046875 20.015625 46.78125 33.40625 \r\nQ 43.953125 29.203125 39.59375 26.953125 \r\nQ 35.25 24.703125 29.984375 24.703125 \r\nQ 19.046875 24.703125 12.671875 31.3125 \r\nQ 6.296875 37.9375 6.296875 49.421875 \r\nQ 6.296875 60.640625 12.9375 67.421875 \r\nQ 19.578125 74.21875 30.609375 74.21875 \r\nQ 43.265625 74.21875 49.921875 64.515625 \r\nQ 56.59375 54.828125 56.59375 36.375 \r\nQ 56.59375 19.140625 48.40625 8.859375 \r\nQ 40.234375 -1.421875 26.421875 -1.421875 \r\nQ 22.703125 -1.421875 18.890625 -0.6875 \r\nQ 15.09375 0.046875 10.984375 1.515625 \r\nz\r\nM 30.609375 32.421875 \r\nQ 37.25 32.421875 41.125 36.953125 \r\nQ 45.015625 41.5 45.015625 49.421875 \r\nQ 45.015625 57.28125 41.125 61.84375 \r\nQ 37.25 66.40625 30.609375 66.40625 \r\nQ 23.96875 66.40625 20.09375 61.84375 \r\nQ 16.21875 57.28125 16.21875 49.421875 \r\nQ 16.21875 41.5 20.09375 36.953125 \r\nQ 23.96875 32.421875 30.609375 32.421875 \r\nz\r\n\" id=\"DejaVuSans-57\"/>\r\n       </defs>\r\n       <use xlink:href=\"#DejaVuSans-50\"/>\r\n       <use x=\"63.623047\" xlink:href=\"#DejaVuSans-48\"/>\r\n       <use x=\"127.246094\" xlink:href=\"#DejaVuSans-49\"/>\r\n       <use x=\"190.869141\" xlink:href=\"#DejaVuSans-57\"/>\r\n      </g>\r\n     </g>\r\n    </g>\r\n    <g id=\"xtick_5\">\r\n     <g id=\"line2d_5\">\r\n      <g>\r\n       <use style=\"stroke:#000000;stroke-width:0.8;\" x=\"822.249719\" xlink:href=\"#m94bdd8b0f6\" y=\"300.96\"/>\r\n      </g>\r\n     </g>\r\n     <g id=\"text_5\">\r\n      <!-- 2020 -->\r\n      <g transform=\"translate(799.169529 327.26544)rotate(-30)scale(0.1 -0.1)\">\r\n       <use xlink:href=\"#DejaVuSans-50\"/>\r\n       <use x=\"63.623047\" xlink:href=\"#DejaVuSans-48\"/>\r\n       <use x=\"127.246094\" xlink:href=\"#DejaVuSans-50\"/>\r\n       <use x=\"190.869141\" xlink:href=\"#DejaVuSans-48\"/>\r\n      </g>\r\n     </g>\r\n    </g>\r\n    <g id=\"text_6\">\r\n     <!-- date -->\r\n     <g transform=\"translate(468.4125 340.66494)scale(0.1 -0.1)\">\r\n      <defs>\r\n       <path d=\"M 45.40625 46.390625 \r\nL 45.40625 75.984375 \r\nL 54.390625 75.984375 \r\nL 54.390625 0 \r\nL 45.40625 0 \r\nL 45.40625 8.203125 \r\nQ 42.578125 3.328125 38.25 0.953125 \r\nQ 33.9375 -1.421875 27.875 -1.421875 \r\nQ 17.96875 -1.421875 11.734375 6.484375 \r\nQ 5.515625 14.40625 5.515625 27.296875 \r\nQ 5.515625 40.1875 11.734375 48.09375 \r\nQ 17.96875 56 27.875 56 \r\nQ 33.9375 56 38.25 53.625 \r\nQ 42.578125 51.265625 45.40625 46.390625 \r\nz\r\nM 14.796875 27.296875 \r\nQ 14.796875 17.390625 18.875 11.75 \r\nQ 22.953125 6.109375 30.078125 6.109375 \r\nQ 37.203125 6.109375 41.296875 11.75 \r\nQ 45.40625 17.390625 45.40625 27.296875 \r\nQ 45.40625 37.203125 41.296875 42.84375 \r\nQ 37.203125 48.484375 30.078125 48.484375 \r\nQ 22.953125 48.484375 18.875 42.84375 \r\nQ 14.796875 37.203125 14.796875 27.296875 \r\nz\r\n\" id=\"DejaVuSans-100\"/>\r\n       <path d=\"M 34.28125 27.484375 \r\nQ 23.390625 27.484375 19.1875 25 \r\nQ 14.984375 22.515625 14.984375 16.5 \r\nQ 14.984375 11.71875 18.140625 8.90625 \r\nQ 21.296875 6.109375 26.703125 6.109375 \r\nQ 34.1875 6.109375 38.703125 11.40625 \r\nQ 43.21875 16.703125 43.21875 25.484375 \r\nL 43.21875 27.484375 \r\nz\r\nM 52.203125 31.203125 \r\nL 52.203125 0 \r\nL 43.21875 0 \r\nL 43.21875 8.296875 \r\nQ 40.140625 3.328125 35.546875 0.953125 \r\nQ 30.953125 -1.421875 24.3125 -1.421875 \r\nQ 15.921875 -1.421875 10.953125 3.296875 \r\nQ 6 8.015625 6 15.921875 \r\nQ 6 25.140625 12.171875 29.828125 \r\nQ 18.359375 34.515625 30.609375 34.515625 \r\nL 43.21875 34.515625 \r\nL 43.21875 35.40625 \r\nQ 43.21875 41.609375 39.140625 45 \r\nQ 35.0625 48.390625 27.6875 48.390625 \r\nQ 23 48.390625 18.546875 47.265625 \r\nQ 14.109375 46.140625 10.015625 43.890625 \r\nL 10.015625 52.203125 \r\nQ 14.9375 54.109375 19.578125 55.046875 \r\nQ 24.21875 56 28.609375 56 \r\nQ 40.484375 56 46.34375 49.84375 \r\nQ 52.203125 43.703125 52.203125 31.203125 \r\nz\r\n\" id=\"DejaVuSans-97\"/>\r\n       <path d=\"M 18.3125 70.21875 \r\nL 18.3125 54.6875 \r\nL 36.8125 54.6875 \r\nL 36.8125 47.703125 \r\nL 18.3125 47.703125 \r\nL 18.3125 18.015625 \r\nQ 18.3125 11.328125 20.140625 9.421875 \r\nQ 21.96875 7.515625 27.59375 7.515625 \r\nL 36.8125 7.515625 \r\nL 36.8125 0 \r\nL 27.59375 0 \r\nQ 17.1875 0 13.234375 3.875 \r\nQ 9.28125 7.765625 9.28125 18.015625 \r\nL 9.28125 47.703125 \r\nL 2.6875 47.703125 \r\nL 2.6875 54.6875 \r\nL 9.28125 54.6875 \r\nL 9.28125 70.21875 \r\nz\r\n\" id=\"DejaVuSans-116\"/>\r\n       <path d=\"M 56.203125 29.59375 \r\nL 56.203125 25.203125 \r\nL 14.890625 25.203125 \r\nQ 15.484375 15.921875 20.484375 11.0625 \r\nQ 25.484375 6.203125 34.421875 6.203125 \r\nQ 39.59375 6.203125 44.453125 7.46875 \r\nQ 49.3125 8.734375 54.109375 11.28125 \r\nL 54.109375 2.78125 \r\nQ 49.265625 0.734375 44.1875 -0.34375 \r\nQ 39.109375 -1.421875 33.890625 -1.421875 \r\nQ 20.796875 -1.421875 13.15625 6.1875 \r\nQ 5.515625 13.8125 5.515625 26.8125 \r\nQ 5.515625 40.234375 12.765625 48.109375 \r\nQ 20.015625 56 32.328125 56 \r\nQ 43.359375 56 49.78125 48.890625 \r\nQ 56.203125 41.796875 56.203125 29.59375 \r\nz\r\nM 47.21875 32.234375 \r\nQ 47.125 39.59375 43.09375 43.984375 \r\nQ 39.0625 48.390625 32.421875 48.390625 \r\nQ 24.90625 48.390625 20.390625 44.140625 \r\nQ 15.875 39.890625 15.1875 32.171875 \r\nz\r\n\" id=\"DejaVuSans-101\"/>\r\n      </defs>\r\n      <use xlink:href=\"#DejaVuSans-100\"/>\r\n      <use x=\"63.476562\" xlink:href=\"#DejaVuSans-97\"/>\r\n      <use x=\"124.755859\" xlink:href=\"#DejaVuSans-116\"/>\r\n      <use x=\"163.964844\" xlink:href=\"#DejaVuSans-101\"/>\r\n     </g>\r\n    </g>\r\n   </g>\r\n   <g id=\"matplotlib.axis_2\">\r\n    <g id=\"ytick_1\">\r\n     <g id=\"line2d_6\">\r\n      <defs>\r\n       <path d=\"M 0 0 \r\nL -3.5 0 \r\n\" id=\"mf54e69140c\" style=\"stroke:#000000;stroke-width:0.8;\"/>\r\n      </defs>\r\n      <g>\r\n       <use style=\"stroke:#000000;stroke-width:0.8;\" x=\"33.2875\" xlink:href=\"#mf54e69140c\" y=\"276.230178\"/>\r\n      </g>\r\n     </g>\r\n     <g id=\"text_7\">\r\n      <!-- 100 -->\r\n      <g transform=\"translate(7.2 280.029397)scale(0.1 -0.1)\">\r\n       <use xlink:href=\"#DejaVuSans-49\"/>\r\n       <use x=\"63.623047\" xlink:href=\"#DejaVuSans-48\"/>\r\n       <use x=\"127.246094\" xlink:href=\"#DejaVuSans-48\"/>\r\n      </g>\r\n     </g>\r\n    </g>\r\n    <g id=\"ytick_2\">\r\n     <g id=\"line2d_7\">\r\n      <g>\r\n       <use style=\"stroke:#000000;stroke-width:0.8;\" x=\"33.2875\" xlink:href=\"#mf54e69140c\" y=\"219.344704\"/>\r\n      </g>\r\n     </g>\r\n     <g id=\"text_8\">\r\n      <!-- 150 -->\r\n      <g transform=\"translate(7.2 223.143923)scale(0.1 -0.1)\">\r\n       <defs>\r\n        <path d=\"M 10.796875 72.90625 \r\nL 49.515625 72.90625 \r\nL 49.515625 64.59375 \r\nL 19.828125 64.59375 \r\nL 19.828125 46.734375 \r\nQ 21.96875 47.46875 24.109375 47.828125 \r\nQ 26.265625 48.1875 28.421875 48.1875 \r\nQ 40.625 48.1875 47.75 41.5 \r\nQ 54.890625 34.8125 54.890625 23.390625 \r\nQ 54.890625 11.625 47.5625 5.09375 \r\nQ 40.234375 -1.421875 26.90625 -1.421875 \r\nQ 22.3125 -1.421875 17.546875 -0.640625 \r\nQ 12.796875 0.140625 7.71875 1.703125 \r\nL 7.71875 11.625 \r\nQ 12.109375 9.234375 16.796875 8.0625 \r\nQ 21.484375 6.890625 26.703125 6.890625 \r\nQ 35.15625 6.890625 40.078125 11.328125 \r\nQ 45.015625 15.765625 45.015625 23.390625 \r\nQ 45.015625 31 40.078125 35.4375 \r\nQ 35.15625 39.890625 26.703125 39.890625 \r\nQ 22.75 39.890625 18.8125 39.015625 \r\nQ 14.890625 38.140625 10.796875 36.28125 \r\nz\r\n\" id=\"DejaVuSans-53\"/>\r\n       </defs>\r\n       <use xlink:href=\"#DejaVuSans-49\"/>\r\n       <use x=\"63.623047\" xlink:href=\"#DejaVuSans-53\"/>\r\n       <use x=\"127.246094\" xlink:href=\"#DejaVuSans-48\"/>\r\n      </g>\r\n     </g>\r\n    </g>\r\n    <g id=\"ytick_3\">\r\n     <g id=\"line2d_8\">\r\n      <g>\r\n       <use style=\"stroke:#000000;stroke-width:0.8;\" x=\"33.2875\" xlink:href=\"#mf54e69140c\" y=\"162.45923\"/>\r\n      </g>\r\n     </g>\r\n     <g id=\"text_9\">\r\n      <!-- 200 -->\r\n      <g transform=\"translate(7.2 166.258449)scale(0.1 -0.1)\">\r\n       <use xlink:href=\"#DejaVuSans-50\"/>\r\n       <use x=\"63.623047\" xlink:href=\"#DejaVuSans-48\"/>\r\n       <use x=\"127.246094\" xlink:href=\"#DejaVuSans-48\"/>\r\n      </g>\r\n     </g>\r\n    </g>\r\n    <g id=\"ytick_4\">\r\n     <g id=\"line2d_9\">\r\n      <g>\r\n       <use style=\"stroke:#000000;stroke-width:0.8;\" x=\"33.2875\" xlink:href=\"#mf54e69140c\" y=\"105.573756\"/>\r\n      </g>\r\n     </g>\r\n     <g id=\"text_10\">\r\n      <!-- 250 -->\r\n      <g transform=\"translate(7.2 109.372975)scale(0.1 -0.1)\">\r\n       <use xlink:href=\"#DejaVuSans-50\"/>\r\n       <use x=\"63.623047\" xlink:href=\"#DejaVuSans-53\"/>\r\n       <use x=\"127.246094\" xlink:href=\"#DejaVuSans-48\"/>\r\n      </g>\r\n     </g>\r\n    </g>\r\n    <g id=\"ytick_5\">\r\n     <g id=\"line2d_10\">\r\n      <g>\r\n       <use style=\"stroke:#000000;stroke-width:0.8;\" x=\"33.2875\" xlink:href=\"#mf54e69140c\" y=\"48.688283\"/>\r\n      </g>\r\n     </g>\r\n     <g id=\"text_11\">\r\n      <!-- 300 -->\r\n      <g transform=\"translate(7.2 52.487501)scale(0.1 -0.1)\">\r\n       <defs>\r\n        <path d=\"M 40.578125 39.3125 \r\nQ 47.65625 37.796875 51.625 33 \r\nQ 55.609375 28.21875 55.609375 21.1875 \r\nQ 55.609375 10.40625 48.1875 4.484375 \r\nQ 40.765625 -1.421875 27.09375 -1.421875 \r\nQ 22.515625 -1.421875 17.65625 -0.515625 \r\nQ 12.796875 0.390625 7.625 2.203125 \r\nL 7.625 11.71875 \r\nQ 11.71875 9.328125 16.59375 8.109375 \r\nQ 21.484375 6.890625 26.8125 6.890625 \r\nQ 36.078125 6.890625 40.9375 10.546875 \r\nQ 45.796875 14.203125 45.796875 21.1875 \r\nQ 45.796875 27.640625 41.28125 31.265625 \r\nQ 36.765625 34.90625 28.71875 34.90625 \r\nL 20.21875 34.90625 \r\nL 20.21875 43.015625 \r\nL 29.109375 43.015625 \r\nQ 36.375 43.015625 40.234375 45.921875 \r\nQ 44.09375 48.828125 44.09375 54.296875 \r\nQ 44.09375 59.90625 40.109375 62.90625 \r\nQ 36.140625 65.921875 28.71875 65.921875 \r\nQ 24.65625 65.921875 20.015625 65.03125 \r\nQ 15.375 64.15625 9.8125 62.3125 \r\nL 9.8125 71.09375 \r\nQ 15.4375 72.65625 20.34375 73.4375 \r\nQ 25.25 74.21875 29.59375 74.21875 \r\nQ 40.828125 74.21875 47.359375 69.109375 \r\nQ 53.90625 64.015625 53.90625 55.328125 \r\nQ 53.90625 49.265625 50.4375 45.09375 \r\nQ 46.96875 40.921875 40.578125 39.3125 \r\nz\r\n\" id=\"DejaVuSans-51\"/>\r\n       </defs>\r\n       <use xlink:href=\"#DejaVuSans-51\"/>\r\n       <use x=\"63.623047\" xlink:href=\"#DejaVuSans-48\"/>\r\n       <use x=\"127.246094\" xlink:href=\"#DejaVuSans-48\"/>\r\n      </g>\r\n     </g>\r\n    </g>\r\n   </g>\r\n   <g id=\"line2d_11\">\r\n    <path clip-path=\"url(#peedcb8d700)\" d=\"M 73.869318 241.712072 \r\nL 74.314783 239.982754 \r\nL 74.760247 240.699511 \r\nL 76.096641 240.733642 \r\nL 76.542105 242.258173 \r\nL 76.98757 241.348005 \r\nL 77.433034 242.576732 \r\nL 77.878499 242.667748 \r\nL 79.214892 243.350374 \r\nL 79.660357 245.853335 \r\nL 80.551286 243.031815 \r\nL 80.996751 244.163836 \r\nL 82.333144 246.535961 \r\nL 83.224073 244.692871 \r\nL 83.669538 245.250349 \r\nL 84.115002 244.704248 \r\nL 85.89686 244.965922 \r\nL 86.342325 245.273103 \r\nL 86.787789 243.395882 \r\nL 87.233254 244.749757 \r\nL 88.569647 247.264095 \r\nL 89.015112 247.138947 \r\nL 89.460577 245.625793 \r\nL 89.906041 246.160516 \r\nL 91.687899 247.855704 \r\nL 92.133364 246.77488 \r\nL 92.578828 248.37905 \r\nL 93.024293 249.095807 \r\nL 93.469757 251.268832 \r\nL 95.251615 246.604223 \r\nL 95.69708 246.96829 \r\nL 96.142544 244.670117 \r\nL 96.588009 243.145586 \r\nL 97.924403 240.995315 \r\nL 98.369867 238.856422 \r\nL 98.815332 251.211947 \r\nL 99.260796 246.42219 \r\nL 99.706261 247.423374 \r\nL 101.042654 249.960466 \r\nL 101.488119 249.63053 \r\nL 101.933583 249.892204 \r\nL 102.379048 250.836502 \r\nL 102.824512 250.517944 \r\nL 104.160906 251.769424 \r\nL 105.051835 261.49684 \r\nL 105.497299 258.060958 \r\nL 105.942764 259.642374 \r\nL 107.279158 257.42384 \r\nL 107.724622 255.967572 \r\nL 108.170087 261.974678 \r\nL 108.615551 257.981318 \r\nL 109.061016 259.938178 \r\nL 110.397409 257.981318 \r\nL 110.842874 257.537611 \r\nL 111.288338 257.913055 \r\nL 111.733803 260.211229 \r\nL 112.179267 264.363868 \r\nL 113.515661 282.066628 \r\nL 113.961125 263.590226 \r\nL 114.40659 268.169506 \r\nL 114.852054 262.293237 \r\nL 115.297519 262.384254 \r\nL 116.633913 262.429762 \r\nL 117.079377 264.648295 \r\nL 117.524842 264.853083 \r\nL 117.970306 262.020187 \r\nL 118.415771 266.024924 \r\nL 120.197629 262.975863 \r\nL 120.643093 260.575296 \r\nL 121.088558 264.545902 \r\nL 122.870416 257.366955 \r\nL 123.31588 258.106466 \r\nL 123.761345 257.742399 \r\nL 124.206809 258.413648 \r\nL 124.652274 262.338745 \r\nL 125.988668 260.677689 \r\nL 126.434132 261.007625 \r\nL 126.879597 260.723198 \r\nL 127.325061 261.155527 \r\nL 127.770526 257.526234 \r\nL 129.552384 261.633365 \r\nL 129.997848 264.659673 \r\nL 130.888777 267.117125 \r\nL 132.670635 264.136326 \r\nL 133.1161 262.873469 \r\nL 133.561564 264.636918 \r\nL 134.007029 264.853083 \r\nL 135.343423 261.747136 \r\nL 135.788887 263.920161 \r\nL 136.234352 263.385438 \r\nL 136.679816 263.795013 \r\nL 137.125281 262.82796 \r\nL 138.461674 263.942916 \r\nL 138.907139 263.328552 \r\nL 139.352603 260.302245 \r\nL 139.798068 259.926801 \r\nL 140.243532 257.23043 \r\nL 141.579926 255.660391 \r\nL 142.02539 258.709452 \r\nL 142.916319 254.955011 \r\nL 143.361784 252.349656 \r\nL 144.698178 253.623891 \r\nL 145.143642 252.577198 \r\nL 145.589107 249.914958 \r\nL 146.034571 251.371226 \r\nL 146.480036 252.213131 \r\nL 147.816429 252.383787 \r\nL 148.261894 257.002888 \r\nL 148.707358 257.605874 \r\nL 149.152823 257.731022 \r\nL 149.598287 258.936994 \r\nL 150.934681 263.283044 \r\nL 151.380145 259.255553 \r\nL 151.82561 258.299877 \r\nL 152.716539 254.386156 \r\nL 154.052933 254.306516 \r\nL 154.498397 256.513673 \r\nL 154.943862 254.374779 \r\nL 155.834791 255.421472 \r\nL 157.171184 255.762784 \r\nL 157.616649 254.898125 \r\nL 158.062113 256.832231 \r\nL 158.507578 257.401086 \r\nL 158.953042 258.8346 \r\nL 160.289436 254.636452 \r\nL 160.7349 256.297508 \r\nL 161.180365 256.160983 \r\nL 161.62583 257.981318 \r\nL 162.071294 258.948371 \r\nL 163.407688 262.372877 \r\nL 163.853152 262.645927 \r\nL 164.298617 263.635734 \r\nL 164.744081 262.55491 \r\nL 165.189546 266.093187 \r\nL 166.525939 267.947653 \r\nL 166.971404 267.811128 \r\nL 167.416868 267.95903 \r\nL 167.862333 265.990793 \r\nL 169.644191 267.594963 \r\nL 170.089655 268.31172 \r\nL 170.53512 266.468631 \r\nL 170.980585 268.254835 \r\nL 172.762443 273.260756 \r\nL 173.207907 269.688348 \r\nL 173.653372 275.593061 \r\nL 174.098836 277.731954 \r\nL 174.544301 277.879857 \r\nL 175.880694 277.402019 \r\nL 176.326159 275.604438 \r\nL 176.771623 275.866111 \r\nL 177.217088 278.551105 \r\nL 177.662552 280.553474 \r\nL 179.44441 278.039136 \r\nL 179.889875 281.804954 \r\nL 180.780804 277.78884 \r\nL 182.117198 274.50086 \r\nL 182.562662 276.309818 \r\nL 183.008127 280.735507 \r\nL 183.453591 283.295354 \r\nL 183.899056 282.157644 \r\nL 185.235449 280.246292 \r\nL 185.680914 281.440887 \r\nL 186.126378 281.918725 \r\nL 187.017307 280.189407 \r\nL 188.353701 284.046242 \r\nL 188.799166 282.726499 \r\nL 189.24463 280.872033 \r\nL 189.690095 283.295354 \r\nL 190.135559 282.84027 \r\nL 191.917417 281.895971 \r\nL 192.362882 280.018751 \r\nL 192.808346 277.549921 \r\nL 193.253811 280.781016 \r\nL 195.035669 280.325932 \r\nL 195.481133 283.079189 \r\nL 195.926598 280.72413 \r\nL 196.372062 279.415764 \r\nL 197.708456 279.802586 \r\nL 198.153921 278.903795 \r\nL 198.599385 275.649946 \r\nL 199.04485 275.570306 \r\nL 199.490314 273.533807 \r\nL 200.826708 273.511052 \r\nL 201.272172 275.342765 \r\nL 201.717637 274.739779 \r\nL 202.163101 274.626008 \r\nL 202.608566 273.681709 \r\nL 203.944959 274.057153 \r\nL 204.390424 271.724848 \r\nL 204.835888 270.985337 \r\nL 205.726817 269.0171 \r\nL 207.063211 269.483561 \r\nL 207.508676 270.257203 \r\nL 207.95414 268.857821 \r\nL 208.399605 270.006907 \r\nL 210.181463 269.403921 \r\nL 210.626927 270.666779 \r\nL 211.072392 266.388991 \r\nL 211.517856 265.171642 \r\nL 211.963321 266.241089 \r\nL 213.299714 264.375245 \r\nL 213.745179 265.410561 \r\nL 214.190643 264.59141 \r\nL 214.636108 264.909969 \r\nL 215.081572 266.093187 \r\nL 216.417966 266.024924 \r\nL 216.863431 265.603971 \r\nL 217.308895 263.942916 \r\nL 217.75436 263.009994 \r\nL 218.199824 262.452516 \r\nL 220.427147 268.675787 \r\nL 220.872611 268.345851 \r\nL 221.318076 270.530253 \r\nL 222.654469 270.541631 \r\nL 223.099934 271.781734 \r\nL 223.545398 280.781016 \r\nL 223.990863 278.949304 \r\nL 224.436327 283.067812 \r\nL 225.772721 283.096255 \r\nL 226.218186 282.828893 \r\nL 226.66365 281.691183 \r\nL 227.109115 283.056435 \r\nL 227.554579 283.773192 \r\nL 228.890973 284.194144 \r\nL 229.336437 283.8187 \r\nL 229.781902 283.648044 \r\nL 230.227366 284.512703 \r\nL 230.672831 287.607273 \r\nL 232.009224 284.888147 \r\nL 232.454689 282.430695 \r\nL 232.900153 282.874401 \r\nL 233.345618 282.328301 \r\nL 233.791082 282.328301 \r\nL 235.127476 280.928918 \r\nL 236.46387 276.594245 \r\nL 236.909334 276.867295 \r\nL 238.691192 276.685262 \r\nL 239.136657 277.345133 \r\nL 239.582121 278.960681 \r\nL 240.027586 278.744516 \r\nL 241.363979 278.516974 \r\nL 241.809444 277.08346 \r\nL 242.254908 277.345133 \r\nL 242.700373 277.936742 \r\nL 244.482231 277.720577 \r\nL 244.927696 279.279239 \r\nL 245.37316 278.710385 \r\nL 245.818625 280.269047 \r\nL 246.264089 280.075636 \r\nL 247.600483 280.781016 \r\nL 248.045947 281.986988 \r\nL 248.491412 280.496588 \r\nL 248.936876 280.849278 \r\nL 249.382341 284.296538 \r\nL 250.718734 284.194144 \r\nL 251.164199 284.307915 \r\nL 251.609663 283.090566 \r\nL 252.055128 282.555843 \r\nL 252.500593 281.361248 \r\nL 254.282451 281.475019 \r\nL 254.727915 282.373809 \r\nL 255.17338 281.122329 \r\nL 255.618844 280.223538 \r\nL 256.955238 279.927734 \r\nL 257.400702 279.449896 \r\nL 257.846167 279.176846 \r\nL 258.291631 279.1996 \r\nL 258.737096 277.458904 \r\nL 260.073489 277.7092 \r\nL 260.518954 276.73077 \r\nL 260.964418 276.230178 \r\nL 261.409883 276.423589 \r\nL 261.855348 277.072083 \r\nL 263.191741 278.22117 \r\nL 263.637206 279.848094 \r\nL 264.08267 271.377847 \r\nL 264.528135 273.01046 \r\nL 264.973599 271.463175 \r\nL 266.309993 271.212879 \r\nL 266.755457 269.347036 \r\nL 267.200922 270.757795 \r\nL 268.091851 269.09674 \r\nL 269.428244 267.674603 \r\nL 269.873709 266.866829 \r\nL 270.319173 266.320728 \r\nL 270.764638 266.536893 \r\nL 271.210103 267.378798 \r\nL 272.546496 266.969223 \r\nL 272.991961 265.274036 \r\nL 273.437425 265.877022 \r\nL 273.88289 265.729119 \r\nL 274.328354 266.252466 \r\nL 275.664748 266.150072 \r\nL 276.110212 266.457254 \r\nL 276.555677 266.485696 \r\nL 277.001141 267.822505 \r\nL 277.446606 267.799751 \r\nL 278.782999 268.698541 \r\nL 279.228464 269.631463 \r\nL 279.673929 269.790742 \r\nL 280.119393 269.244642 \r\nL 280.564858 267.469815 \r\nL 282.346716 267.242273 \r\nL 282.79218 267.321913 \r\nL 283.237645 267.981784 \r\nL 283.683109 270.951206 \r\nL 285.019503 273.215248 \r\nL 285.464967 267.68598 \r\nL 285.910432 266.297974 \r\nL 286.355896 260.461525 \r\nL 286.801361 259.028011 \r\nL 288.137754 258.948371 \r\nL 288.583219 261.383069 \r\nL 289.028684 260.472902 \r\nL 289.474148 259.904047 \r\nL 289.919613 259.824407 \r\nL 291.256006 262.98724 \r\nL 291.701471 261.439955 \r\nL 292.146935 260.654935 \r\nL 292.5924 261.257921 \r\nL 293.037864 262.054318 \r\nL 294.374258 261.769891 \r\nL 295.710651 260.643558 \r\nL 296.156116 259.949555 \r\nL 297.492509 259.141782 \r\nL 297.937974 256.09272 \r\nL 298.383439 256.490919 \r\nL 298.828903 257.128036 \r\nL 299.274368 255.887933 \r\nL 300.610761 256.513673 \r\nL 301.056226 255.54662 \r\nL 301.50169 256.604689 \r\nL 301.947155 257.048396 \r\nL 302.392619 257.105282 \r\nL 303.729013 256.775346 \r\nL 304.174477 255.808293 \r\nL 304.619942 259.949555 \r\nL 305.065406 258.720829 \r\nL 305.510871 260.450148 \r\nL 306.847264 260.700444 \r\nL 307.292729 260.916608 \r\nL 307.738194 263.26029 \r\nL 308.183658 263.738128 \r\nL 308.629123 266.525516 \r\nL 309.965516 264.762066 \r\nL 310.410981 264.500393 \r\nL 310.856445 264.989608 \r\nL 311.30191 263.61298 \r\nL 311.747374 268.129686 \r\nL 313.083768 267.458438 \r\nL 313.529232 268.755427 \r\nL 313.974697 268.607524 \r\nL 314.420161 265.069248 \r\nL 314.865626 265.171642 \r\nL 316.20202 264.716558 \r\nL 316.647484 262.63455 \r\nL 317.092949 263.305798 \r\nL 317.983878 263.567471 \r\nL 319.320271 263.226159 \r\nL 319.765736 263.96567 \r\nL 320.2112 263.032748 \r\nL 321.102129 265.797382 \r\nL 322.438523 264.853083 \r\nL 322.883987 265.421938 \r\nL 323.329452 265.694988 \r\nL 324.220381 262.224974 \r\nL 325.556775 261.110019 \r\nL 326.002239 260.484279 \r\nL 326.447704 259.119027 \r\nL 326.893168 258.732206 \r\nL 327.338633 257.492103 \r\nL 328.675026 258.254368 \r\nL 329.120491 257.184921 \r\nL 329.565955 257.116659 \r\nL 330.01142 257.628628 \r\nL 330.456884 258.493287 \r\nL 332.238742 257.435217 \r\nL 332.684207 256.297508 \r\nL 333.129671 257.514857 \r\nL 333.575136 257.287315 \r\nL 335.356994 258.254368 \r\nL 336.247923 258.117843 \r\nL 336.693388 257.139413 \r\nL 338.029781 255.808293 \r\nL 338.475246 254.875371 \r\nL 338.92071 254.909502 \r\nL 339.811639 254.48855 \r\nL 341.593497 255.364586 \r\nL 342.038962 253.475988 \r\nL 342.484426 254.158614 \r\nL 342.929891 252.964019 \r\nL 344.266285 253.475988 \r\nL 344.711749 253.987958 \r\nL 345.157214 252.99815 \r\nL 345.602678 251.576014 \r\nL 346.048143 251.04129 \r\nL 347.384536 252.417919 \r\nL 347.830001 252.167623 \r\nL 348.275465 245.477891 \r\nL 348.72093 244.402755 \r\nL 349.166394 244.021623 \r\nL 350.502788 243.088701 \r\nL 350.948252 241.484531 \r\nL 351.393717 240.562986 \r\nL 351.839181 240.221673 \r\nL 352.284646 239.300128 \r\nL 353.62104 238.594748 \r\nL 354.066504 238.151042 \r\nL 354.511969 235.818737 \r\nL 354.957433 235.648081 \r\nL 355.402898 236.296575 \r\nL 357.63022 234.783422 \r\nL 358.075685 233.702598 \r\nL 358.521149 235.375031 \r\nL 359.857543 233.975648 \r\nL 360.303007 234.043911 \r\nL 360.748472 233.122366 \r\nL 361.193936 230.721799 \r\nL 361.639401 232.109804 \r\nL 362.975795 231.444244 \r\nL 363.421259 231.791246 \r\nL 364.312188 232.155313 \r\nL 364.757653 231.575081 \r\nL 366.094046 232.030165 \r\nL 366.539511 231.518196 \r\nL 366.984975 231.393047 \r\nL 367.43044 229.902648 \r\nL 367.875904 229.584089 \r\nL 369.212298 230.266715 \r\nL 369.657762 228.321232 \r\nL 370.103227 230.898144 \r\nL 370.548691 229.288285 \r\nL 370.994156 229.015235 \r\nL 372.33055 231.415802 \r\nL 372.776014 229.686483 \r\nL 373.221479 226.535028 \r\nL 373.666943 225.954796 \r\nL 374.112408 226.48952 \r\nL 375.448801 226.500897 \r\nL 375.894266 227.024243 \r\nL 376.33973 225.920665 \r\nL 376.785195 225.841025 \r\nL 377.230659 226.478143 \r\nL 378.567053 226.626045 \r\nL 379.012517 227.376933 \r\nL 379.457982 228.901464 \r\nL 379.903447 228.548774 \r\nL 382.130769 229.117629 \r\nL 382.576234 228.582905 \r\nL 383.021698 229.333793 \r\nL 383.467163 227.945788 \r\nL 385.249021 226.273355 \r\nL 385.694485 225.636238 \r\nL 386.13995 226.259133 \r\nL 386.585414 226.068567 \r\nL 387.921808 224.919481 \r\nL 388.367272 222.143469 \r\nL 388.812737 224.362003 \r\nL 389.258202 223.303933 \r\nL 389.703666 223.030883 \r\nL 391.04006 220.448282 \r\nL 391.485524 214.941768 \r\nL 391.930989 215.214819 \r\nL 392.376453 216.557316 \r\nL 392.821918 213.99747 \r\nL 394.158311 212.50707 \r\nL 394.603776 212.58671 \r\nL 395.494705 217.899813 \r\nL 395.940169 215.499246 \r\nL 397.276563 214.793866 \r\nL 397.722027 213.769928 \r\nL 398.167492 214.9759 \r\nL 398.612957 215.101048 \r\nL 399.058421 214.793866 \r\nL 400.840279 215.453738 \r\nL 401.285744 214.827998 \r\nL 401.731208 215.738165 \r\nL 402.176673 215.271704 \r\nL 403.513066 214.407045 \r\nL 403.958531 214.907637 \r\nL 404.403995 213.633403 \r\nL 404.84946 213.371729 \r\nL 405.294924 213.439992 \r\nL 406.631318 224.191346 \r\nL 407.076783 222.575799 \r\nL 407.522247 222.188978 \r\nL 407.967712 226.944603 \r\nL 408.413176 226.421257 \r\nL 409.74957 226.557782 \r\nL 410.195034 222.905735 \r\nL 410.640499 224.441643 \r\nL 411.085963 224.157215 \r\nL 411.531428 224.885349 \r\nL 412.867821 222.564422 \r\nL 413.313286 225.021874 \r\nL 413.75875 225.613483 \r\nL 414.204215 225.363187 \r\nL 414.649679 225.658992 \r\nL 415.986073 225.169777 \r\nL 417.322467 227.285916 \r\nL 417.767931 227.422441 \r\nL 419.104325 226.045813 \r\nL 419.549789 225.340433 \r\nL 419.995254 224.043444 \r\nL 420.440718 224.464397 \r\nL 420.886183 221.654254 \r\nL 422.668041 220.254872 \r\nL 423.55897 217.63814 \r\nL 424.004434 219.356081 \r\nL 425.340828 218.684833 \r\nL 425.786293 217.296827 \r\nL 426.231757 215.533377 \r\nL 426.677222 215.078294 \r\nL 427.122686 219.469852 \r\nL 428.45908 219.458475 \r\nL 428.904544 220.368643 \r\nL 429.350009 208.78676 \r\nL 429.795473 211.323852 \r\nL 430.240938 212.438808 \r\nL 431.577331 211.312475 \r\nL 432.022796 209.560403 \r\nL 432.913725 208.08138 \r\nL 433.359189 211.835822 \r\nL 434.695583 208.741252 \r\nL 435.586512 205.760453 \r\nL 436.031977 207.376 \r\nL 436.477441 210.402308 \r\nL 437.813835 210.811883 \r\nL 438.704764 209.025679 \r\nL 439.150228 207.478394 \r\nL 439.595693 208.365808 \r\nL 440.932086 207.80833 \r\nL 441.377551 207.853838 \r\nL 441.823015 203.644313 \r\nL 442.26848 203.826347 \r\nL 442.713944 202.506604 \r\nL 444.495803 203.701199 \r\nL 444.941267 204.884417 \r\nL 445.386732 205.589797 \r\nL 445.832196 206.989179 \r\nL 447.16859 207.398755 \r\nL 447.614054 204.998188 \r\nL 448.059519 208.115512 \r\nL 448.504983 209.116696 \r\nL 448.950448 209.708305 \r\nL 450.286841 207.842461 \r\nL 450.732306 208.525087 \r\nL 451.17777 210.356799 \r\nL 451.623235 212.745989 \r\nL 452.068699 217.046531 \r\nL 453.405093 219.356081 \r\nL 454.296022 215.021408 \r\nL 454.741487 214.919014 \r\nL 455.186951 215.692657 \r\nL 456.523345 214.498062 \r\nL 456.968809 214.782489 \r\nL 457.414274 215.214819 \r\nL 457.859738 214.589079 \r\nL 458.305203 213.690288 \r\nL 460.087061 212.455873 \r\nL 460.532525 212.552579 \r\nL 462.759848 210.356799 \r\nL 463.205313 208.217905 \r\nL 463.650777 207.489771 \r\nL 464.096242 211.665165 \r\nL 464.541706 211.824444 \r\nL 465.8781 211.505886 \r\nL 466.323564 212.188512 \r\nL 466.769029 211.483132 \r\nL 467.214493 211.119065 \r\nL 467.659958 208.775383 \r\nL 468.996351 203.541919 \r\nL 469.441816 198.979704 \r\nL 469.88728 196.738417 \r\nL 470.332745 199.275509 \r\nL 470.77821 192.039677 \r\nL 472.114603 193.899832 \r\nL 472.560068 192.142071 \r\nL 473.005532 191.288788 \r\nL 473.450997 190.776819 \r\nL 473.896461 190.776819 \r\nL 475.678319 193.131878 \r\nL 476.123784 196.624646 \r\nL 476.569248 195.248017 \r\nL 477.014713 195.407297 \r\nL 478.351106 196.260579 \r\nL 478.796571 195.703101 \r\nL 479.242035 192.767811 \r\nL 480.132965 190.788196 \r\nL 481.469358 190.845082 \r\nL 481.914823 191.698364 \r\nL 482.360287 193.598339 \r\nL 482.805752 196.1013 \r\nL 483.251216 196.6474 \r\nL 484.58761 193.768995 \r\nL 485.033074 197.659962 \r\nL 485.478539 199.434788 \r\nL 486.369468 196.033037 \r\nL 487.705861 197.500682 \r\nL 488.151326 194.144439 \r\nL 488.59679 193.746241 \r\nL 489.042255 193.860012 \r\nL 489.48772 192.460629 \r\nL 490.824113 191.038492 \r\nL 491.269578 190.867836 \r\nL 491.715042 191.049869 \r\nL 492.160507 191.846266 \r\nL 492.605971 191.266034 \r\nL 494.387829 195.680347 \r\nL 494.833294 196.476744 \r\nL 495.278758 195.452805 \r\nL 495.724223 195.998906 \r\nL 497.506081 196.408481 \r\nL 497.951546 193.71211 \r\nL 498.39701 193.700733 \r\nL 498.842475 192.676794 \r\nL 500.624333 191.413936 \r\nL 501.069797 192.995353 \r\nL 501.960726 189.55947 \r\nL 503.742584 187.60261 \r\nL 504.188049 189.593601 \r\nL 504.633513 185.930177 \r\nL 505.078978 186.794836 \r\nL 506.415371 188.285235 \r\nL 507.306301 188.342121 \r\nL 508.19723 194.315096 \r\nL 509.533623 196.408481 \r\nL 509.979088 201.681765 \r\nL 510.424552 200.151545 \r\nL 510.870017 199.815921 \r\nL 511.315481 201.141353 \r\nL 512.651875 208.991548 \r\nL 513.097339 213.849567 \r\nL 513.542804 204.457776 \r\nL 514.433733 211.301098 \r\nL 515.770126 209.674174 \r\nL 516.215591 205.749076 \r\nL 516.661056 204.503284 \r\nL 517.10652 196.829434 \r\nL 517.551985 193.90552 \r\nL 519.333843 194.25821 \r\nL 519.779307 193.370797 \r\nL 520.224772 194.542638 \r\nL 520.670236 192.415121 \r\nL 522.00663 189.366059 \r\nL 522.452094 186.237358 \r\nL 522.897559 186.055325 \r\nL 523.343023 186.874476 \r\nL 523.788488 193.404928 \r\nL 525.124881 190.663048 \r\nL 525.570346 187.591233 \r\nL 526.015811 190.97023 \r\nL 526.461275 190.355867 \r\nL 526.90674 187.534347 \r\nL 528.243133 184.883484 \r\nL 528.688598 182.266752 \r\nL 529.579527 186.919984 \r\nL 530.024991 186.749328 \r\nL 531.361385 188.262481 \r\nL 531.806849 190.628917 \r\nL 532.252314 190.856459 \r\nL 532.697778 196.590515 \r\nL 533.143243 198.422227 \r\nL 534.479637 198.786294 \r\nL 534.925101 192.403744 \r\nL 535.370566 199.719216 \r\nL 535.81603 199.087787 \r\nL 537.597888 199.002459 \r\nL 538.043353 199.275509 \r\nL 538.488817 202.415587 \r\nL 538.934282 193.655224 \r\nL 539.379746 195.486936 \r\nL 540.71614 196.72704 \r\nL 541.161604 193.177386 \r\nL 541.607069 194.053422 \r\nL 542.497998 191.152263 \r\nL 543.834392 190.867722 \r\nL 544.725321 187.705004 \r\nL 545.170785 190.958853 \r\nL 545.61625 195.913577 \r\nL 547.398108 201.516797 \r\nL 547.843572 204.986811 \r\nL 548.289037 203.280246 \r\nL 548.734501 203.416771 \r\nL 550.070895 205.544061 \r\nL 550.516359 200.674664 \r\nL 550.961824 190.645983 \r\nL 551.407288 189.900783 \r\nL 553.189147 179.320085 \r\nL 553.634611 179.53625 \r\nL 554.971005 174.416557 \r\nL 556.307398 174.962657 \r\nL 556.752863 177.49975 \r\nL 557.198327 178.307523 \r\nL 557.643792 176.111744 \r\nL 558.089256 177.033289 \r\nL 559.871114 175.685103 \r\nL 560.316579 177.988965 \r\nL 560.762043 175.235708 \r\nL 561.207508 175.850071 \r\nL 562.989366 176.566828 \r\nL 563.434831 176.430303 \r\nL 563.880295 176.999157 \r\nL 564.32576 176.121756 \r\nL 566.107618 170.349246 \r\nL 566.998547 169.126208 \r\nL 567.444011 172.505205 \r\nL 569.225869 172.260597 \r\nL 569.671334 171.083068 \r\nL 570.116798 172.072875 \r\nL 570.562263 173.802194 \r\nL 571.898657 176.248269 \r\nL 572.344121 179.365593 \r\nL 573.23505 176.965026 \r\nL 573.680515 178.250638 \r\nL 575.016908 181.345208 \r\nL 575.462373 181.811668 \r\nL 575.907837 179.265702 \r\nL 576.353302 180.548811 \r\nL 576.798766 178.057227 \r\nL 578.13516 180.86737 \r\nL 578.580624 176.350663 \r\nL 579.471553 179.229068 \r\nL 579.917018 179.047034 \r\nL 581.698876 173.028551 \r\nL 582.144341 175.542889 \r\nL 582.589805 174.371049 \r\nL 583.03527 172.607599 \r\nL 584.371663 172.107007 \r\nL 584.817128 174.120752 \r\nL 585.262592 171.811202 \r\nL 585.708057 174.189015 \r\nL 586.153521 171.811202 \r\nL 587.489915 173.062683 \r\nL 587.935379 171.048937 \r\nL 588.380844 170.354707 \r\nL 588.826309 168.591484 \r\nL 589.271773 168.159155 \r\nL 590.608167 171.674677 \r\nL 591.053631 173.495012 \r\nL 591.499096 163.449038 \r\nL 591.94456 161.799359 \r\nL 592.390025 154.461133 \r\nL 593.726418 153.357554 \r\nL 594.171883 151.855778 \r\nL 594.617347 155.576088 \r\nL 595.062812 154.176705 \r\nL 595.508276 154.085689 \r\nL 596.84467 153.698867 \r\nL 597.290134 150.905791 \r\nL 597.735599 151.969549 \r\nL 598.181064 149.091144 \r\nL 599.962922 141.866689 \r\nL 600.408386 143.345711 \r\nL 600.853851 146.417527 \r\nL 601.299315 145.791786 \r\nL 601.74478 143.573253 \r\nL 603.081173 142.947513 \r\nL 603.526638 140.831373 \r\nL 603.972102 139.534384 \r\nL 604.863031 132.298552 \r\nL 607.090354 129.477033 \r\nL 607.535819 132.617111 \r\nL 607.981283 137.600278 \r\nL 609.317677 138.624217 \r\nL 609.763141 141.969083 \r\nL 610.208606 134.084756 \r\nL 610.65407 135.700303 \r\nL 611.099535 133.163211 \r\nL 612.435928 137.258965 \r\nL 612.881393 142.219379 \r\nL 613.326857 141.411605 \r\nL 613.772322 139.43199 \r\nL 614.217786 138.817627 \r\nL 615.55418 143.322957 \r\nL 615.999644 139.989468 \r\nL 616.445109 138.567331 \r\nL 616.890574 135.358991 \r\nL 618.672432 130.66025 \r\nL 619.117896 131.456647 \r\nL 619.563361 128.271061 \r\nL 620.008825 127.440533 \r\nL 620.45429 130.648873 \r\nL 621.790683 137.190703 \r\nL 622.236148 135.563778 \r\nL 622.681612 133.493147 \r\nL 623.127077 145.939689 \r\nL 623.572541 139.227203 \r\nL 624.908935 138.385298 \r\nL 625.3544 140.92239 \r\nL 625.799864 137.088309 \r\nL 626.245329 142.139739 \r\nL 626.690793 141.912197 \r\nL 628.027187 139.94396 \r\nL 628.472651 144.449289 \r\nL 628.918116 136.746996 \r\nL 629.36358 142.310395 \r\nL 629.809045 144.36965 \r\nL 631.145438 140.626585 \r\nL 631.590903 149.77377 \r\nL 632.036367 143.254694 \r\nL 632.481832 140.785865 \r\nL 632.927296 151.594105 \r\nL 634.26369 157.56708 \r\nL 634.709155 160.274828 \r\nL 635.600084 151.10489 \r\nL 636.045548 156.144943 \r\nL 637.381942 163.59694 \r\nL 637.827406 171.981859 \r\nL 638.272871 169.399258 \r\nL 638.718335 175.668037 \r\nL 639.1638 173.26747 \r\nL 640.500193 173.836325 \r\nL 640.945658 187.067886 \r\nL 641.391122 185.520601 \r\nL 642.282051 190.97023 \r\nL 643.618445 191.766626 \r\nL 644.06391 194.872573 \r\nL 644.954839 182.187113 \r\nL 645.400303 184.883484 \r\nL 646.736697 180.139236 \r\nL 647.182161 184.132596 \r\nL 648.07309 194.588146 \r\nL 648.518555 192.619909 \r\nL 649.854948 202.279062 \r\nL 650.300413 194.701917 \r\nL 650.745877 196.135431 \r\nL 651.191342 196.033037 \r\nL 651.636806 197.728224 \r\nL 652.9732 201.767093 \r\nL 653.418665 201.846732 \r\nL 653.864129 201.141353 \r\nL 654.309594 207.512526 \r\nL 654.755058 211.540017 \r\nL 656.091452 221.449467 \r\nL 656.982381 221.27881 \r\nL 657.427845 212.700481 \r\nL 657.87331 210.811883 \r\nL 659.209703 209.640042 \r\nL 660.100632 213.781305 \r\nL 660.546097 226.193715 \r\nL 660.991561 225.567975 \r\nL 662.327955 220.823726 \r\nL 662.77342 219.845296 \r\nL 663.218884 217.877059 \r\nL 663.664349 216.50043 \r\nL 664.109813 216.068101 \r\nL 665.891671 219.037523 \r\nL 666.337136 215.840559 \r\nL 666.7826 214.566324 \r\nL 667.228065 210.811883 \r\nL 669.009923 212.051986 \r\nL 669.455387 214.62321 \r\nL 669.900852 214.668718 \r\nL 670.346316 213.110056 \r\nL 671.68271 212.757366 \r\nL 672.128175 212.23402 \r\nL 672.573639 204.270054 \r\nL 673.019104 201.016204 \r\nL 673.464568 200.049151 \r\nL 674.800962 199.537182 \r\nL 675.246426 193.336665 \r\nL 675.691891 191.300166 \r\nL 676.137355 193.860012 \r\nL 676.58282 197.739601 \r\nL 677.919213 195.39592 \r\nL 678.364678 196.476744 \r\nL 678.810142 195.009098 \r\nL 679.255607 196.92045 \r\nL 679.701071 195.168378 \r\nL 681.48293 196.92045 \r\nL 681.928394 195.23664 \r\nL 682.373859 194.542638 \r\nL 682.819323 194.792934 \r\nL 684.155717 191.857643 \r\nL 685.046646 192.938467 \r\nL 685.49211 191.67561 \r\nL 685.937575 191.721118 \r\nL 687.273968 190.116948 \r\nL 687.719433 189.83252 \r\nL 688.164897 191.277411 \r\nL 688.610362 192.187579 \r\nL 689.055827 196.226448 \r\nL 690.39222 190.34449 \r\nL 690.837685 185.21342 \r\nL 691.283149 182.653574 \r\nL 691.728614 180.776353 \r\nL 692.174078 179.695529 \r\nL 693.510472 178.614705 \r\nL 693.955936 175.713546 \r\nL 694.401401 178.12549 \r\nL 694.846865 173.813571 \r\nL 695.29233 167.760956 \r\nL 696.628723 172.118384 \r\nL 697.074188 171.943176 \r\nL 697.519652 175.258462 \r\nL 697.965117 175.03092 \r\nL 698.410582 174.029736 \r\nL 699.746975 171.970482 \r\nL 700.19244 172.596222 \r\nL 700.637904 170.138769 \r\nL 701.528833 166.498099 \r\nL 702.865227 166.53223 \r\nL 703.310691 162.095163 \r\nL 703.756156 163.961007 \r\nL 704.20162 161.492177 \r\nL 704.647085 163.369398 \r\nL 705.983478 164.074778 \r\nL 706.428943 163.073593 \r\nL 706.874407 162.982577 \r\nL 707.319872 158.909577 \r\nL 709.10173 159.239512 \r\nL 709.547195 157.419177 \r\nL 709.992659 154.085689 \r\nL 710.438124 154.688675 \r\nL 710.883588 156.884454 \r\nL 712.219982 157.453309 \r\nL 712.665446 158.977839 \r\nL 713.110911 151.218661 \r\nL 713.556375 151.264169 \r\nL 714.00184 150.069574 \r\nL 715.338233 157.578457 \r\nL 715.783698 155.769499 \r\nL 716.229163 160.297582 \r\nL 716.674627 162.004147 \r\nL 717.120092 165.395658 \r\nL 718.456485 176.44168 \r\nL 718.90195 177.920702 \r\nL 719.347414 178.079981 \r\nL 719.792879 173.938719 \r\nL 720.238343 177.329093 \r\nL 721.574737 181.208682 \r\nL 722.020201 179.274576 \r\nL 722.465666 179.911694 \r\nL 722.91113 185.440962 \r\nL 723.356595 184.985878 \r\nL 725.138453 186.442146 \r\nL 725.583918 189.28642 \r\nL 726.029382 187.545724 \r\nL 726.474847 189.502585 \r\nL 728.256705 190.401375 \r\nL 728.702169 180.344023 \r\nL 729.147634 181.709275 \r\nL 729.593098 177.806931 \r\nL 730.929492 171.777071 \r\nL 731.374956 168.307057 \r\nL 731.820421 169.342373 \r\nL 732.265885 168.489091 \r\nL 732.71135 172.078564 \r\nL 734.047743 170.536968 \r\nL 734.938673 162.823297 \r\nL 735.384137 162.038278 \r\nL 735.829602 163.824482 \r\nL 737.61146 164.245434 \r\nL 738.056924 164.996322 \r\nL 738.502389 162.129295 \r\nL 738.947853 163.961007 \r\nL 740.284247 158.852691 \r\nL 740.729711 160.85506 \r\nL 741.175176 158.727543 \r\nL 742.066105 158.647904 \r\nL 743.402499 161.537686 \r\nL 743.847963 163.369398 \r\nL 744.293428 160.354468 \r\nL 744.738892 158.693412 \r\nL 745.184357 159.671842 \r\nL 746.966215 157.237144 \r\nL 747.411679 157.851507 \r\nL 747.857144 157.908392 \r\nL 748.302608 155.871892 \r\nL 749.639002 158.306591 \r\nL 750.084466 152.834208 \r\nL 750.529931 153.732999 \r\nL 750.975395 152.344993 \r\nL 751.42086 153.949163 \r\nL 753.202718 152.492895 \r\nL 753.648183 143.778041 \r\nL 754.093647 146.645069 \r\nL 754.539112 156.167697 \r\nL 755.875505 164.746026 \r\nL 756.32097 166.657378 \r\nL 756.766434 167.681317 \r\nL 757.211899 162.231688 \r\nL 757.657363 160.980208 \r\nL 758.993757 162.89156 \r\nL 759.439221 161.298767 \r\nL 759.884686 158.864068 \r\nL 760.33015 158.522756 \r\nL 760.775615 157.589834 \r\nL 762.112009 150.376756 \r\nL 762.557473 150.080951 \r\nL 763.002938 147.680384 \r\nL 763.448402 147.452842 \r\nL 763.893867 151.73063 \r\nL 765.23026 155.792253 \r\nL 765.675725 153.516834 \r\nL 766.121189 157.794621 \r\nL 766.566654 152.7887 \r\nL 767.012118 150.900102 \r\nL 768.793976 155.143758 \r\nL 769.239441 152.913848 \r\nL 769.684905 148.806717 \r\nL 770.13037 146.474412 \r\nL 771.466764 145.575622 \r\nL 771.912228 146.690577 \r\nL 772.357693 141.90082 \r\nL 772.803157 134.244035 \r\nL 773.248622 139.705041 \r\nL 774.585015 142.287641 \r\nL 775.03048 139.750549 \r\nL 775.921409 137.418245 \r\nL 776.366873 138.135002 \r\nL 777.703267 140.899636 \r\nL 778.148731 138.504757 \r\nL 778.594196 141.35472 \r\nL 779.03966 139.705041 \r\nL 779.485125 139.090678 \r\nL 780.821519 138.681102 \r\nL 781.266983 133.936854 \r\nL 781.712448 136.22365 \r\nL 782.157912 141.491245 \r\nL 782.603377 133.288359 \r\nL 783.93977 132.571602 \r\nL 784.385235 133.083572 \r\nL 785.276164 130.683005 \r\nL 785.721628 124.971703 \r\nL 787.058022 122.75317 \r\nL 787.503486 121.057982 \r\nL 787.948951 124.493865 \r\nL 788.394415 122.537005 \r\nL 788.83988 123.105859 \r\nL 790.176274 119.772371 \r\nL 790.621738 115.631108 \r\nL 791.067203 114.561661 \r\nL 791.512667 111.819781 \r\nL 791.958132 113.355689 \r\nL 793.73999 106.745597 \r\nL 794.185454 111.535354 \r\nL 796.412777 97.234346 \r\nL 797.303706 97.871463 \r\nL 797.74917 95.630176 \r\nL 798.194635 95.687061 \r\nL 799.531029 96.130768 \r\nL 799.976493 92.433212 \r\nL 800.421958 92.91105 \r\nL 800.867422 89.930251 \r\nL 801.312887 90.009891 \r\nL 802.64928 87.597947 \r\nL 803.094745 85.208757 \r\nL 803.985674 89.998514 \r\nL 804.431138 91.249994 \r\nL 805.767532 91.113469 \r\nL 806.212996 86.300958 \r\nL 806.658461 87.848243 \r\nL 807.54939 86.687779 \r\nL 808.885784 85.925514 \r\nL 809.331248 96.119391 \r\nL 810.222177 89.884743 \r\nL 810.667642 85.686595 \r\nL 812.004035 82.819567 \r\nL 812.4495 84.41236 \r\nL 812.894964 84.173441 \r\nL 813.340429 85.345282 \r\nL 813.785893 81.158511 \r\nL 815.122287 74.855601 \r\nL 815.567751 71.931687 \r\nL 816.013216 71.670014 \r\nL 816.458681 72.011327 \r\nL 816.904145 68.90538 \r\nL 818.240539 70.839486 \r\nL 818.686003 66.106615 \r\nL 819.576932 65.958712 \r\nL 820.022397 58.791143 \r\nL 821.35879 60.679741 \r\nL 821.804255 60.145017 \r\nL 822.695184 52.96607 \r\nL 823.140648 51.930755 \r\nL 824.477042 55.753458 \r\nL 824.922506 48.870316 \r\nL 825.367971 51.919378 \r\nL 825.813436 40.456955 \r\nL 826.2589 36.628562 \r\nL 827.595294 35.445344 \r\nL 828.040758 29.688534 \r\nL 828.486223 35.206425 \r\nL 828.931687 33.226811 \r\nL 829.377152 30.177749 \r\nL 831.15901 29.131057 \r\nL 831.604474 27.549641 \r\nL 832.049939 28.300529 \r\nL 832.495403 25.649666 \r\nL 833.831797 37.242925 \r\nL 834.277262 34.353143 \r\nL 834.722726 20.871286 \r\nL 835.168191 25.315748 \r\nL 835.613655 24.876023 \r\nL 836.950049 43.796132 \r\nL 837.395513 31.269951 \r\nL 837.840978 21.929356 \r\nL 838.286442 23.01018 \r\nL 838.731907 23.237722 \r\nL 840.0683 32.555562 \r\nL 840.513765 21.838339 \r\nL 840.959229 24.26166 \r\nL 841.404694 21.16709 \r\nL 841.850158 20.552727 \r\nL 843.632017 31.213065 \r\nL 844.077481 25.934093 \r\nL 844.522946 22.941917 \r\nL 844.96841 27.504132 \r\nL 846.304804 51.805607 \r\nL 846.750268 47.607459 \r\nL 847.195733 64.013229 \r\nL 847.641197 70.190992 \r\nL 848.086662 97.313986 \r\nL 849.423055 68.848495 \r\nL 849.86852 44.512889 \r\nL 850.313984 52.738528 \r\nL 850.759449 53.785221 \r\nL 851.204913 69.167053 \r\nL 852.541307 89.930251 \r\nL 852.986772 74.696321 \r\nL 853.432236 74.411894 \r\nL 853.877701 98.815762 \r\nL 854.323165 88.633262 \r\nL 855.659559 114.732318 \r\nL 856.105023 108.406653 \r\nL 856.550488 117.212524 \r\nL 856.995952 108.548867 \r\nL 857.441417 108.782097 \r\nL 858.77781 130.512348 \r\nL 859.223275 121.092114 \r\nL 859.668739 104.720474 \r\nL 860.114204 109.532985 \r\nL 860.559668 102.445055 \r\nL 861.896062 104.731851 \r\nL 862.341527 99.202583 \r\nL 862.786991 109.55574 \r\nL 863.232456 116.56403 \r\nL 863.67792 113.765265 \r\nL 865.014314 104.549818 \r\nL 865.459778 81.909399 \r\nL 865.905243 91.079338 \r\nL 866.350707 84.298589 \r\nL 868.132565 84.742296 \r\nL 868.57803 71.442472 \r\nL 869.023494 68.711969 \r\nL 869.468959 63.046176 \r\nL 869.914423 66.106615 \r\nL 871.250817 73.774777 \r\nL 871.696282 75.674751 \r\nL 872.141746 78.712436 \r\nL 872.587211 76.141212 \r\nL 873.032675 74.628059 \r\nL 874.369069 69.394595 \r\nL 874.814533 65.662908 \r\nL 875.259998 66.061106 \r\nL 875.705462 60.110886 \r\nL 876.150927 64.331788 \r\nL 877.48732 61.009676 \r\nL 878.378249 48.164936 \r\nL 879.269178 42.271601 \r\nL 880.605572 39.472836 \r\nL 881.051037 28.402923 \r\nL 881.496501 34.865112 \r\nL 881.941966 43.557213 \r\nL 882.38743 48.290084 \r\nL 883.723824 33.704649 \r\nL 885.060217 27.458624 \r\nL 885.505682 30.746604 \r\nL 885.505682 30.746604 \r\n\" style=\"fill:none;stroke:#1f77b4;stroke-linecap:square;stroke-width:1.5;\"/>\r\n   </g>\r\n   <g id=\"line2d_12\">\r\n    <path clip-path=\"url(#peedcb8d700)\" d=\"M 92.578828 244.634279 \r\nL 93.469757 245.410766 \r\nL 94.806151 245.585973 \r\nL 95.69708 245.891827 \r\nL 96.588009 245.943024 \r\nL 98.815332 245.784883 \r\nL 99.706261 246.081066 \r\nL 101.488119 246.38218 \r\nL 102.824512 246.993509 \r\nL 104.160906 247.302966 \r\nL 105.942764 249.182462 \r\nL 107.279158 249.449066 \r\nL 109.061016 251.085661 \r\nL 110.397409 251.420906 \r\nL 111.733803 252.33752 \r\nL 112.179267 253.001943 \r\nL 113.515661 253.856742 \r\nL 114.40659 255.335764 \r\nL 115.297519 256.546287 \r\nL 116.633913 257.278593 \r\nL 117.079377 258.151974 \r\nL 118.415771 259.778899 \r\nL 120.197629 260.17558 \r\nL 121.088558 261.072475 \r\nL 121.534022 261.381932 \r\nL 123.31588 261.691009 \r\nL 123.761345 261.623884 \r\nL 124.652274 261.743723 \r\nL 125.988668 261.75548 \r\nL 126.434132 261.995157 \r\nL 127.770526 261.989468 \r\nL 129.106919 262.12296 \r\nL 129.997848 262.665268 \r\nL 130.888777 262.95728 \r\nL 132.225171 262.766903 \r\nL 133.1161 262.189326 \r\nL 137.125281 262.226112 \r\nL 138.907139 262.077451 \r\nL 140.243532 261.644742 \r\nL 142.470855 261.603026 \r\nL 143.361784 261.122913 \r\nL 144.698178 260.896509 \r\nL 145.589107 260.257495 \r\nL 146.480036 259.792172 \r\nL 147.816429 259.483853 \r\nL 149.152823 258.738274 \r\nL 151.82561 258.198052 \r\nL 152.716539 257.573828 \r\nL 154.052933 257.340598 \r\nL 154.943862 256.775156 \r\nL 158.953042 255.777764 \r\nL 160.289436 255.808103 \r\nL 161.180365 255.65565 \r\nL 161.62583 255.773213 \r\nL 162.071294 256.051952 \r\nL 163.407688 256.318176 \r\nL 164.744081 257.643229 \r\nL 165.189546 258.207912 \r\nL 166.525939 258.728603 \r\nL 166.971404 259.234505 \r\nL 167.862333 259.850385 \r\nL 170.089655 260.324431 \r\nL 170.980585 260.904094 \r\nL 172.762443 261.356902 \r\nL 173.653372 262.671715 \r\nL 174.544301 264.310775 \r\nL 175.880694 265.050286 \r\nL 177.662552 267.922244 \r\nL 179.44441 268.625349 \r\nL 180.780804 270.939829 \r\nL 182.117198 271.553434 \r\nL 183.008127 272.916409 \r\nL 183.899056 274.112521 \r\nL 185.235449 274.677963 \r\nL 185.680914 275.227856 \r\nL 186.571843 276.001878 \r\nL 187.017307 276.502849 \r\nL 188.353701 277.018611 \r\nL 190.135559 279.064971 \r\nL 191.917417 279.391873 \r\nL 193.253811 280.087392 \r\nL 195.035669 280.157172 \r\nL 196.372062 280.388885 \r\nL 197.708456 280.496209 \r\nL 199.04485 280.033541 \r\nL 199.490314 279.779073 \r\nL 201.717637 279.658855 \r\nL 202.608566 279.055111 \r\nL 203.944959 278.858666 \r\nL 204.835888 278.113846 \r\nL 205.726817 277.402019 \r\nL 207.063211 276.951107 \r\nL 208.399605 275.652222 \r\nL 210.181463 275.216479 \r\nL 211.963321 273.274409 \r\nL 213.299714 272.70252 \r\nL 215.081572 270.672088 \r\nL 216.417966 270.212833 \r\nL 217.308895 269.254881 \r\nL 218.199824 268.507785 \r\nL 219.536218 268.338267 \r\nL 221.318076 267.560832 \r\nL 223.099934 267.384487 \r\nL 223.545398 267.640851 \r\nL 224.436327 268.520679 \r\nL 225.772721 268.986382 \r\nL 227.109115 270.357322 \r\nL 227.554579 270.848433 \r\nL 228.890973 271.318686 \r\nL 229.781902 272.506076 \r\nL 230.672831 273.951725 \r\nL 232.009224 274.605529 \r\nL 233.791082 276.89991 \r\nL 235.127476 277.377368 \r\nL 236.909334 279.127545 \r\nL 238.691192 279.416523 \r\nL 240.027586 280.399125 \r\nL 241.363979 280.666486 \r\nL 242.254908 281.101091 \r\nL 245.37316 280.524273 \r\nL 246.264089 280.317589 \r\nL 248.045947 280.109009 \r\nL 250.718734 279.718395 \r\nL 252.055128 279.655442 \r\nL 252.500593 279.591351 \r\nL 255.17338 279.708535 \r\nL 255.618844 279.820031 \r\nL 257.400702 280.061225 \r\nL 257.846167 280.174617 \r\nL 260.518954 280.002443 \r\nL 261.855348 279.986136 \r\nL 263.637206 280.068051 \r\nL 266.755457 278.571963 \r\nL 268.091851 277.374334 \r\nL 269.428244 276.806617 \r\nL 270.319173 275.624158 \r\nL 271.210103 274.633972 \r\nL 272.546496 274.118589 \r\nL 274.328354 272.074504 \r\nL 275.664748 271.637245 \r\nL 277.001141 270.44758 \r\nL 277.446606 270.138123 \r\nL 278.782999 269.873037 \r\nL 280.119393 269.130871 \r\nL 280.564858 268.786903 \r\nL 282.346716 268.394014 \r\nL 282.79218 267.950687 \r\nL 283.237645 267.853223 \r\nL 283.683109 267.899111 \r\nL 285.464967 267.78041 \r\nL 286.355896 267.133053 \r\nL 286.801361 266.789844 \r\nL 288.137754 266.55851 \r\nL 289.919613 265.749219 \r\nL 291.701471 265.434074 \r\nL 293.037864 264.997952 \r\nL 294.374258 264.878113 \r\nL 297.492509 263.734715 \r\nL 298.828903 262.532535 \r\nL 299.274368 262.119167 \r\nL 300.610761 261.746757 \r\nL 301.947155 260.606393 \r\nL 302.392619 260.095561 \r\nL 303.729013 259.632514 \r\nL 304.174477 259.2419 \r\nL 304.619942 259.097032 \r\nL 305.510871 259.183877 \r\nL 307.292729 259.264275 \r\nL 308.183658 259.52026 \r\nL 308.629123 259.667024 \r\nL 310.410981 259.837681 \r\nL 313.083768 260.554058 \r\nL 313.974697 260.893475 \r\nL 314.865626 261.194589 \r\nL 316.20202 261.358419 \r\nL 317.983878 261.957613 \r\nL 319.320271 262.18743 \r\nL 320.656665 262.971312 \r\nL 321.102129 263.242845 \r\nL 322.438523 263.526893 \r\nL 323.329452 264.092714 \r\nL 324.220381 264.244409 \r\nL 326.002239 264.197763 \r\nL 329.120491 263.120352 \r\nL 330.456884 262.356569 \r\nL 332.238742 262.021704 \r\nL 333.129671 261.237822 \r\nL 333.575136 261.016727 \r\nL 335.356994 260.7816 \r\nL 336.693388 260.138794 \r\nL 338.029781 259.844507 \r\nL 339.811639 258.638156 \r\nL 341.593497 258.239578 \r\nL 342.929891 257.07115 \r\nL 344.266285 256.727941 \r\nL 346.048143 255.545482 \r\nL 347.384536 255.301254 \r\nL 347.830001 255.091536 \r\nL 349.166394 253.695946 \r\nL 350.502788 253.194216 \r\nL 352.284646 250.870254 \r\nL 353.62104 250.242239 \r\nL 355.402898 247.322307 \r\nL 357.184756 246.609722 \r\nL 358.521149 244.620627 \r\nL 359.857543 243.950137 \r\nL 361.639401 241.041013 \r\nL 362.975795 240.30757 \r\nL 364.757653 237.559243 \r\nL 366.094046 236.90506 \r\nL 367.43044 235.069176 \r\nL 367.875904 234.634571 \r\nL 369.212298 234.165077 \r\nL 370.994156 232.779346 \r\nL 372.33055 232.447135 \r\nL 373.666943 231.384135 \r\nL 374.112408 231.0688 \r\nL 375.448801 230.76617 \r\nL 377.230659 229.674348 \r\nL 379.903447 229.106251 \r\nL 382.576234 228.913979 \r\nL 383.467163 228.647375 \r\nL 384.803556 228.476719 \r\nL 386.13995 227.970438 \r\nL 388.367272 227.378829 \r\nL 389.703666 226.606324 \r\nL 391.04006 226.137209 \r\nL 391.930989 225.281272 \r\nL 392.821918 224.446952 \r\nL 394.158311 223.990351 \r\nL 394.603776 223.54399 \r\nL 395.494705 223.013059 \r\nL 395.940169 222.656576 \r\nL 397.276563 222.25269 \r\nL 398.612957 220.947737 \r\nL 399.058421 220.471416 \r\nL 400.840279 220.0224 \r\nL 402.176673 218.61657 \r\nL 403.513066 218.17438 \r\nL 404.84946 216.924417 \r\nL 405.294924 216.727593 \r\nL 407.076783 216.660089 \r\nL 409.74957 217.115173 \r\nL 411.531428 218.306734 \r\nL 412.867821 218.696589 \r\nL 413.75875 219.516119 \r\nL 414.649679 220.088387 \r\nL 415.986073 220.450937 \r\nL 416.877002 220.826381 \r\nL 417.767931 221.593577 \r\nL 419.104325 221.927684 \r\nL 420.440718 222.724081 \r\nL 420.886183 222.881084 \r\nL 422.668041 223.250461 \r\nL 424.004434 223.750294 \r\nL 425.340828 223.632352 \r\nL 426.677222 222.889428 \r\nL 427.122686 222.691845 \r\nL 428.904544 222.306162 \r\nL 430.240938 221.07023 \r\nL 431.577331 220.595047 \r\nL 433.359189 218.513797 \r\nL 434.695583 217.913466 \r\nL 436.031977 216.01387 \r\nL 436.477441 215.508727 \r\nL 437.813835 215.047955 \r\nL 439.150228 213.531388 \r\nL 439.595693 213.121054 \r\nL 440.932086 212.669383 \r\nL 442.713944 210.674599 \r\nL 444.495803 210.295742 \r\nL 445.832196 209.346134 \r\nL 447.16859 208.89105 \r\nL 448.059519 208.066969 \r\nL 448.504983 208.023736 \r\nL 448.950448 207.860285 \r\nL 450.732306 207.776853 \r\nL 451.17777 207.928927 \r\nL 451.623235 208.219802 \r\nL 452.068699 208.34988 \r\nL 453.405093 208.612691 \r\nL 455.186951 209.579364 \r\nL 456.968809 209.822834 \r\nL 457.859738 210.235823 \r\nL 458.305203 210.38638 \r\nL 459.641596 210.538833 \r\nL 460.97799 211.270001 \r\nL 461.423454 211.535846 \r\nL 463.650777 211.83658 \r\nL 464.541706 212.127075 \r\nL 466.323564 212.471801 \r\nL 467.214493 212.627667 \r\nL 468.996351 212.202164 \r\nL 469.88728 211.400837 \r\nL 470.332745 210.842601 \r\nL 470.77821 210.060995 \r\nL 472.114603 209.162204 \r\nL 473.896461 205.869294 \r\nL 475.232855 205.104753 \r\nL 477.014713 202.714805 \r\nL 478.351106 202.178564 \r\nL 479.242035 200.826586 \r\nL 480.132965 200.107175 \r\nL 481.469358 199.45868 \r\nL 482.360287 198.616775 \r\nL 483.251216 197.586769 \r\nL 484.58761 197.072903 \r\nL 486.369468 195.16724 \r\nL 488.59679 194.491061 \r\nL 489.48772 194.066696 \r\nL 491.715042 193.924482 \r\nL 495.724223 194.291583 \r\nL 497.951546 194.16871 \r\nL 498.842475 193.982505 \r\nL 501.515262 193.938514 \r\nL 501.960726 193.649915 \r\nL 503.742584 193.485326 \r\nL 505.078978 192.486797 \r\nL 506.415371 192.183787 \r\nL 507.306301 191.707086 \r\nL 509.979088 192.136003 \r\nL 510.870017 192.711684 \r\nL 511.315481 193.244132 \r\nL 512.651875 193.921448 \r\nL 513.542804 194.962452 \r\nL 514.433733 196.085372 \r\nL 516.215591 196.588239 \r\nL 516.661056 196.773686 \r\nL 517.551985 196.767618 \r\nL 519.779307 197.011467 \r\nL 520.224772 197.080867 \r\nL 522.897559 196.772548 \r\nL 523.788488 197.043702 \r\nL 526.461275 197.091486 \r\nL 526.90674 196.755103 \r\nL 528.243133 196.367903 \r\nL 530.024991 194.663614 \r\nL 531.361385 194.102344 \r\nL 531.806849 193.391276 \r\nL 533.143243 192.354443 \r\nL 535.370566 191.439345 \r\nL 535.81603 191.423797 \r\nL 540.71614 192.122729 \r\nL 542.052533 192.716235 \r\nL 544.279856 192.687413 \r\nL 544.725321 192.643042 \r\nL 545.170785 192.727612 \r\nL 545.61625 193.153115 \r\nL 546.952643 193.71211 \r\nL 547.843572 195.04323 \r\nL 548.734501 196.201797 \r\nL 550.516359 196.92083 \r\nL 550.961824 196.870391 \r\nL 551.407288 196.65726 \r\nL 551.852753 196.089164 \r\nL 553.189147 195.322348 \r\nL 553.634611 194.818722 \r\nL 554.52554 193.203933 \r\nL 554.971005 192.414742 \r\nL 556.307398 191.600521 \r\nL 557.643792 189.749468 \r\nL 558.089256 189.069496 \r\nL 559.42565 188.402799 \r\nL 561.207508 186.214983 \r\nL 562.989366 185.756866 \r\nL 563.880295 185.063242 \r\nL 564.32576 184.401854 \r\nL 565.662153 183.411667 \r\nL 567.444011 178.997354 \r\nL 568.780405 177.900982 \r\nL 569.671334 176.057134 \r\nL 570.562263 175.064293 \r\nL 572.789586 174.840923 \r\nL 573.23505 174.912977 \r\nL 573.680515 175.107147 \r\nL 576.798766 175.75109 \r\nL 578.13516 175.718097 \r\nL 578.580624 175.858793 \r\nL 579.917018 175.940329 \r\nL 582.589805 175.647938 \r\nL 583.03527 175.478798 \r\nL 584.817128 175.4678 \r\nL 586.153521 175.734404 \r\nL 587.935379 175.670692 \r\nL 589.271773 175.434428 \r\nL 591.053631 175.335068 \r\nL 591.499096 174.735495 \r\nL 592.390025 173.08885 \r\nL 593.726418 172.172994 \r\nL 595.508276 168.58883 \r\nL 596.84467 167.687764 \r\nL 597.735599 165.833677 \r\nL 598.626528 163.651929 \r\nL 599.962922 162.708389 \r\nL 601.74478 158.872412 \r\nL 603.081173 157.847335 \r\nL 603.972102 155.54044 \r\nL 604.863031 152.910814 \r\nL 606.644889 151.51712 \r\nL 607.535819 149.160165 \r\nL 607.981283 148.132813 \r\nL 609.317677 147.095602 \r\nL 610.208606 144.641183 \r\nL 610.65407 143.696505 \r\nL 611.099535 143.072661 \r\nL 612.435928 142.697596 \r\nL 613.326857 141.922816 \r\nL 614.217786 141.105182 \r\nL 615.55418 140.602314 \r\nL 617.336038 138.663657 \r\nL 618.672432 138.296556 \r\nL 620.45429 136.302152 \r\nL 621.790683 136.013553 \r\nL 622.236148 135.674895 \r\nL 622.681612 135.80156 \r\nL 623.127077 136.125048 \r\nL 624.908935 136.625261 \r\nL 626.245329 137.344673 \r\nL 626.690793 137.420141 \r\nL 628.472651 137.374633 \r\nL 629.809045 138.138036 \r\nL 631.145438 138.351925 \r\nL 631.590903 138.539268 \r\nL 632.481832 138.437632 \r\nL 632.927296 138.823695 \r\nL 634.26369 139.551829 \r\nL 634.709155 140.250383 \r\nL 635.154619 140.647443 \r\nL 636.045548 142.078303 \r\nL 637.381942 143.333196 \r\nL 639.1638 149.00885 \r\nL 640.500193 150.446535 \r\nL 641.391122 153.839564 \r\nL 642.282051 155.438425 \r\nL 643.618445 157.239419 \r\nL 645.400303 163.436523 \r\nL 646.736697 164.744509 \r\nL 647.182161 166.411633 \r\nL 648.07309 168.232347 \r\nL 648.518555 169.999589 \r\nL 649.854948 171.903357 \r\nL 651.636806 178.977634 \r\nL 652.9732 181.187824 \r\nL 654.309594 186.081871 \r\nL 654.755058 188.32771 \r\nL 656.091452 190.666082 \r\nL 656.982381 192.459871 \r\nL 657.87331 195.266979 \r\nL 659.209703 196.36904 \r\nL 660.100632 197.639103 \r\nL 660.546097 199.586104 \r\nL 660.991561 201.012033 \r\nL 662.327955 202.113715 \r\nL 663.218884 203.820658 \r\nL 664.109813 205.442653 \r\nL 665.446207 206.616011 \r\nL 667.228065 210.368556 \r\nL 669.009923 211.18088 \r\nL 670.346316 212.786567 \r\nL 671.68271 213.27199 \r\nL 672.128175 213.889008 \r\nL 673.019104 213.802921 \r\nL 673.464568 213.785856 \r\nL 674.800962 213.392967 \r\nL 675.246426 212.734991 \r\nL 676.137355 210.929067 \r\nL 676.58282 210.426958 \r\nL 677.919213 209.923332 \r\nL 679.255607 208.407144 \r\nL 679.701071 207.33656 \r\nL 681.48293 206.476831 \r\nL 682.373859 204.792641 \r\nL 682.819323 204.047063 \r\nL 684.155717 203.272282 \r\nL 685.937575 199.972166 \r\nL 687.273968 199.214073 \r\nL 689.055827 196.228723 \r\nL 690.39222 195.427017 \r\nL 691.728614 192.767811 \r\nL 692.174078 192.021473 \r\nL 693.510472 191.206115 \r\nL 694.846865 189.305761 \r\nL 695.29233 188.543116 \r\nL 696.628723 187.847976 \r\nL 698.410582 185.093581 \r\nL 699.746975 184.304011 \r\nL 701.528833 180.698609 \r\nL 702.865227 179.717525 \r\nL 704.647085 175.901647 \r\nL 705.983478 175.014992 \r\nL 706.874407 173.030448 \r\nL 707.319872 171.841162 \r\nL 709.10173 170.642016 \r\nL 710.438124 167.668802 \r\nL 710.883588 166.888713 \r\nL 712.219982 166.187504 \r\nL 712.665446 165.70777 \r\nL 713.556375 164.001964 \r\nL 714.00184 163.370156 \r\nL 715.338233 162.709147 \r\nL 716.674627 161.098151 \r\nL 717.120092 160.777316 \r\nL 719.347414 161.15314 \r\nL 721.574737 162.134225 \r\nL 722.465666 163.280277 \r\nL 723.356595 164.832872 \r\nL 725.138453 165.615616 \r\nL 726.474847 168.302885 \r\nL 727.81124 169.461832 \r\nL 729.147634 172.183612 \r\nL 729.593098 172.757397 \r\nL 730.929492 173.201862 \r\nL 732.265885 174.44007 \r\nL 732.71135 175.062397 \r\nL 734.047743 175.739713 \r\nL 734.493208 176.120087 \r\nL 735.384137 176.439784 \r\nL 735.829602 176.513355 \r\nL 737.165995 176.460262 \r\nL 738.947853 175.032437 \r\nL 740.284247 174.556495 \r\nL 741.175176 173.136254 \r\nL 742.066105 172.322792 \r\nL 743.402499 171.550667 \r\nL 744.738892 168.833816 \r\nL 745.184357 167.885725 \r\nL 746.52075 166.742706 \r\nL 747.411679 164.660319 \r\nL 748.302608 163.12479 \r\nL 749.639002 162.477434 \r\nL 750.529931 161.335173 \r\nL 751.42086 160.333231 \r\nL 752.757254 159.690804 \r\nL 754.093647 158.172341 \r\nL 754.539112 157.999409 \r\nL 756.32097 158.265633 \r\nL 757.657363 157.948971 \r\nL 758.993757 157.851886 \r\nL 759.439221 157.570493 \r\nL 760.775615 157.584904 \r\nL 762.112009 157.193152 \r\nL 763.448402 156.084265 \r\nL 763.893867 156.109294 \r\nL 766.121189 155.990973 \r\nL 767.012118 155.630698 \r\nL 769.239441 155.675069 \r\nL 770.13037 155.263597 \r\nL 771.466764 155.019748 \r\nL 771.912228 154.753524 \r\nL 772.357693 154.191875 \r\nL 773.248622 153.41956 \r\nL 774.585015 152.817332 \r\nL 775.921409 149.971162 \r\nL 776.366873 149.428854 \r\nL 777.703267 148.756468 \r\nL 778.594196 147.646822 \r\nL 779.485125 146.349074 \r\nL 780.821519 145.686548 \r\nL 781.266983 145.146516 \r\nL 782.157912 144.510157 \r\nL 782.603377 143.958368 \r\nL 783.93977 143.032272 \r\nL 784.830699 141.485746 \r\nL 785.721628 139.522818 \r\nL 787.058022 138.493949 \r\nL 787.948951 136.415733 \r\nL 788.83988 134.70348 \r\nL 790.176274 133.704571 \r\nL 791.958132 130.246883 \r\nL 793.294525 129.141408 \r\nL 794.630919 126.45338 \r\nL 795.076383 125.008868 \r\nL 796.412777 123.538189 \r\nL 798.194635 117.60238 \r\nL 799.531029 116.152558 \r\nL 800.421958 113.009446 \r\nL 801.312887 109.953938 \r\nL 802.64928 108.435475 \r\nL 803.540209 105.475534 \r\nL 804.431138 103.295304 \r\nL 805.767532 102.138632 \r\nL 806.658461 99.77068 \r\nL 807.54939 98.558261 \r\nL 808.885784 97.505879 \r\nL 809.776713 95.961628 \r\nL 810.667642 94.08327 \r\nL 812.004035 93.311903 \r\nL 812.4495 92.575046 \r\nL 813.785893 89.462653 \r\nL 815.122287 88.550968 \r\nL 816.904145 85.201931 \r\nL 818.240539 84.297072 \r\nL 818.686003 83.460097 \r\nL 819.576932 82.400131 \r\nL 820.022397 81.439525 \r\nL 821.35879 80.34429 \r\nL 821.804255 79.2866 \r\nL 822.695184 78.025638 \r\nL 823.140648 76.844696 \r\nL 824.477042 75.456311 \r\nL 825.367971 72.506231 \r\nL 826.2589 69.119649 \r\nL 827.595294 67.256839 \r\nL 828.486223 63.74473 \r\nL 829.377152 59.467701 \r\nL 831.15901 57.533974 \r\nL 832.495403 51.87842 \r\nL 833.831797 50.430495 \r\nL 835.168191 45.142801 \r\nL 835.613655 44.039222 \r\nL 836.950049 42.942471 \r\nL 838.731907 36.957739 \r\nL 840.0683 35.757835 \r\nL 841.850158 31.157317 \r\nL 843.632017 30.339304 \r\nL 844.522946 28.605056 \r\nL 844.96841 28.231129 \r\nL 846.304804 28.665354 \r\nL 847.195733 30.431079 \r\nL 848.086662 33.35651 \r\nL 849.423055 33.979595 \r\nL 849.86852 35.09493 \r\nL 850.313984 35.619414 \r\nL 851.204913 37.704456 \r\nL 852.541307 39.681795 \r\nL 852.986772 40.577173 \r\nL 853.432236 42.179826 \r\nL 853.877701 45.066195 \r\nL 854.323165 46.80689 \r\nL 855.659559 49.359152 \r\nL 856.105023 51.475292 \r\nL 856.995952 57.120227 \r\nL 857.441417 60.759759 \r\nL 858.77781 64.387536 \r\nL 860.559668 75.561739 \r\nL 861.896062 78.221704 \r\nL 862.341527 80.675743 \r\nL 863.67792 89.387564 \r\nL 865.014314 90.741817 \r\nL 865.905243 92.83634 \r\nL 866.350707 93.046058 \r\nL 868.132565 93.05023 \r\nL 868.57803 93.496212 \r\nL 869.023494 93.681659 \r\nL 869.468959 94.290333 \r\nL 869.914423 94.67412 \r\nL 871.250817 95.132997 \r\nL 871.696282 95.049565 \r\nL 872.141746 95.399979 \r\nL 872.587211 95.415149 \r\nL 873.032675 94.097681 \r\nL 874.369069 93.900478 \r\nL 875.705462 89.411456 \r\nL 876.150927 87.731817 \r\nL 877.48732 85.307738 \r\nL 877.932785 82.532106 \r\nL 879.269178 76.325521 \r\nL 880.605572 73.774397 \r\nL 881.941966 67.001613 \r\nL 882.38743 64.620766 \r\nL 883.723824 61.831482 \r\nL 885.505682 53.78598 \r\nL 885.505682 53.78598 \r\n\" style=\"fill:none;stroke:#ff7f0e;stroke-linecap:square;stroke-width:1.5;\"/>\r\n   </g>\r\n   <g id=\"patch_3\">\r\n    <path d=\"M 33.2875 300.96 \r\nL 33.2875 7.2 \r\n\" style=\"fill:none;stroke:#000000;stroke-linecap:square;stroke-linejoin:miter;stroke-width:0.8;\"/>\r\n   </g>\r\n   <g id=\"patch_4\">\r\n    <path d=\"M 926.0875 300.96 \r\nL 926.0875 7.2 \r\n\" style=\"fill:none;stroke:#000000;stroke-linecap:square;stroke-linejoin:miter;stroke-width:0.8;\"/>\r\n   </g>\r\n   <g id=\"patch_5\">\r\n    <path d=\"M 33.2875 300.96 \r\nL 926.0875 300.96 \r\n\" style=\"fill:none;stroke:#000000;stroke-linecap:square;stroke-linejoin:miter;stroke-width:0.8;\"/>\r\n   </g>\r\n   <g id=\"patch_6\">\r\n    <path d=\"M 33.2875 7.2 \r\nL 926.0875 7.2 \r\n\" style=\"fill:none;stroke:#000000;stroke-linecap:square;stroke-linejoin:miter;stroke-width:0.8;\"/>\r\n   </g>\r\n  </g>\r\n </g>\r\n <defs>\r\n  <clipPath id=\"peedcb8d700\">\r\n   <rect height=\"293.76\" width=\"892.8\" x=\"33.2875\" y=\"7.2\"/>\r\n  </clipPath>\r\n </defs>\r\n</svg>\r\n",
      "image/png": "[encoded data removed]"
     },
     "metadata": {
      "needs_background": "light"
     }
    }
   ],
   "source": [
    "df1['open'].plot(figsize=(16,6))\n",
    "df1.rolling(window=30).mean()['close'].plot()"
   ]
  },
  {
   "cell_type": "code",
   "execution_count": 17,
   "metadata": {},
   "outputs": [],
   "source": [
    "df1=df1.reset_index()['close']"
   ]
  },
  {
   "cell_type": "code",
   "execution_count": 18,
   "metadata": {},
   "outputs": [],
   "source": [
    "import numpy as np\n",
    "from sklearn.preprocessing import MinMaxScaler\n",
    "scaler=MinMaxScaler(feature_range=(0,1))\n",
    "df1=scaler.fit_transform(np.array(df1).reshape(-1,1))"
   ]
  },
  {
   "cell_type": "code",
   "execution_count": 19,
   "metadata": {},
   "outputs": [
    {
     "output_type": "stream",
     "name": "stdout",
     "text": [
      "[[0.17607447]\n [0.17495567]\n [0.16862282]\n ...\n [0.96635143]\n [0.9563033 ]\n [0.96491598]]\n"
     ]
    }
   ],
   "source": [
    "print(df1)"
   ]
  },
  {
   "cell_type": "code",
   "execution_count": 20,
   "metadata": {},
   "outputs": [],
   "source": [
    "training_size=int(len(df1)*0.65)\n",
    "test_size=len(df1)-training_size\n",
    "train_data,test_data=df1[0:training_size,:],df1[training_size:len(df1),:1]"
   ]
  },
  {
   "cell_type": "code",
   "execution_count": 21,
   "metadata": {},
   "outputs": [
    {
     "output_type": "execute_result",
     "data": {
      "text/plain": [
       "(817, 441)"
      ]
     },
     "metadata": {},
     "execution_count": 21
    }
   ],
   "source": [
    "training_size,test_size"
   ]
  },
  {
   "cell_type": "code",
   "execution_count": 22,
   "metadata": {},
   "outputs": [
    {
     "output_type": "execute_result",
     "data": {
      "text/plain": [
       "array([[0.17607447],\n",
       "       [0.17495567],\n",
       "       [0.16862282],\n",
       "       [0.1696994 ],\n",
       "       [0.16727181],\n",
       "       [0.16794731],\n",
       "       [0.16473866],\n",
       "       [0.16174111],\n",
       "       [0.1581525 ],\n",
       "       [0.15654817],\n",
       "       [0.16271215],\n",
       "       [0.1614878 ],\n",
       "       [0.1554927 ],\n",
       "       [0.15443722],\n",
       "       [0.15730811],\n",
       "       [0.15604154],\n",
       "       [0.15849025],\n",
       "       [0.15308621],\n",
       "       [0.15735033],\n",
       "       [0.15490163],\n",
       "       [0.15946129],\n",
       "       [0.15688592],\n",
       "       [0.1537195 ],\n",
       "       [0.14434687],\n",
       "       [0.14812547],\n",
       "       [0.15308621],\n",
       "       [0.15241071],\n",
       "       [0.15055307],\n",
       "       [0.14924428],\n",
       "       [0.13607194],\n",
       "       [0.12551718],\n",
       "       [0.13906949],\n",
       "       [0.14911762],\n",
       "       [0.14890653],\n",
       "       [0.15401503],\n",
       "       [0.16115005],\n",
       "       [0.16583636],\n",
       "       [0.17618002],\n",
       "       [0.17060711],\n",
       "       [0.14725998],\n",
       "       [0.14700667],\n",
       "       [0.14422021],\n",
       "       [0.13691632],\n",
       "       [0.13949168],\n",
       "       [0.13784514],\n",
       "       [0.13522756],\n",
       "       [0.13071012],\n",
       "       [0.11863548],\n",
       "       [0.10259225],\n",
       "       [0.1058009 ],\n",
       "       [0.10466098],\n",
       "       [0.10630752],\n",
       "       [0.12403952],\n",
       "       [0.09773706],\n",
       "       [0.10512539],\n",
       "       [0.10474542],\n",
       "       [0.10816516],\n",
       "       [0.11323144],\n",
       "       [0.11044499],\n",
       "       [0.10415435],\n",
       "       [0.09419066],\n",
       "       [0.06510175],\n",
       "       [0.05395592],\n",
       "       [0.0565735 ],\n",
       "       [0.08169383],\n",
       "       [0.09533058],\n",
       "       [0.09689268],\n",
       "       [0.09465507],\n",
       "       [0.07337668],\n",
       "       [0.09288187],\n",
       "       [0.08456472],\n",
       "       [0.07992063],\n",
       "       [0.09275521],\n",
       "       [0.0836359 ],\n",
       "       [0.09385291],\n",
       "       [0.10077683],\n",
       "       [0.10542092],\n",
       "       [0.10951617],\n",
       "       [0.11006502],\n",
       "       [0.09955248],\n",
       "       [0.09756818],\n",
       "       [0.10499873],\n",
       "       [0.09735709],\n",
       "       [0.10124124],\n",
       "       [0.10411213],\n",
       "       [0.10288778],\n",
       "       [0.09330406],\n",
       "       [0.07903403],\n",
       "       [0.08426919],\n",
       "       [0.08122942],\n",
       "       [0.08460694],\n",
       "       [0.0862957 ],\n",
       "       [0.08853331],\n",
       "       [0.0862957 ],\n",
       "       [0.08089167],\n",
       "       [0.09195305],\n",
       "       [0.08975766],\n",
       "       [0.09055982],\n",
       "       [0.08388922],\n",
       "       [0.09085536],\n",
       "       [0.0873934 ],\n",
       "       [0.09030651],\n",
       "       [0.09891919],\n",
       "       [0.09887697],\n",
       "       [0.10622309],\n",
       "       [0.1213375 ],\n",
       "       [0.10529427],\n",
       "       [0.10221228],\n",
       "       [0.12213966],\n",
       "       [0.12745926],\n",
       "       [0.1231107 ],\n",
       "       [0.1302035 ],\n",
       "       [0.13607194],\n",
       "       [0.13366546],\n",
       "       [0.1291058 ],\n",
       "       [0.12969687],\n",
       "       [0.12762813],\n",
       "       [0.1115849 ],\n",
       "       [0.10879845],\n",
       "       [0.1071519 ],\n",
       "       [0.09288187],\n",
       "       [0.10062906],\n",
       "       [0.09858144],\n",
       "       [0.11378029],\n",
       "       [0.12007093],\n",
       "       [0.12226632],\n",
       "       [0.11572237],\n",
       "       [0.12049312],\n",
       "       [0.1169045 ],\n",
       "       [0.11597568],\n",
       "       [0.11804441],\n",
       "       [0.11399139],\n",
       "       [0.10951617],\n",
       "       [0.10495651],\n",
       "       [0.1211264 ],\n",
       "       [0.11795998],\n",
       "       [0.11774888],\n",
       "       [0.10672971],\n",
       "       [0.10905176],\n",
       "       [0.09642827],\n",
       "       [0.09347294],\n",
       "       [0.08507135],\n",
       "       [0.08865997],\n",
       "       [0.07869628],\n",
       "       [0.06624166],\n",
       "       [0.07173014],\n",
       "       [0.07130795],\n",
       "       [0.07713417],\n",
       "       [0.07468547],\n",
       "       [0.06957697],\n",
       "       [0.07768302],\n",
       "       [0.07168792],\n",
       "       [0.0629908 ],\n",
       "       [0.06337077],\n",
       "       [0.05222494],\n",
       "       [0.04373892],\n",
       "       [0.02579583],\n",
       "       [0.027949  ],\n",
       "       [0.03457739],\n",
       "       [0.04061471],\n",
       "       [0.02976442],\n",
       "       [0.03875707],\n",
       "       [0.02866672],\n",
       "       [0.02668243],\n",
       "       [0.02723128],\n",
       "       [0.02516254],\n",
       "       [0.04677869],\n",
       "       [0.03841932],\n",
       "       [0.04074137],\n",
       "       [0.01300346],\n",
       "       [0.01583214],\n",
       "       [0.02955332],\n",
       "       [0.02571139],\n",
       "       [0.01747868],\n",
       "       [0.02537364],\n",
       "       [0.02642911],\n",
       "       [0.0155366 ],\n",
       "       [0.01971629],\n",
       "       [0.01963185],\n",
       "       [0.01659208],\n",
       "       [0.01418559],\n",
       "       [0.01540995],\n",
       "       [0.02659799],\n",
       "       [0.03284641],\n",
       "       [0.02499367],\n",
       "       [0.02406485],\n",
       "       [0.02761125],\n",
       "       [0.01836528],\n",
       "       [0.02431816],\n",
       "       [0.02710462],\n",
       "       [0.0277379 ],\n",
       "       [0.02680909],\n",
       "       [0.04302119],\n",
       "       [0.04395001],\n",
       "       [0.04711644],\n",
       "       [0.05349151],\n",
       "       [0.04867854],\n",
       "       [0.04513215],\n",
       "       [0.04551212],\n",
       "       [0.04572321],\n",
       "       [0.05032509],\n",
       "       [0.05142278],\n",
       "       [0.0601199 ],\n",
       "       [0.06598835],\n",
       "       [0.06527062],\n",
       "       [0.06577725],\n",
       "       [0.06573503],\n",
       "       [0.06915477],\n",
       "       [0.06666385],\n",
       "       [0.06472178],\n",
       "       [0.06269526],\n",
       "       [0.0732078 ],\n",
       "       [0.08114498],\n",
       "       [0.0787385 ],\n",
       "       [0.0829604 ],\n",
       "       [0.08773115],\n",
       "       [0.08220046],\n",
       "       [0.08705564],\n",
       "       [0.07683864],\n",
       "       [0.07734527],\n",
       "       [0.07886515],\n",
       "       [0.08486026],\n",
       "       [0.0916153 ],\n",
       "       [0.09186861],\n",
       "       [0.08236933],\n",
       "       [0.07236342],\n",
       "       [0.06995694],\n",
       "       [0.07088576],\n",
       "       [0.06598835],\n",
       "       [0.064764  ],\n",
       "       [0.06223085],\n",
       "       [0.05914886],\n",
       "       [0.03157984],\n",
       "       [0.01895635],\n",
       "       [0.01435447],\n",
       "       [0.01393228],\n",
       "       [0.02043401],\n",
       "       [0.01625433],\n",
       "       [0.01224352],\n",
       "       [0.01004813],\n",
       "       [0.01034366],\n",
       "       [0.01300346],\n",
       "       [0.00916153],\n",
       "       [0.        ],\n",
       "       [0.00075994],\n",
       "       [0.01494554],\n",
       "       [0.013299  ],\n",
       "       [0.01781643],\n",
       "       [0.01629655],\n",
       "       [0.02060289],\n",
       "       [0.02571139],\n",
       "       [0.03191759],\n",
       "       [0.03917926],\n",
       "       [0.04251457],\n",
       "       [0.04226125],\n",
       "       [0.04019252],\n",
       "       [0.03428185],\n",
       "       [0.03115765],\n",
       "       [0.03200203],\n",
       "       [0.03499958],\n",
       "       [0.03668834],\n",
       "       [0.03630837],\n",
       "       [0.03930592],\n",
       "       [0.03584396],\n",
       "       [0.02955332],\n",
       "       [0.03005995],\n",
       "       [0.02870894],\n",
       "       [0.03043992],\n",
       "       [0.0210673 ],\n",
       "       [0.02009626],\n",
       "       [0.023516  ],\n",
       "       [0.02199612],\n",
       "       [0.02431816],\n",
       "       [0.01291902],\n",
       "       [0.00717724],\n",
       "       [0.01372119],\n",
       "       [0.01714093],\n",
       "       [0.02220721],\n",
       "       [0.02343156],\n",
       "       [0.01963185],\n",
       "       [0.02191168],\n",
       "       [0.02364266],\n",
       "       [0.02676687],\n",
       "       [0.02803344],\n",
       "       [0.02989107],\n",
       "       [0.02756903],\n",
       "       [0.03567508],\n",
       "       [0.03563286],\n",
       "       [0.04006586],\n",
       "       [0.04023474],\n",
       "       [0.04061471],\n",
       "       [0.0383771 ],\n",
       "       [0.03512623],\n",
       "       [0.02955332],\n",
       "       [0.02672465],\n",
       "       [0.0532382 ],\n",
       "       [0.05910665],\n",
       "       [0.0585578 ],\n",
       "       [0.0663261 ],\n",
       "       [0.05969771],\n",
       "       [0.0652284 ],\n",
       "       [0.06556616],\n",
       "       [0.07236342],\n",
       "       [0.07612092],\n",
       "       [0.07797855],\n",
       "       [0.07455881],\n",
       "       [0.07426328],\n",
       "       [0.07531875],\n",
       "       [0.08080723],\n",
       "       [0.08038504],\n",
       "       [0.07970953],\n",
       "       [0.07911847],\n",
       "       [0.0803006 ],\n",
       "       [0.07671198],\n",
       "       [0.07814743],\n",
       "       [0.07468547],\n",
       "       [0.07274339],\n",
       "       [0.07008359],\n",
       "       [0.06957697],\n",
       "       [0.066115  ],\n",
       "       [0.06653719],\n",
       "       [0.06919699],\n",
       "       [0.0734189 ],\n",
       "       [0.07329224],\n",
       "       [0.0760787 ],\n",
       "       [0.06408849],\n",
       "       [0.05399814],\n",
       "       [0.06375074],\n",
       "       [0.07434772],\n",
       "       [0.09047539],\n",
       "       [0.10651862],\n",
       "       [0.10377438],\n",
       "       [0.09811703],\n",
       "       [0.09807481],\n",
       "       [0.09799037],\n",
       "       [0.10250781],\n",
       "       [0.09444398],\n",
       "       [0.0951617 ],\n",
       "       [0.0960483 ],\n",
       "       [0.09967914],\n",
       "       [0.09220637],\n",
       "       [0.09587942],\n",
       "       [0.09364181],\n",
       "       [0.09566833],\n",
       "       [0.09587942],\n",
       "       [0.09942582],\n",
       "       [0.10014354],\n",
       "       [0.10854513],\n",
       "       [0.10960061],\n",
       "       [0.11399139],\n",
       "       [0.1124715 ],\n",
       "       [0.11521574],\n",
       "       [0.11487799],\n",
       "       [0.11454023],\n",
       "       [0.11306257],\n",
       "       [0.11280925],\n",
       "       [0.11086718],\n",
       "       [0.11530018],\n",
       "       [0.11783332],\n",
       "       [0.10660306],\n",
       "       [0.10191674],\n",
       "       [0.0987081 ],\n",
       "       [0.09794816],\n",
       "       [0.08929325],\n",
       "       [0.08971544],\n",
       "       [0.08228489],\n",
       "       [0.07810521],\n",
       "       [0.0847336 ],\n",
       "       [0.08747784],\n",
       "       [0.08671789],\n",
       "       [0.07367221],\n",
       "       [0.07637423],\n",
       "       [0.06489065],\n",
       "       [0.07080132],\n",
       "       [0.0829604 ],\n",
       "       [0.08279152],\n",
       "       [0.08325593],\n",
       "       [0.09030651],\n",
       "       [0.09060204],\n",
       "       [0.08819556],\n",
       "       [0.09055982],\n",
       "       [0.08963101],\n",
       "       [0.0891666 ],\n",
       "       [0.08519801],\n",
       "       [0.08084945],\n",
       "       [0.08258043],\n",
       "       [0.07924512],\n",
       "       [0.08279152],\n",
       "       [0.08735118],\n",
       "       [0.09195305],\n",
       "       [0.09967914],\n",
       "       [0.0969349 ],\n",
       "       [0.1049143 ],\n",
       "       [0.1049143 ],\n",
       "       [0.10757409],\n",
       "       [0.10820738],\n",
       "       [0.11103606],\n",
       "       [0.11234485],\n",
       "       [0.11280925],\n",
       "       [0.10955839],\n",
       "       [0.11052943],\n",
       "       [0.11365364],\n",
       "       [0.11154268],\n",
       "       [0.11141603],\n",
       "       [0.10757409],\n",
       "       [0.10896732],\n",
       "       [0.10841848],\n",
       "       [0.1109094 ],\n",
       "       [0.11639787],\n",
       "       [0.12095753],\n",
       "       [0.12146416],\n",
       "       [0.12416617],\n",
       "       [0.12205522],\n",
       "       [0.12116862],\n",
       "       [0.12522165],\n",
       "       [0.12517943],\n",
       "       [0.12429283],\n",
       "       [0.12522165],\n",
       "       [0.1255594 ],\n",
       "       [0.12509499],\n",
       "       [0.13315883],\n",
       "       [0.13341214],\n",
       "       [0.13345436],\n",
       "       [0.13210335],\n",
       "       [0.13092122],\n",
       "       [0.1621633 ],\n",
       "       [0.16123448],\n",
       "       [0.16355653],\n",
       "       [0.16866503],\n",
       "       [0.17390019],\n",
       "       [0.17605336],\n",
       "       [0.17765769],\n",
       "       [0.17639112],\n",
       "       [0.18133074],\n",
       "       [0.18863464],\n",
       "       [0.19070337],\n",
       "       [0.19000676],\n",
       "       [0.19158997],\n",
       "       [0.19572743],\n",
       "       [0.19745841],\n",
       "       [0.19500971],\n",
       "       [0.19555856],\n",
       "       [0.19669847],\n",
       "       [0.19695179],\n",
       "       [0.20877311],\n",
       "       [0.20526894],\n",
       "       [0.2087309 ],\n",
       "       [0.20687326],\n",
       "       [0.2076332 ],\n",
       "       [0.20543781],\n",
       "       [0.2040868 ],\n",
       "       [0.20602888],\n",
       "       [0.20628219],\n",
       "       [0.20539559],\n",
       "       [0.21160179],\n",
       "       [0.21257283],\n",
       "       [0.2096175 ],\n",
       "       [0.21582369],\n",
       "       [0.20898421],\n",
       "       [0.21565482],\n",
       "       [0.21354387],\n",
       "       [0.21236173],\n",
       "       [0.21337499],\n",
       "       [0.22570295],\n",
       "       [0.22705396],\n",
       "       [0.22625179],\n",
       "       [0.22511188],\n",
       "       [0.22528076],\n",
       "       [0.22979819],\n",
       "       [0.22663177],\n",
       "       [0.22511188],\n",
       "       [0.22376087],\n",
       "       [0.22304315],\n",
       "       [0.21654142],\n",
       "       [0.21725914],\n",
       "       [0.21409271],\n",
       "       [0.2173858 ],\n",
       "       [0.214726  ],\n",
       "       [0.21253061],\n",
       "       [0.21996116],\n",
       "       [0.21924343],\n",
       "       [0.22502744],\n",
       "       [0.22878494],\n",
       "       [0.22519632],\n",
       "       [0.22566073],\n",
       "       [0.22506966],\n",
       "       [0.23743984],\n",
       "       [0.24136621],\n",
       "       [0.23946635],\n",
       "       [0.23722874],\n",
       "       [0.24748797],\n",
       "       [0.26458668],\n",
       "       [0.26872414],\n",
       "       [0.26564215],\n",
       "       [0.26855526],\n",
       "       [0.27763236],\n",
       "       [0.2759436 ],\n",
       "       [0.27497256],\n",
       "       [0.25293422],\n",
       "       [0.26260238],\n",
       "       [0.26479777],\n",
       "       [0.26872414],\n",
       "       [0.26792198],\n",
       "       [0.2659799 ],\n",
       "       [0.26821751],\n",
       "       [0.26711982],\n",
       "       [0.26737313],\n",
       "       [0.2635312 ],\n",
       "       [0.2653044 ],\n",
       "       [0.27488812],\n",
       "       [0.26847083],\n",
       "       [0.27066622],\n",
       "       [0.27455037],\n",
       "       [0.27294604],\n",
       "       [0.24757241],\n",
       "       [0.23254243],\n",
       "       [0.23748206],\n",
       "       [0.23144474],\n",
       "       [0.22777168],\n",
       "       [0.21924343],\n",
       "       [0.23642658],\n",
       "       [0.23081145],\n",
       "       [0.23444229],\n",
       "       [0.23342903],\n",
       "       [0.23617327],\n",
       "       [0.23423119],\n",
       "       [0.22540741],\n",
       "       [0.23427341],\n",
       "       [0.22519632],\n",
       "       [0.22663177],\n",
       "       [0.22443638],\n",
       "       [0.2269273 ],\n",
       "       [0.22118551],\n",
       "       [0.22730727],\n",
       "       [0.23102254],\n",
       "       [0.23300684],\n",
       "       [0.23389344],\n",
       "       [0.2424639 ],\n",
       "       [0.24782572],\n",
       "       [0.25002111],\n",
       "       [0.2522165 ],\n",
       "       [0.25618509],\n",
       "       [0.25331419],\n",
       "       [0.25301866],\n",
       "       [0.26070252],\n",
       "       [0.26344676],\n",
       "       [0.26648653],\n",
       "       [0.25424301],\n",
       "       [0.2497678 ],\n",
       "       [0.24651693],\n",
       "       [0.25208984],\n",
       "       [0.28202314],\n",
       "       [0.27539475],\n",
       "       [0.27885671],\n",
       "       [0.28907371],\n",
       "       [0.29443553],\n",
       "       [0.298573  ],\n",
       "       [0.27433927],\n",
       "       [0.28345858],\n",
       "       [0.29346449],\n",
       "       [0.30085282],\n",
       "       [0.29810859],\n",
       "       [0.28506291],\n",
       "       [0.28354302],\n",
       "       [0.28231867],\n",
       "       [0.29316896],\n",
       "       [0.29401334],\n",
       "       [0.29101579],\n",
       "       [0.29350671],\n",
       "       [0.30030398],\n",
       "       [0.30638352],\n",
       "       [0.30824116],\n",
       "       [0.31098539],\n",
       "       [0.31119649],\n",
       "       [0.30287934],\n",
       "       [0.30216161],\n",
       "       [0.29941738],\n",
       "       [0.28831377],\n",
       "       [0.30043063],\n",
       "       [0.29772862],\n",
       "       [0.29262011],\n",
       "       [0.28683611],\n",
       "       [0.29359115],\n",
       "       [0.28848265],\n",
       "       [0.28873596],\n",
       "       [0.2775057 ],\n",
       "       [0.266191  ],\n",
       "       [0.25985814],\n",
       "       [0.25420079],\n",
       "       [0.26513552],\n",
       "       [0.2697374 ],\n",
       "       [0.26572659],\n",
       "       [0.26927299],\n",
       "       [0.2679642 ],\n",
       "       [0.27079287],\n",
       "       [0.26657097],\n",
       "       [0.27463481],\n",
       "       [0.27425483],\n",
       "       [0.27653466],\n",
       "       [0.27678798],\n",
       "       [0.27953221],\n",
       "       [0.27721017],\n",
       "       [0.28138985],\n",
       "       [0.29359115],\n",
       "       [0.29608207],\n",
       "       [0.29308452],\n",
       "       [0.27712573],\n",
       "       [0.27826564],\n",
       "       [0.27792789],\n",
       "       [0.28185426],\n",
       "       [0.27894115],\n",
       "       [0.28316305],\n",
       "       [0.30697458],\n",
       "       [0.32246897],\n",
       "       [0.33226378],\n",
       "       [0.32318669],\n",
       "       [0.32833741],\n",
       "       [0.34687157],\n",
       "       [0.3542599 ],\n",
       "       [0.35662417],\n",
       "       [0.36266149],\n",
       "       [0.3611416 ],\n",
       "       [0.3560331 ],\n",
       "       [0.35307777],\n",
       "       [0.34197416],\n",
       "       [0.33243266],\n",
       "       [0.34096091],\n",
       "       [0.3369501 ],\n",
       "       [0.33623237],\n",
       "       [0.34957359],\n",
       "       [0.35725745],\n",
       "       [0.35729967],\n",
       "       [0.3535844 ],\n",
       "       [0.34927805],\n",
       "       [0.33412142],\n",
       "       [0.34412733],\n",
       "       [0.34074981],\n",
       "       [0.33547243],\n",
       "       [0.33479693],\n",
       "       [0.33213713],\n",
       "       [0.33344592],\n",
       "       [0.33365701],\n",
       "       [0.34758929],\n",
       "       [0.34349405],\n",
       "       [0.34590053],\n",
       "       [0.34568944],\n",
       "       [0.35307777],\n",
       "       [0.36342143],\n",
       "       [0.35548425],\n",
       "       [0.35468209],\n",
       "       [0.35746855],\n",
       "       [0.35746855],\n",
       "       [0.3387233 ],\n",
       "       [0.33884995],\n",
       "       [0.34087647],\n",
       "       [0.33306595],\n",
       "       [0.34585831],\n",
       "       [0.34573166],\n",
       "       [0.34910918],\n",
       "       [0.35742633],\n",
       "       [0.35468209],\n",
       "       [0.35459765],\n",
       "       [0.35442878],\n",
       "       [0.35860846],\n",
       "       [0.36625011],\n",
       "       [0.36245039],\n",
       "       [0.37473613],\n",
       "       [0.37541164],\n",
       "       [0.37203411],\n",
       "       [0.36587013],\n",
       "       [0.36603901],\n",
       "       [0.35413324],\n",
       "       [0.34100312],\n",
       "       [0.34269189],\n",
       "       [0.32770413],\n",
       "       [0.32352444],\n",
       "       [0.32546652],\n",
       "       [0.32694419],\n",
       "       [0.29620873],\n",
       "       [0.2792789 ],\n",
       "       [0.30689015],\n",
       "       [0.2921557 ],\n",
       "       [0.27362155],\n",
       "       [0.27894115],\n",
       "       [0.30553914],\n",
       "       [0.31242084],\n",
       "       [0.32521321],\n",
       "       [0.3489403 ],\n",
       "       [0.34657604],\n",
       "       [0.34412733],\n",
       "       [0.34083425],\n",
       "       [0.34687157],\n",
       "       [0.35953728],\n",
       "       [0.37418728],\n",
       "       [0.37173858],\n",
       "       [0.37059867],\n",
       "       [0.35742633],\n",
       "       [0.36253483],\n",
       "       [0.36511019],\n",
       "       [0.36447691],\n",
       "       [0.35755298],\n",
       "       [0.36561682],\n",
       "       [0.37845141],\n",
       "       [0.38579752],\n",
       "       [0.37840919],\n",
       "       [0.37194967],\n",
       "       [0.37283627],\n",
       "       [0.37017648],\n",
       "       [0.3586929 ],\n",
       "       [0.35843958],\n",
       "       [0.34167863],\n",
       "       [0.33146162],\n",
       "       [0.31495398],\n",
       "       [0.34801148],\n",
       "       [0.32930845],\n",
       "       [0.32145571],\n",
       "       [0.32694419],\n",
       "       [0.32230009],\n",
       "       [0.32951955],\n",
       "       [0.34311408],\n",
       "       [0.34813814],\n",
       "       [0.32947733],\n",
       "       [0.33652791],\n",
       "       [0.350038  ],\n",
       "       [0.34661826],\n",
       "       [0.35379549],\n",
       "       [0.35628641],\n",
       "       [0.36088829],\n",
       "       [0.37110529],\n",
       "       [0.36941653],\n",
       "       [0.34813814],\n",
       "       [0.31824707],\n",
       "       [0.31622055],\n",
       "       [0.30651017],\n",
       "       [0.30950773],\n",
       "       [0.31191421],\n",
       "       [0.30389259],\n",
       "       [0.31630499],\n",
       "       [0.3325171 ],\n",
       "       [0.36405472],\n",
       "       [0.36540572],\n",
       "       [0.39470573],\n",
       "       [0.40032086],\n",
       "       [0.40407836],\n",
       "       [0.40960905],\n",
       "       [0.42092375],\n",
       "       [0.41480199],\n",
       "       [0.41294436],\n",
       "       [0.4057249 ],\n",
       "       [0.41307101],\n",
       "       [0.40804695],\n",
       "       [0.40517605],\n",
       "       [0.41074897],\n",
       "       [0.40876467],\n",
       "       [0.41383095],\n",
       "       [0.41294436],\n",
       "       [0.41475977],\n",
       "       [0.41188888],\n",
       "       [0.41020012],\n",
       "       [0.40754032],\n",
       "       [0.42176813],\n",
       "       [0.42848096],\n",
       "       [0.43472938],\n",
       "       [0.43755805],\n",
       "       [0.43536266],\n",
       "       [0.42793211],\n",
       "       [0.42594782],\n",
       "       [0.43038082],\n",
       "       [0.42371021],\n",
       "       [0.4241324 ],\n",
       "       [0.41585747],\n",
       "       [0.41543528],\n",
       "       [0.40255847],\n",
       "       [0.40597821],\n",
       "       [0.40158744],\n",
       "       [0.39930761],\n",
       "       [0.38769737],\n",
       "       [0.39723888],\n",
       "       [0.39609896],\n",
       "       [0.40175631],\n",
       "       [0.40010977],\n",
       "       [0.40884911],\n",
       "       [0.3950857 ],\n",
       "       [0.40133412],\n",
       "       [0.41218441],\n",
       "       [0.42320358],\n",
       "       [0.42223254],\n",
       "       [0.41180444],\n",
       "       [0.42510344],\n",
       "       [0.42637001],\n",
       "       [0.42459681],\n",
       "       [0.42687664],\n",
       "       [0.42244364],\n",
       "       [0.42869205],\n",
       "       [0.42683442],\n",
       "       [0.42755214],\n",
       "       [0.43342059],\n",
       "       [0.44110445],\n",
       "       [0.43852909],\n",
       "       [0.42489234],\n",
       "       [0.42037491],\n",
       "       [0.42197923],\n",
       "       [0.46930676],\n",
       "       [0.49417377],\n",
       "       [0.49670692],\n",
       "       [0.50126657],\n",
       "       [0.49299164],\n",
       "       [0.49358271],\n",
       "       [0.50046441],\n",
       "       [0.49476484],\n",
       "       [0.50042219],\n",
       "       [0.50413747],\n",
       "       [0.5062062 ],\n",
       "       [0.51920966],\n",
       "       [0.53719497],\n",
       "       [0.52824453],\n",
       "       [0.52647133]])"
      ]
     },
     "metadata": {},
     "execution_count": 22
    }
   ],
   "source": [
    "train_data"
   ]
  },
  {
   "cell_type": "code",
   "execution_count": 23,
   "metadata": {},
   "outputs": [
    {
     "output_type": "stream",
     "name": "stdout",
     "text": [
      "Number of records in Training Data: 1005\nNumber of records in Test Data: 253\n"
     ]
    }
   ],
   "source": [
    "percentage_of_data = 1.0\n",
    "data_to_use = int(percentage_of_data*(len(df1)-1))\n",
    "train_end = int(data_to_use*0.8)\n",
    "total_data = len(df1)\n",
    "start = total_data - data_to_use\n",
    "print(\"Number of records in Training Data:\", train_end)\n",
    "print(\"Number of records in Test Data:\", total_data - train_end)"
   ]
  },
  {
   "cell_type": "code",
   "execution_count": 24,
   "metadata": {},
   "outputs": [],
   "source": [
    "import numpy \n",
    "def create_df1(df1, time_step = 1):\n",
    "    dataX, dataY = [],[]\n",
    "    for i  in range (len(df1)-time_step-1):\n",
    "        a = df1[i:(i+time_step),0]\n",
    "        dataX.append(a)\n",
    "        dataY.append(df1[i+time_step,0])\n",
    "    return numpy.array(dataX),numpy.array(dataY)"
   ]
  },
  {
   "cell_type": "code",
   "execution_count": 25,
   "metadata": {},
   "outputs": [],
   "source": [
    "time_step = 100\n",
    "X_train, y_train = create_df1(train_data, time_step)\n",
    "X_test, ytest = create_df1(test_data, time_step)"
   ]
  },
  {
   "cell_type": "code",
   "execution_count": 26,
   "metadata": {},
   "outputs": [],
   "source": [
    "X_train =X_train.reshape(X_train.shape[0],X_train.shape[1] , 1)\n",
    "X_test = X_test.reshape(X_test.shape[0],X_test.shape[1] , 1)"
   ]
  },
  {
   "cell_type": "code",
   "execution_count": 27,
   "metadata": {},
   "outputs": [
    {
     "output_type": "stream",
     "name": "stdout",
     "text": [
      "Shape of Training set X: (716, 100, 1, 1)\nShape of Test set X: (340, 100, 1, 1)\n"
     ]
    }
   ],
   "source": [
    "\n",
    "X_train = X_train.reshape (X_train.shape + (1,)) \n",
    "X_test = X_test.reshape(X_test.shape + (1,))\n",
    "\n",
    "print('Shape of Training set X:', X_train.shape)\n",
    "print('Shape of Test set X:', X_test.shape)"
   ]
  },
  {
   "cell_type": "code",
   "execution_count": 28,
   "metadata": {},
   "outputs": [],
   "source": [
    "X_train =X_train.reshape(X_train.shape[0],X_train.shape[1] , 1)\n",
    "X_test = X_test.reshape(X_test.shape[0],X_test.shape[1] , 1)"
   ]
  },
  {
   "cell_type": "code",
   "execution_count": 29,
   "metadata": {},
   "outputs": [
    {
     "output_type": "error",
     "ename": "ImportError",
     "evalue": "Keras requires TensorFlow 2.2 or higher. Install TensorFlow via `pip install tensorflow`",
     "traceback": [
      "\u001b[1;31m---------------------------------------------------------------------------\u001b[0m",
      "\u001b[1;31mModuleNotFoundError\u001b[0m                       Traceback (most recent call last)",
      "\u001b[1;32m~\\AppData\\Local\\Programs\\Python\\Python38\\lib\\site-packages\\keras\\__init__.py\u001b[0m in \u001b[0;36m<module>\u001b[1;34m\u001b[0m\n\u001b[0;32m      2\u001b[0m \u001b[1;32mtry\u001b[0m\u001b[1;33m:\u001b[0m\u001b[1;33m\u001b[0m\u001b[1;33m\u001b[0m\u001b[0m\n\u001b[1;32m----> 3\u001b[1;33m     \u001b[1;32mfrom\u001b[0m \u001b[0mtensorflow\u001b[0m\u001b[1;33m.\u001b[0m\u001b[0mkeras\u001b[0m\u001b[1;33m.\u001b[0m\u001b[0mlayers\u001b[0m\u001b[1;33m.\u001b[0m\u001b[0mexperimental\u001b[0m\u001b[1;33m.\u001b[0m\u001b[0mpreprocessing\u001b[0m \u001b[1;32mimport\u001b[0m \u001b[0mRandomRotation\u001b[0m\u001b[1;33m\u001b[0m\u001b[1;33m\u001b[0m\u001b[0m\n\u001b[0m\u001b[0;32m      4\u001b[0m \u001b[1;32mexcept\u001b[0m \u001b[0mImportError\u001b[0m\u001b[1;33m:\u001b[0m\u001b[1;33m\u001b[0m\u001b[1;33m\u001b[0m\u001b[0m\n",
      "\u001b[1;31mModuleNotFoundError\u001b[0m: No module named 'tensorflow'",
      "\nDuring handling of the above exception, another exception occurred:\n",
      "\u001b[1;31mImportError\u001b[0m                               Traceback (most recent call last)",
      "\u001b[1;32m<ipython-input-29-2f8db83309d9>\u001b[0m in \u001b[0;36m<module>\u001b[1;34m\u001b[0m\n\u001b[1;32m----> 1\u001b[1;33m \u001b[1;32mfrom\u001b[0m \u001b[0mkeras\u001b[0m\u001b[1;33m.\u001b[0m\u001b[0mmodels\u001b[0m \u001b[1;32mimport\u001b[0m \u001b[0mSequential\u001b[0m\u001b[1;33m\u001b[0m\u001b[1;33m\u001b[0m\u001b[0m\n\u001b[0m\u001b[0;32m      2\u001b[0m \u001b[1;32mfrom\u001b[0m \u001b[0mkeras\u001b[0m\u001b[1;33m.\u001b[0m\u001b[0mlayers\u001b[0m \u001b[1;32mimport\u001b[0m \u001b[0mDense\u001b[0m\u001b[1;33m,\u001b[0m \u001b[0mLSTM\u001b[0m\u001b[1;33m,\u001b[0m \u001b[0mDropout\u001b[0m\u001b[1;33m,\u001b[0m \u001b[0mDense\u001b[0m\u001b[1;33m,\u001b[0m \u001b[0mActivation\u001b[0m\u001b[1;33m\u001b[0m\u001b[1;33m\u001b[0m\u001b[0m\n\u001b[0;32m      3\u001b[0m \u001b[1;33m\u001b[0m\u001b[0m\n\u001b[0;32m      4\u001b[0m \u001b[1;32mimport\u001b[0m \u001b[0mnltk\u001b[0m\u001b[1;33m\u001b[0m\u001b[1;33m\u001b[0m\u001b[0m\n\u001b[0;32m      5\u001b[0m \u001b[1;32mfrom\u001b[0m \u001b[0mnltk\u001b[0m\u001b[1;33m.\u001b[0m\u001b[0mclassify\u001b[0m \u001b[1;32mimport\u001b[0m \u001b[0mNaiveBayesClassifier\u001b[0m\u001b[1;33m\u001b[0m\u001b[1;33m\u001b[0m\u001b[0m\n",
      "\u001b[1;32m~\\AppData\\Local\\Programs\\Python\\Python38\\lib\\site-packages\\keras\\__init__.py\u001b[0m in \u001b[0;36m<module>\u001b[1;34m\u001b[0m\n\u001b[0;32m      3\u001b[0m     \u001b[1;32mfrom\u001b[0m \u001b[0mtensorflow\u001b[0m\u001b[1;33m.\u001b[0m\u001b[0mkeras\u001b[0m\u001b[1;33m.\u001b[0m\u001b[0mlayers\u001b[0m\u001b[1;33m.\u001b[0m\u001b[0mexperimental\u001b[0m\u001b[1;33m.\u001b[0m\u001b[0mpreprocessing\u001b[0m \u001b[1;32mimport\u001b[0m \u001b[0mRandomRotation\u001b[0m\u001b[1;33m\u001b[0m\u001b[1;33m\u001b[0m\u001b[0m\n\u001b[0;32m      4\u001b[0m \u001b[1;32mexcept\u001b[0m \u001b[0mImportError\u001b[0m\u001b[1;33m:\u001b[0m\u001b[1;33m\u001b[0m\u001b[1;33m\u001b[0m\u001b[0m\n\u001b[1;32m----> 5\u001b[1;33m     raise ImportError(\n\u001b[0m\u001b[0;32m      6\u001b[0m         \u001b[1;34m'Keras requires TensorFlow 2.2 or higher. '\u001b[0m\u001b[1;33m\u001b[0m\u001b[1;33m\u001b[0m\u001b[0m\n\u001b[0;32m      7\u001b[0m         'Install TensorFlow via `pip install tensorflow`')\n",
      "\u001b[1;31mImportError\u001b[0m: Keras requires TensorFlow 2.2 or higher. Install TensorFlow via `pip install tensorflow`"
     ]
    }
   ],
   "source": [
    "from keras.models import Sequential\n",
    "from keras.layers import Dense, LSTM, Dropout, Dense, Activation\n",
    "\n",
    "import nltk\n",
    "from nltk.classify import NaiveBayesClassifier\n",
    "from nltk.corpus import subjectivity\n",
    "from nltk.sentiment import SentimentAnalyzer\n",
    "from nltk.sentiment.util import *\n",
    "\n",
    "from sklearn import preprocessing, metrics\n",
    "from sklearn.preprocessing import MinMaxScaler"
   ]
  },
  {
   "cell_type": "code",
   "execution_count": 30,
   "metadata": {},
   "outputs": [
    {
     "output_type": "error",
     "ename": "ModuleNotFoundError",
     "evalue": "No module named 'tensorflow'",
     "traceback": [
      "\u001b[1;31m---------------------------------------------------------------------------\u001b[0m",
      "\u001b[1;31mModuleNotFoundError\u001b[0m                       Traceback (most recent call last)",
      "\u001b[1;32m<ipython-input-30-01bfe7596136>\u001b[0m in \u001b[0;36m<module>\u001b[1;34m\u001b[0m\n\u001b[1;32m----> 1\u001b[1;33m \u001b[1;32mimport\u001b[0m \u001b[0mtensorflow\u001b[0m \u001b[1;32mas\u001b[0m \u001b[0mtf\u001b[0m\u001b[1;33m\u001b[0m\u001b[1;33m\u001b[0m\u001b[0m\n\u001b[0m\u001b[0;32m      2\u001b[0m \u001b[1;32mfrom\u001b[0m \u001b[0mtensorflow\u001b[0m\u001b[1;33m.\u001b[0m\u001b[0mkeras\u001b[0m\u001b[1;33m.\u001b[0m\u001b[0mmodels\u001b[0m \u001b[1;32mimport\u001b[0m \u001b[0mSequential\u001b[0m\u001b[1;33m\u001b[0m\u001b[1;33m\u001b[0m\u001b[0m\n\u001b[0;32m      3\u001b[0m \u001b[1;32mfrom\u001b[0m \u001b[0mtensorflow\u001b[0m\u001b[1;33m.\u001b[0m\u001b[0mkeras\u001b[0m\u001b[1;33m.\u001b[0m\u001b[0mlayers\u001b[0m \u001b[1;32mimport\u001b[0m \u001b[0mDense\u001b[0m\u001b[1;33m\u001b[0m\u001b[1;33m\u001b[0m\u001b[0m\n\u001b[0;32m      4\u001b[0m \u001b[1;32mfrom\u001b[0m \u001b[0mtensorflow\u001b[0m\u001b[1;33m.\u001b[0m\u001b[0mkeras\u001b[0m\u001b[1;33m.\u001b[0m\u001b[0mlayers\u001b[0m \u001b[1;32mimport\u001b[0m \u001b[0mLSTM\u001b[0m\u001b[1;33m\u001b[0m\u001b[1;33m\u001b[0m\u001b[0m\n",
      "\u001b[1;31mModuleNotFoundError\u001b[0m: No module named 'tensorflow'"
     ]
    }
   ],
   "source": [
    "import tensorflow as tf\n",
    "from tensorflow.keras.models import Sequential\n",
    "from tensorflow.keras.layers import Dense\n",
    "from tensorflow.keras.layers import LSTM"
   ]
  },
  {
   "cell_type": "code",
   "execution_count": 30,
   "metadata": {},
   "outputs": [
    {
     "output_type": "error",
     "ename": "NameError",
     "evalue": "name 'Sequential' is not defined",
     "traceback": [
      "\u001b[1;31m---------------------------------------------------------------------------\u001b[0m",
      "\u001b[1;31mNameError\u001b[0m                                 Traceback (most recent call last)",
      "\u001b[1;32m<ipython-input-30-37b40eb81efe>\u001b[0m in \u001b[0;36m<module>\u001b[1;34m\u001b[0m\n\u001b[1;32m----> 1\u001b[1;33m \u001b[0mmodel\u001b[0m\u001b[1;33m=\u001b[0m\u001b[0mSequential\u001b[0m\u001b[1;33m(\u001b[0m\u001b[1;33m)\u001b[0m\u001b[1;33m\u001b[0m\u001b[1;33m\u001b[0m\u001b[0m\n\u001b[0m\u001b[0;32m      2\u001b[0m \u001b[0mmodel\u001b[0m\u001b[1;33m.\u001b[0m\u001b[0madd\u001b[0m\u001b[1;33m(\u001b[0m\u001b[0mLSTM\u001b[0m\u001b[1;33m(\u001b[0m\u001b[1;36m50\u001b[0m\u001b[1;33m,\u001b[0m\u001b[0mreturn_sequences\u001b[0m\u001b[1;33m=\u001b[0m\u001b[1;32mTrue\u001b[0m\u001b[1;33m,\u001b[0m\u001b[0minput_shape\u001b[0m\u001b[1;33m=\u001b[0m\u001b[1;33m(\u001b[0m\u001b[1;36m100\u001b[0m\u001b[1;33m,\u001b[0m\u001b[1;36m1\u001b[0m\u001b[1;33m)\u001b[0m\u001b[1;33m)\u001b[0m\u001b[1;33m)\u001b[0m\u001b[1;33m\u001b[0m\u001b[1;33m\u001b[0m\u001b[0m\n\u001b[0;32m      3\u001b[0m \u001b[0mmodel\u001b[0m\u001b[1;33m.\u001b[0m\u001b[0madd\u001b[0m\u001b[1;33m(\u001b[0m\u001b[0mLSTM\u001b[0m\u001b[1;33m(\u001b[0m\u001b[1;36m50\u001b[0m\u001b[1;33m,\u001b[0m\u001b[0mreturn_sequences\u001b[0m\u001b[1;33m=\u001b[0m\u001b[1;32mTrue\u001b[0m\u001b[1;33m)\u001b[0m\u001b[1;33m)\u001b[0m\u001b[1;33m\u001b[0m\u001b[1;33m\u001b[0m\u001b[0m\n\u001b[0;32m      4\u001b[0m \u001b[0mmodel\u001b[0m\u001b[1;33m.\u001b[0m\u001b[0madd\u001b[0m\u001b[1;33m(\u001b[0m\u001b[0mLSTM\u001b[0m\u001b[1;33m(\u001b[0m\u001b[1;36m50\u001b[0m\u001b[1;33m)\u001b[0m\u001b[1;33m)\u001b[0m\u001b[1;33m\u001b[0m\u001b[1;33m\u001b[0m\u001b[0m\n\u001b[0;32m      5\u001b[0m \u001b[0mmodel\u001b[0m\u001b[1;33m.\u001b[0m\u001b[0madd\u001b[0m\u001b[1;33m(\u001b[0m\u001b[0mDense\u001b[0m\u001b[1;33m(\u001b[0m\u001b[1;36m1\u001b[0m\u001b[1;33m)\u001b[0m\u001b[1;33m)\u001b[0m\u001b[1;33m\u001b[0m\u001b[1;33m\u001b[0m\u001b[0m\n",
      "\u001b[1;31mNameError\u001b[0m: name 'Sequential' is not defined"
     ]
    }
   ],
   "source": [
    "model=Sequential()\n",
    "model.add(LSTM(50,return_sequences=True,input_shape=(100,1)))\n",
    "model.add(LSTM(50,return_sequences=True))\n",
    "model.add(LSTM(50))\n",
    "model.add(Dense(1))\n",
    "model.compile(loss='mean_squared_error',optimizer='adam')"
   ]
  },
  {
   "cell_type": "code",
   "execution_count": 31,
   "metadata": {},
   "outputs": [
    {
     "output_type": "error",
     "ename": "NameError",
     "evalue": "name 'model' is not defined",
     "traceback": [
      "\u001b[1;31m---------------------------------------------------------------------------\u001b[0m",
      "\u001b[1;31mNameError\u001b[0m                                 Traceback (most recent call last)",
      "\u001b[1;32m<ipython-input-31-5f15418b3570>\u001b[0m in \u001b[0;36m<module>\u001b[1;34m\u001b[0m\n\u001b[1;32m----> 1\u001b[1;33m \u001b[0mmodel\u001b[0m\u001b[1;33m.\u001b[0m\u001b[0msummary\u001b[0m\u001b[1;33m(\u001b[0m\u001b[1;33m)\u001b[0m\u001b[1;33m\u001b[0m\u001b[1;33m\u001b[0m\u001b[0m\n\u001b[0m",
      "\u001b[1;31mNameError\u001b[0m: name 'model' is not defined"
     ]
    }
   ],
   "source": [
    "model.summary()"
   ]
  },
  {
   "cell_type": "code",
   "execution_count": 32,
   "metadata": {},
   "outputs": [
    {
     "output_type": "error",
     "ename": "NameError",
     "evalue": "name 'model' is not defined",
     "traceback": [
      "\u001b[1;31m---------------------------------------------------------------------------\u001b[0m",
      "\u001b[1;31mNameError\u001b[0m                                 Traceback (most recent call last)",
      "\u001b[1;32m<ipython-input-32-20067ff165d7>\u001b[0m in \u001b[0;36m<module>\u001b[1;34m\u001b[0m\n\u001b[1;32m----> 1\u001b[1;33m \u001b[0mmodel\u001b[0m\u001b[1;33m.\u001b[0m\u001b[0mfit\u001b[0m\u001b[1;33m(\u001b[0m\u001b[0mX_train\u001b[0m\u001b[1;33m,\u001b[0m\u001b[0my_train\u001b[0m\u001b[1;33m,\u001b[0m\u001b[0mvalidation_data\u001b[0m\u001b[1;33m=\u001b[0m\u001b[1;33m(\u001b[0m\u001b[0mX_test\u001b[0m\u001b[1;33m,\u001b[0m\u001b[0mytest\u001b[0m\u001b[1;33m)\u001b[0m\u001b[1;33m,\u001b[0m\u001b[0mepochs\u001b[0m\u001b[1;33m=\u001b[0m\u001b[1;36m100\u001b[0m\u001b[1;33m,\u001b[0m\u001b[0mbatch_size\u001b[0m\u001b[1;33m=\u001b[0m\u001b[1;36m64\u001b[0m\u001b[1;33m,\u001b[0m\u001b[0mverbose\u001b[0m\u001b[1;33m=\u001b[0m\u001b[1;36m1\u001b[0m\u001b[1;33m)\u001b[0m\u001b[1;33m\u001b[0m\u001b[1;33m\u001b[0m\u001b[0m\n\u001b[0m\u001b[0;32m      2\u001b[0m \u001b[1;33m\u001b[0m\u001b[0m\n",
      "\u001b[1;31mNameError\u001b[0m: name 'model' is not defined"
     ]
    }
   ],
   "source": [
    "model.fit(X_train,y_train,validation_data=(X_test,ytest),epochs=100,batch_size=64,verbose=1)\n",
    "\n"
   ]
  },
  {
   "cell_type": "code",
   "execution_count": 33,
   "metadata": {},
   "outputs": [
    {
     "output_type": "error",
     "ename": "ModuleNotFoundError",
     "evalue": "No module named 'tensorflow'",
     "traceback": [
      "\u001b[1;31m---------------------------------------------------------------------------\u001b[0m",
      "\u001b[1;31mModuleNotFoundError\u001b[0m                       Traceback (most recent call last)",
      "\u001b[1;32m<ipython-input-33-64156d691fe5>\u001b[0m in \u001b[0;36m<module>\u001b[1;34m\u001b[0m\n\u001b[1;32m----> 1\u001b[1;33m \u001b[1;32mimport\u001b[0m \u001b[0mtensorflow\u001b[0m \u001b[1;32mas\u001b[0m \u001b[0mtf\u001b[0m\u001b[1;33m\u001b[0m\u001b[1;33m\u001b[0m\u001b[0m\n\u001b[0m",
      "\u001b[1;31mModuleNotFoundError\u001b[0m: No module named 'tensorflow'"
     ]
    }
   ],
   "source": [
    "import tensorflow as tf"
   ]
  },
  {
   "cell_type": "code",
   "execution_count": 34,
   "metadata": {},
   "outputs": [
    {
     "output_type": "error",
     "ename": "NameError",
     "evalue": "name 'train_predict' is not defined",
     "traceback": [
      "\u001b[1;31m---------------------------------------------------------------------------\u001b[0m",
      "\u001b[1;31mNameError\u001b[0m                                 Traceback (most recent call last)",
      "\u001b[1;32m<ipython-input-34-0b744cfcba0c>\u001b[0m in \u001b[0;36m<module>\u001b[1;34m\u001b[0m\n\u001b[0;32m      1\u001b[0m \u001b[1;32mimport\u001b[0m \u001b[0mmath\u001b[0m\u001b[1;33m\u001b[0m\u001b[1;33m\u001b[0m\u001b[0m\n\u001b[0;32m      2\u001b[0m \u001b[1;32mfrom\u001b[0m \u001b[0msklearn\u001b[0m\u001b[1;33m.\u001b[0m\u001b[0mmetrics\u001b[0m \u001b[1;32mimport\u001b[0m \u001b[0mmean_squared_error\u001b[0m\u001b[1;33m\u001b[0m\u001b[1;33m\u001b[0m\u001b[0m\n\u001b[1;32m----> 3\u001b[1;33m \u001b[0mmath\u001b[0m\u001b[1;33m.\u001b[0m\u001b[0msqrt\u001b[0m\u001b[1;33m(\u001b[0m\u001b[0mmean_squared_error\u001b[0m\u001b[1;33m(\u001b[0m\u001b[0my_train\u001b[0m\u001b[1;33m,\u001b[0m\u001b[0mtrain_predict\u001b[0m\u001b[1;33m)\u001b[0m\u001b[1;33m)\u001b[0m\u001b[1;33m\u001b[0m\u001b[1;33m\u001b[0m\u001b[0m\n\u001b[0m",
      "\u001b[1;31mNameError\u001b[0m: name 'train_predict' is not defined"
     ]
    }
   ],
   "source": [
    "import math\n",
    "from sklearn.metrics import mean_squared_error\n",
    "math.sqrt(mean_squared_error(y_train,train_predict))"
   ]
  },
  {
   "cell_type": "code",
   "execution_count": 35,
   "metadata": {},
   "outputs": [
    {
     "output_type": "error",
     "ename": "NameError",
     "evalue": "name 'test_predict' is not defined",
     "traceback": [
      "\u001b[1;31m---------------------------------------------------------------------------\u001b[0m",
      "\u001b[1;31mNameError\u001b[0m                                 Traceback (most recent call last)",
      "\u001b[1;32m<ipython-input-35-ae166a060b93>\u001b[0m in \u001b[0;36m<module>\u001b[1;34m\u001b[0m\n\u001b[1;32m----> 1\u001b[1;33m \u001b[0mmath\u001b[0m\u001b[1;33m.\u001b[0m\u001b[0msqrt\u001b[0m\u001b[1;33m(\u001b[0m\u001b[0mmean_squared_error\u001b[0m\u001b[1;33m(\u001b[0m\u001b[0mytest\u001b[0m\u001b[1;33m,\u001b[0m\u001b[0mtest_predict\u001b[0m\u001b[1;33m)\u001b[0m\u001b[1;33m)\u001b[0m\u001b[1;33m\u001b[0m\u001b[1;33m\u001b[0m\u001b[0m\n\u001b[0m",
      "\u001b[1;31mNameError\u001b[0m: name 'test_predict' is not defined"
     ]
    }
   ],
   "source": [
    "math.sqrt(mean_squared_error(ytest,test_predict))"
   ]
  },
  {
   "cell_type": "code",
   "execution_count": 36,
   "metadata": {},
   "outputs": [
    {
     "output_type": "error",
     "ename": "NameError",
     "evalue": "name 'train_predict' is not defined",
     "traceback": [
      "\u001b[1;31m---------------------------------------------------------------------------\u001b[0m",
      "\u001b[1;31mNameError\u001b[0m                                 Traceback (most recent call last)",
      "\u001b[1;32m<ipython-input-36-0fdf7ea26463>\u001b[0m in \u001b[0;36m<module>\u001b[1;34m\u001b[0m\n\u001b[0;32m      4\u001b[0m \u001b[0mtrainPredictPlot\u001b[0m \u001b[1;33m=\u001b[0m \u001b[0mnumpy\u001b[0m\u001b[1;33m.\u001b[0m\u001b[0mempty_like\u001b[0m\u001b[1;33m(\u001b[0m\u001b[0mdf1\u001b[0m\u001b[1;33m)\u001b[0m\u001b[1;33m\u001b[0m\u001b[1;33m\u001b[0m\u001b[0m\n\u001b[0;32m      5\u001b[0m \u001b[0mtrainPredictPlot\u001b[0m\u001b[1;33m[\u001b[0m\u001b[1;33m:\u001b[0m\u001b[1;33m,\u001b[0m \u001b[1;33m:\u001b[0m\u001b[1;33m]\u001b[0m \u001b[1;33m=\u001b[0m \u001b[0mnp\u001b[0m\u001b[1;33m.\u001b[0m\u001b[0mnan\u001b[0m\u001b[1;33m\u001b[0m\u001b[1;33m\u001b[0m\u001b[0m\n\u001b[1;32m----> 6\u001b[1;33m \u001b[0mtrainPredictPlot\u001b[0m\u001b[1;33m[\u001b[0m\u001b[0mlook_back\u001b[0m\u001b[1;33m:\u001b[0m\u001b[0mlen\u001b[0m\u001b[1;33m(\u001b[0m\u001b[0mtrain_predict\u001b[0m\u001b[1;33m)\u001b[0m\u001b[1;33m+\u001b[0m\u001b[0mlook_back\u001b[0m\u001b[1;33m,\u001b[0m \u001b[1;33m:\u001b[0m\u001b[1;33m]\u001b[0m \u001b[1;33m=\u001b[0m \u001b[0mtrain_predict\u001b[0m\u001b[1;33m\u001b[0m\u001b[1;33m\u001b[0m\u001b[0m\n\u001b[0m\u001b[0;32m      7\u001b[0m \u001b[1;31m# shift test predictions for plotting\u001b[0m\u001b[1;33m\u001b[0m\u001b[1;33m\u001b[0m\u001b[1;33m\u001b[0m\u001b[0m\n\u001b[0;32m      8\u001b[0m \u001b[0mtestPredictPlot\u001b[0m \u001b[1;33m=\u001b[0m \u001b[0mnumpy\u001b[0m\u001b[1;33m.\u001b[0m\u001b[0mempty_like\u001b[0m\u001b[1;33m(\u001b[0m\u001b[0mdf1\u001b[0m\u001b[1;33m)\u001b[0m\u001b[1;33m\u001b[0m\u001b[1;33m\u001b[0m\u001b[0m\n",
      "\u001b[1;31mNameError\u001b[0m: name 'train_predict' is not defined"
     ]
    }
   ],
   "source": [
    "### Plotting \n",
    "# shift train predictions for plotting\n",
    "look_back=100\n",
    "trainPredictPlot = numpy.empty_like(df1)\n",
    "trainPredictPlot[:, :] = np.nan\n",
    "trainPredictPlot[look_back:len(train_predict)+look_back, :] = train_predict\n",
    "# shift test predictions for plotting\n",
    "testPredictPlot = numpy.empty_like(df1)\n",
    "testPredictPlot[:, :] = numpy.nan\n",
    "testPredictPlot[len(train_predict)+(look_back*2)+1:len(df1)-1, :] = test_predict\n",
    "# plot baseline and predictions\n",
    "plt.plot(scaler.inverse_transform(df1))\n",
    "plt.plot(trainPredictPlot)\n",
    "plt.plot(testPredictPlot)\n",
    "plt.show()"
   ]
  },
  {
   "cell_type": "code",
   "execution_count": null,
   "metadata": {},
   "outputs": [],
   "source": []
  }
 ]
}