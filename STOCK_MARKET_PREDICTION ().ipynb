{
 "cells": [
  {
   "cell_type": "markdown",
   "metadata": {},
   "source": [
    "# Task 7: stock market prediction \n",
    "\n",
    "Data Science & Business Analytics Intern\n",
    "\n",
    "GRIP @The Sparks Foundation\n",
    "\n",
    "   ##Name: Ashutosh Kumar\n",
    "\n",
    "#GRIPMAY21 #TSF #DATASCIENCE #GRIP\n",
    "\n",
    "Dataset: Download historical stock prices from finance.yahoo.com\n",
    "\n",
    "DATASET : Download textual (news) data from https://bit.ly/36fFPI6"
   ]
  },
  {
   "cell_type": "markdown",
   "metadata": {},
   "source": [
    "# Problem Statement: Stock to analyze and predict - SENSEX (S&P BSE SENSEX)\n",
    "\n",
    " Objective: Create a hybrid model for stock price/performance prediction using numerical analysis of historical stock prices,and sentimental analysis of news headlines\n",
    " \n",
    " "
   ]
  },
  {
   "cell_type": "markdown",
   "metadata": {},
   "source": [
    "## importing libraries and Datasets | Stock Price Data | Stock News Headlines Data"
   ]
  },
  {
   "cell_type": "code",
   "execution_count": 1,
   "metadata": {},
   "outputs": [],
   "source": [
    "import math\n",
    "import pandas as pd\n",
    "import numpy as np\n",
    "import matplotlib.pyplot as plt\n",
    "import seaborn as sns\n",
    "%matplotlib inline\n",
    "\n"
   ]
  },
  {
   "cell_type": "code",
   "execution_count": 2,
   "metadata": {},
   "outputs": [],
   "source": [
    "stock_price  = pd.read_csv('C:\\AAP.csv')\n",
    "stock_headlines = pd.read_csv('C:\\india-news-headlines1.csv')"
   ]
  },
  {
   "cell_type": "markdown",
   "metadata": {},
   "source": [
    "## data visualization and cleaning "
   ]
  },
  {
   "cell_type": "code",
   "execution_count": 3,
   "metadata": {},
   "outputs": [
    {
     "data": {
      "text/html": [
       "<div>\n",
       "<style scoped>\n",
       "    .dataframe tbody tr th:only-of-type {\n",
       "        vertical-align: middle;\n",
       "    }\n",
       "\n",
       "    .dataframe tbody tr th {\n",
       "        vertical-align: top;\n",
       "    }\n",
       "\n",
       "    .dataframe thead th {\n",
       "        text-align: right;\n",
       "    }\n",
       "</style>\n",
       "<table border=\"1\" class=\"dataframe\">\n",
       "  <thead>\n",
       "    <tr style=\"text-align: right;\">\n",
       "      <th></th>\n",
       "      <th>Date</th>\n",
       "      <th>Open</th>\n",
       "      <th>High</th>\n",
       "      <th>Low</th>\n",
       "      <th>Close</th>\n",
       "      <th>Adj Close</th>\n",
       "      <th>Volume</th>\n",
       "    </tr>\n",
       "  </thead>\n",
       "  <tbody>\n",
       "    <tr>\n",
       "      <th>0</th>\n",
       "      <td>2001-01-02</td>\n",
       "      <td>0.265625</td>\n",
       "      <td>0.272321</td>\n",
       "      <td>0.260045</td>\n",
       "      <td>0.265625</td>\n",
       "      <td>0.229537</td>\n",
       "      <td>452312000</td>\n",
       "    </tr>\n",
       "    <tr>\n",
       "      <th>1</th>\n",
       "      <td>2001-01-03</td>\n",
       "      <td>0.258929</td>\n",
       "      <td>0.297991</td>\n",
       "      <td>0.257813</td>\n",
       "      <td>0.292411</td>\n",
       "      <td>0.252684</td>\n",
       "      <td>817073600</td>\n",
       "    </tr>\n",
       "    <tr>\n",
       "      <th>2</th>\n",
       "      <td>2001-01-04</td>\n",
       "      <td>0.323940</td>\n",
       "      <td>0.330357</td>\n",
       "      <td>0.300223</td>\n",
       "      <td>0.304688</td>\n",
       "      <td>0.263292</td>\n",
       "      <td>739396000</td>\n",
       "    </tr>\n",
       "    <tr>\n",
       "      <th>3</th>\n",
       "      <td>2001-01-05</td>\n",
       "      <td>0.302455</td>\n",
       "      <td>0.310268</td>\n",
       "      <td>0.286830</td>\n",
       "      <td>0.292411</td>\n",
       "      <td>0.252684</td>\n",
       "      <td>412356000</td>\n",
       "    </tr>\n",
       "    <tr>\n",
       "      <th>4</th>\n",
       "      <td>2001-01-08</td>\n",
       "      <td>0.302455</td>\n",
       "      <td>0.303292</td>\n",
       "      <td>0.284598</td>\n",
       "      <td>0.295759</td>\n",
       "      <td>0.255577</td>\n",
       "      <td>373699200</td>\n",
       "    </tr>\n",
       "  </tbody>\n",
       "</table>\n",
       "</div>"
      ],
      "text/plain": [
       "         Date      Open      High       Low     Close  Adj Close     Volume\n",
       "0  2001-01-02  0.265625  0.272321  0.260045  0.265625   0.229537  452312000\n",
       "1  2001-01-03  0.258929  0.297991  0.257813  0.292411   0.252684  817073600\n",
       "2  2001-01-04  0.323940  0.330357  0.300223  0.304688   0.263292  739396000\n",
       "3  2001-01-05  0.302455  0.310268  0.286830  0.292411   0.252684  412356000\n",
       "4  2001-01-08  0.302455  0.303292  0.284598  0.295759   0.255577  373699200"
      ]
     },
     "execution_count": 3,
     "metadata": {},
     "output_type": "execute_result"
    }
   ],
   "source": [
    "stock_price.head()"
   ]
  },
  {
   "cell_type": "code",
   "execution_count": 4,
   "metadata": {},
   "outputs": [
    {
     "data": {
      "text/html": [
       "<div>\n",
       "<style scoped>\n",
       "    .dataframe tbody tr th:only-of-type {\n",
       "        vertical-align: middle;\n",
       "    }\n",
       "\n",
       "    .dataframe tbody tr th {\n",
       "        vertical-align: top;\n",
       "    }\n",
       "\n",
       "    .dataframe thead th {\n",
       "        text-align: right;\n",
       "    }\n",
       "</style>\n",
       "<table border=\"1\" class=\"dataframe\">\n",
       "  <thead>\n",
       "    <tr style=\"text-align: right;\">\n",
       "      <th></th>\n",
       "      <th>publish_date</th>\n",
       "      <th>headline_category</th>\n",
       "      <th>headline_text</th>\n",
       "    </tr>\n",
       "  </thead>\n",
       "  <tbody>\n",
       "    <tr>\n",
       "      <th>0</th>\n",
       "      <td>20010102</td>\n",
       "      <td>unknown</td>\n",
       "      <td>Status quo will not be disturbed at Ayodhya; s...</td>\n",
       "    </tr>\n",
       "    <tr>\n",
       "      <th>1</th>\n",
       "      <td>20010102</td>\n",
       "      <td>unknown</td>\n",
       "      <td>Fissures in Hurriyat over Pak visit</td>\n",
       "    </tr>\n",
       "    <tr>\n",
       "      <th>2</th>\n",
       "      <td>20010102</td>\n",
       "      <td>unknown</td>\n",
       "      <td>America's unwanted heading for India?</td>\n",
       "    </tr>\n",
       "    <tr>\n",
       "      <th>3</th>\n",
       "      <td>20010102</td>\n",
       "      <td>unknown</td>\n",
       "      <td>For bigwigs; it is destination Goa</td>\n",
       "    </tr>\n",
       "    <tr>\n",
       "      <th>4</th>\n",
       "      <td>20010102</td>\n",
       "      <td>unknown</td>\n",
       "      <td>Extra buses to clear tourist traffic</td>\n",
       "    </tr>\n",
       "  </tbody>\n",
       "</table>\n",
       "</div>"
      ],
      "text/plain": [
       "   publish_date headline_category  \\\n",
       "0      20010102           unknown   \n",
       "1      20010102           unknown   \n",
       "2      20010102           unknown   \n",
       "3      20010102           unknown   \n",
       "4      20010102           unknown   \n",
       "\n",
       "                                       headline_text  \n",
       "0  Status quo will not be disturbed at Ayodhya; s...  \n",
       "1                Fissures in Hurriyat over Pak visit  \n",
       "2              America's unwanted heading for India?  \n",
       "3                 For bigwigs; it is destination Goa  \n",
       "4               Extra buses to clear tourist traffic  "
      ]
     },
     "execution_count": 4,
     "metadata": {},
     "output_type": "execute_result"
    }
   ],
   "source": [
    " stock_headlines .head()"
   ]
  },
  {
   "cell_type": "code",
   "execution_count": 5,
   "metadata": {},
   "outputs": [
    {
     "data": {
      "text/plain": [
       "(4904, 7)"
      ]
     },
     "execution_count": 5,
     "metadata": {},
     "output_type": "execute_result"
    }
   ],
   "source": [
    "stock_price.shape"
   ]
  },
  {
   "cell_type": "code",
   "execution_count": 6,
   "metadata": {},
   "outputs": [
    {
     "data": {
      "text/plain": [
       "(3424067, 3)"
      ]
     },
     "execution_count": 6,
     "metadata": {},
     "output_type": "execute_result"
    }
   ],
   "source": [
    "stock_headlines.shape"
   ]
  },
  {
   "cell_type": "code",
   "execution_count": 7,
   "metadata": {},
   "outputs": [
    {
     "data": {
      "text/plain": [
       "Date         4904\n",
       "Open         4485\n",
       "High         4408\n",
       "Low          4430\n",
       "Close        4496\n",
       "Adj Close    4569\n",
       "Volume       4879\n",
       "dtype: int64"
      ]
     },
     "execution_count": 7,
     "metadata": {},
     "output_type": "execute_result"
    }
   ],
   "source": [
    "stock_price.nunique()"
   ]
  },
  {
   "cell_type": "code",
   "execution_count": 8,
   "metadata": {},
   "outputs": [
    {
     "data": {
      "text/plain": [
       "publish_date            7262\n",
       "headline_category       1013\n",
       "headline_text        3168800\n",
       "dtype: int64"
      ]
     },
     "execution_count": 8,
     "metadata": {},
     "output_type": "execute_result"
    }
   ],
   "source": [
    "stock_headlines.nunique()"
   ]
  },
  {
   "cell_type": "code",
   "execution_count": 9,
   "metadata": {},
   "outputs": [
    {
     "name": "stdout",
     "output_type": "stream",
     "text": [
      "<class 'pandas.core.frame.DataFrame'>\n",
      "RangeIndex: 4904 entries, 0 to 4903\n",
      "Data columns (total 7 columns):\n",
      " #   Column     Non-Null Count  Dtype  \n",
      "---  ------     --------------  -----  \n",
      " 0   Date       4904 non-null   object \n",
      " 1   Open       4904 non-null   float64\n",
      " 2   High       4904 non-null   float64\n",
      " 3   Low        4904 non-null   float64\n",
      " 4   Close      4904 non-null   float64\n",
      " 5   Adj Close  4904 non-null   float64\n",
      " 6   Volume     4904 non-null   int64  \n",
      "dtypes: float64(5), int64(1), object(1)\n",
      "memory usage: 268.3+ KB\n"
     ]
    }
   ],
   "source": [
    "stock_price.info()"
   ]
  },
  {
   "cell_type": "code",
   "execution_count": 10,
   "metadata": {},
   "outputs": [
    {
     "data": {
      "text/html": [
       "<div>\n",
       "<style scoped>\n",
       "    .dataframe tbody tr th:only-of-type {\n",
       "        vertical-align: middle;\n",
       "    }\n",
       "\n",
       "    .dataframe tbody tr th {\n",
       "        vertical-align: top;\n",
       "    }\n",
       "\n",
       "    .dataframe thead th {\n",
       "        text-align: right;\n",
       "    }\n",
       "</style>\n",
       "<table border=\"1\" class=\"dataframe\">\n",
       "  <thead>\n",
       "    <tr style=\"text-align: right;\">\n",
       "      <th></th>\n",
       "      <th>Date</th>\n",
       "      <th>Open</th>\n",
       "      <th>High</th>\n",
       "      <th>Low</th>\n",
       "      <th>Close</th>\n",
       "      <th>Adj Close</th>\n",
       "      <th>Volume</th>\n",
       "    </tr>\n",
       "  </thead>\n",
       "  <tbody>\n",
       "    <tr>\n",
       "      <th>count</th>\n",
       "      <td>4904</td>\n",
       "      <td>4904.000000</td>\n",
       "      <td>4904.000000</td>\n",
       "      <td>4904.000000</td>\n",
       "      <td>4904.000000</td>\n",
       "      <td>4904.000000</td>\n",
       "      <td>4.904000e+03</td>\n",
       "    </tr>\n",
       "    <tr>\n",
       "      <th>unique</th>\n",
       "      <td>4904</td>\n",
       "      <td>NaN</td>\n",
       "      <td>NaN</td>\n",
       "      <td>NaN</td>\n",
       "      <td>NaN</td>\n",
       "      <td>NaN</td>\n",
       "      <td>NaN</td>\n",
       "    </tr>\n",
       "    <tr>\n",
       "      <th>top</th>\n",
       "      <td>2006-07-10</td>\n",
       "      <td>NaN</td>\n",
       "      <td>NaN</td>\n",
       "      <td>NaN</td>\n",
       "      <td>NaN</td>\n",
       "      <td>NaN</td>\n",
       "      <td>NaN</td>\n",
       "    </tr>\n",
       "    <tr>\n",
       "      <th>freq</th>\n",
       "      <td>1</td>\n",
       "      <td>NaN</td>\n",
       "      <td>NaN</td>\n",
       "      <td>NaN</td>\n",
       "      <td>NaN</td>\n",
       "      <td>NaN</td>\n",
       "      <td>NaN</td>\n",
       "    </tr>\n",
       "    <tr>\n",
       "      <th>mean</th>\n",
       "      <td>NaN</td>\n",
       "      <td>17.135265</td>\n",
       "      <td>17.309201</td>\n",
       "      <td>16.964766</td>\n",
       "      <td>17.144485</td>\n",
       "      <td>16.094308</td>\n",
       "      <td>4.512824e+08</td>\n",
       "    </tr>\n",
       "    <tr>\n",
       "      <th>std</th>\n",
       "      <td>NaN</td>\n",
       "      <td>18.661107</td>\n",
       "      <td>18.863630</td>\n",
       "      <td>18.490313</td>\n",
       "      <td>18.691363</td>\n",
       "      <td>18.379233</td>\n",
       "      <td>3.848283e+08</td>\n",
       "    </tr>\n",
       "    <tr>\n",
       "      <th>min</th>\n",
       "      <td>NaN</td>\n",
       "      <td>0.231964</td>\n",
       "      <td>0.235536</td>\n",
       "      <td>0.227143</td>\n",
       "      <td>0.234286</td>\n",
       "      <td>0.202455</td>\n",
       "      <td>3.247000e+07</td>\n",
       "    </tr>\n",
       "    <tr>\n",
       "      <th>25%</th>\n",
       "      <td>NaN</td>\n",
       "      <td>2.043482</td>\n",
       "      <td>2.068661</td>\n",
       "      <td>2.016875</td>\n",
       "      <td>2.041339</td>\n",
       "      <td>1.764001</td>\n",
       "      <td>1.778427e+08</td>\n",
       "    </tr>\n",
       "    <tr>\n",
       "      <th>50%</th>\n",
       "      <td>NaN</td>\n",
       "      <td>10.355893</td>\n",
       "      <td>10.424285</td>\n",
       "      <td>10.214286</td>\n",
       "      <td>10.323750</td>\n",
       "      <td>8.921155</td>\n",
       "      <td>3.381448e+08</td>\n",
       "    </tr>\n",
       "    <tr>\n",
       "      <th>75%</th>\n",
       "      <td>NaN</td>\n",
       "      <td>27.269375</td>\n",
       "      <td>27.557501</td>\n",
       "      <td>27.044375</td>\n",
       "      <td>27.290000</td>\n",
       "      <td>25.435794</td>\n",
       "      <td>6.034350e+08</td>\n",
       "    </tr>\n",
       "    <tr>\n",
       "      <th>max</th>\n",
       "      <td>NaN</td>\n",
       "      <td>91.250000</td>\n",
       "      <td>93.095001</td>\n",
       "      <td>90.567497</td>\n",
       "      <td>91.632500</td>\n",
       "      <td>91.467583</td>\n",
       "      <td>3.372970e+09</td>\n",
       "    </tr>\n",
       "  </tbody>\n",
       "</table>\n",
       "</div>"
      ],
      "text/plain": [
       "              Date         Open         High          Low        Close  \\\n",
       "count         4904  4904.000000  4904.000000  4904.000000  4904.000000   \n",
       "unique        4904          NaN          NaN          NaN          NaN   \n",
       "top     2006-07-10          NaN          NaN          NaN          NaN   \n",
       "freq             1          NaN          NaN          NaN          NaN   \n",
       "mean           NaN    17.135265    17.309201    16.964766    17.144485   \n",
       "std            NaN    18.661107    18.863630    18.490313    18.691363   \n",
       "min            NaN     0.231964     0.235536     0.227143     0.234286   \n",
       "25%            NaN     2.043482     2.068661     2.016875     2.041339   \n",
       "50%            NaN    10.355893    10.424285    10.214286    10.323750   \n",
       "75%            NaN    27.269375    27.557501    27.044375    27.290000   \n",
       "max            NaN    91.250000    93.095001    90.567497    91.632500   \n",
       "\n",
       "          Adj Close        Volume  \n",
       "count   4904.000000  4.904000e+03  \n",
       "unique          NaN           NaN  \n",
       "top             NaN           NaN  \n",
       "freq            NaN           NaN  \n",
       "mean      16.094308  4.512824e+08  \n",
       "std       18.379233  3.848283e+08  \n",
       "min        0.202455  3.247000e+07  \n",
       "25%        1.764001  1.778427e+08  \n",
       "50%        8.921155  3.381448e+08  \n",
       "75%       25.435794  6.034350e+08  \n",
       "max       91.467583  3.372970e+09  "
      ]
     },
     "execution_count": 10,
     "metadata": {},
     "output_type": "execute_result"
    }
   ],
   "source": [
    "stock_price.describe(include='all')"
   ]
  },
  {
   "cell_type": "code",
   "execution_count": 11,
   "metadata": {},
   "outputs": [
    {
     "data": {
      "text/plain": [
       "(Date         False\n",
       " Open         False\n",
       " High         False\n",
       " Low          False\n",
       " Close        False\n",
       " Adj Close    False\n",
       " Volume       False\n",
       " dtype: bool,\n",
       " publish_date         False\n",
       " headline_category    False\n",
       " headline_text        False\n",
       " dtype: bool)"
      ]
     },
     "execution_count": 11,
     "metadata": {},
     "output_type": "execute_result"
    }
   ],
   "source": [
    "stock_price.isna().any(), stock_headlines .isna().any()"
   ]
  },
  {
   "cell_type": "code",
   "execution_count": 12,
   "metadata": {},
   "outputs": [
    {
     "data": {
      "text/html": [
       "<div>\n",
       "<style scoped>\n",
       "    .dataframe tbody tr th:only-of-type {\n",
       "        vertical-align: middle;\n",
       "    }\n",
       "\n",
       "    .dataframe tbody tr th {\n",
       "        vertical-align: top;\n",
       "    }\n",
       "\n",
       "    .dataframe thead th {\n",
       "        text-align: right;\n",
       "    }\n",
       "</style>\n",
       "<table border=\"1\" class=\"dataframe\">\n",
       "  <thead>\n",
       "    <tr style=\"text-align: right;\">\n",
       "      <th></th>\n",
       "      <th>Date</th>\n",
       "      <th>Open</th>\n",
       "      <th>High</th>\n",
       "      <th>Low</th>\n",
       "      <th>Close</th>\n",
       "      <th>Adj Close</th>\n",
       "      <th>Volume</th>\n",
       "    </tr>\n",
       "  </thead>\n",
       "  <tbody>\n",
       "    <tr>\n",
       "      <th>0</th>\n",
       "      <td>2001-01-02</td>\n",
       "      <td>0.265625</td>\n",
       "      <td>0.272321</td>\n",
       "      <td>0.260045</td>\n",
       "      <td>0.265625</td>\n",
       "      <td>0.229537</td>\n",
       "      <td>452312000</td>\n",
       "    </tr>\n",
       "    <tr>\n",
       "      <th>1</th>\n",
       "      <td>2001-01-03</td>\n",
       "      <td>0.258929</td>\n",
       "      <td>0.297991</td>\n",
       "      <td>0.257813</td>\n",
       "      <td>0.292411</td>\n",
       "      <td>0.252684</td>\n",
       "      <td>817073600</td>\n",
       "    </tr>\n",
       "    <tr>\n",
       "      <th>2</th>\n",
       "      <td>2001-01-04</td>\n",
       "      <td>0.323940</td>\n",
       "      <td>0.330357</td>\n",
       "      <td>0.300223</td>\n",
       "      <td>0.304688</td>\n",
       "      <td>0.263292</td>\n",
       "      <td>739396000</td>\n",
       "    </tr>\n",
       "    <tr>\n",
       "      <th>3</th>\n",
       "      <td>2001-01-05</td>\n",
       "      <td>0.302455</td>\n",
       "      <td>0.310268</td>\n",
       "      <td>0.286830</td>\n",
       "      <td>0.292411</td>\n",
       "      <td>0.252684</td>\n",
       "      <td>412356000</td>\n",
       "    </tr>\n",
       "    <tr>\n",
       "      <th>4</th>\n",
       "      <td>2001-01-08</td>\n",
       "      <td>0.302455</td>\n",
       "      <td>0.303292</td>\n",
       "      <td>0.284598</td>\n",
       "      <td>0.295759</td>\n",
       "      <td>0.255577</td>\n",
       "      <td>373699200</td>\n",
       "    </tr>\n",
       "    <tr>\n",
       "      <th>...</th>\n",
       "      <td>...</td>\n",
       "      <td>...</td>\n",
       "      <td>...</td>\n",
       "      <td>...</td>\n",
       "      <td>...</td>\n",
       "      <td>...</td>\n",
       "      <td>...</td>\n",
       "    </tr>\n",
       "    <tr>\n",
       "      <th>4899</th>\n",
       "      <td>2020-06-24</td>\n",
       "      <td>91.250000</td>\n",
       "      <td>92.197502</td>\n",
       "      <td>89.629997</td>\n",
       "      <td>90.014999</td>\n",
       "      <td>89.852997</td>\n",
       "      <td>192623200</td>\n",
       "    </tr>\n",
       "    <tr>\n",
       "      <th>4900</th>\n",
       "      <td>2020-06-25</td>\n",
       "      <td>90.175003</td>\n",
       "      <td>91.250000</td>\n",
       "      <td>89.392502</td>\n",
       "      <td>91.209999</td>\n",
       "      <td>91.045845</td>\n",
       "      <td>137522400</td>\n",
       "    </tr>\n",
       "    <tr>\n",
       "      <th>4901</th>\n",
       "      <td>2020-06-26</td>\n",
       "      <td>91.102501</td>\n",
       "      <td>91.330002</td>\n",
       "      <td>88.254997</td>\n",
       "      <td>88.407501</td>\n",
       "      <td>88.248390</td>\n",
       "      <td>205256800</td>\n",
       "    </tr>\n",
       "    <tr>\n",
       "      <th>4902</th>\n",
       "      <td>2020-06-29</td>\n",
       "      <td>88.312500</td>\n",
       "      <td>90.542503</td>\n",
       "      <td>87.820000</td>\n",
       "      <td>90.445000</td>\n",
       "      <td>90.282219</td>\n",
       "      <td>130646000</td>\n",
       "    </tr>\n",
       "    <tr>\n",
       "      <th>4903</th>\n",
       "      <td>2020-06-30</td>\n",
       "      <td>90.019997</td>\n",
       "      <td>91.495003</td>\n",
       "      <td>90.000000</td>\n",
       "      <td>91.199997</td>\n",
       "      <td>91.035858</td>\n",
       "      <td>140223200</td>\n",
       "    </tr>\n",
       "  </tbody>\n",
       "</table>\n",
       "<p>4904 rows × 7 columns</p>\n",
       "</div>"
      ],
      "text/plain": [
       "            Date       Open       High        Low      Close  Adj Close  \\\n",
       "0     2001-01-02   0.265625   0.272321   0.260045   0.265625   0.229537   \n",
       "1     2001-01-03   0.258929   0.297991   0.257813   0.292411   0.252684   \n",
       "2     2001-01-04   0.323940   0.330357   0.300223   0.304688   0.263292   \n",
       "3     2001-01-05   0.302455   0.310268   0.286830   0.292411   0.252684   \n",
       "4     2001-01-08   0.302455   0.303292   0.284598   0.295759   0.255577   \n",
       "...          ...        ...        ...        ...        ...        ...   \n",
       "4899  2020-06-24  91.250000  92.197502  89.629997  90.014999  89.852997   \n",
       "4900  2020-06-25  90.175003  91.250000  89.392502  91.209999  91.045845   \n",
       "4901  2020-06-26  91.102501  91.330002  88.254997  88.407501  88.248390   \n",
       "4902  2020-06-29  88.312500  90.542503  87.820000  90.445000  90.282219   \n",
       "4903  2020-06-30  90.019997  91.495003  90.000000  91.199997  91.035858   \n",
       "\n",
       "         Volume  \n",
       "0     452312000  \n",
       "1     817073600  \n",
       "2     739396000  \n",
       "3     412356000  \n",
       "4     373699200  \n",
       "...         ...  \n",
       "4899  192623200  \n",
       "4900  137522400  \n",
       "4901  205256800  \n",
       "4902  130646000  \n",
       "4903  140223200  \n",
       "\n",
       "[4904 rows x 7 columns]"
      ]
     },
     "execution_count": 12,
     "metadata": {},
     "output_type": "execute_result"
    }
   ],
   "source": [
    "stock_price.drop_duplicates()"
   ]
  },
  {
   "cell_type": "code",
   "execution_count": 13,
   "metadata": {},
   "outputs": [
    {
     "data": {
      "text/html": [
       "<div>\n",
       "<style scoped>\n",
       "    .dataframe tbody tr th:only-of-type {\n",
       "        vertical-align: middle;\n",
       "    }\n",
       "\n",
       "    .dataframe tbody tr th {\n",
       "        vertical-align: top;\n",
       "    }\n",
       "\n",
       "    .dataframe thead th {\n",
       "        text-align: right;\n",
       "    }\n",
       "</style>\n",
       "<table border=\"1\" class=\"dataframe\">\n",
       "  <thead>\n",
       "    <tr style=\"text-align: right;\">\n",
       "      <th></th>\n",
       "      <th>publish_date</th>\n",
       "      <th>headline_category</th>\n",
       "      <th>headline_text</th>\n",
       "    </tr>\n",
       "  </thead>\n",
       "  <tbody>\n",
       "    <tr>\n",
       "      <th>0</th>\n",
       "      <td>20010102</td>\n",
       "      <td>unknown</td>\n",
       "      <td>Status quo will not be disturbed at Ayodhya; s...</td>\n",
       "    </tr>\n",
       "    <tr>\n",
       "      <th>1</th>\n",
       "      <td>20010102</td>\n",
       "      <td>unknown</td>\n",
       "      <td>Fissures in Hurriyat over Pak visit</td>\n",
       "    </tr>\n",
       "    <tr>\n",
       "      <th>2</th>\n",
       "      <td>20010102</td>\n",
       "      <td>unknown</td>\n",
       "      <td>America's unwanted heading for India?</td>\n",
       "    </tr>\n",
       "    <tr>\n",
       "      <th>3</th>\n",
       "      <td>20010102</td>\n",
       "      <td>unknown</td>\n",
       "      <td>For bigwigs; it is destination Goa</td>\n",
       "    </tr>\n",
       "    <tr>\n",
       "      <th>4</th>\n",
       "      <td>20010102</td>\n",
       "      <td>unknown</td>\n",
       "      <td>Extra buses to clear tourist traffic</td>\n",
       "    </tr>\n",
       "    <tr>\n",
       "      <th>...</th>\n",
       "      <td>...</td>\n",
       "      <td>...</td>\n",
       "      <td>...</td>\n",
       "    </tr>\n",
       "    <tr>\n",
       "      <th>3424062</th>\n",
       "      <td>20201231</td>\n",
       "      <td>city.jodhpur</td>\n",
       "      <td>Covid-19: Despite dip in cases; Rajasthan amon...</td>\n",
       "    </tr>\n",
       "    <tr>\n",
       "      <th>3424063</th>\n",
       "      <td>20201231</td>\n",
       "      <td>city.udaipur</td>\n",
       "      <td>Covid-19: Despite dip in cases; Rajasthan amon...</td>\n",
       "    </tr>\n",
       "    <tr>\n",
       "      <th>3424064</th>\n",
       "      <td>20201231</td>\n",
       "      <td>city.ajmer</td>\n",
       "      <td>Covid-19: Despite dip in cases; Rajasthan amon...</td>\n",
       "    </tr>\n",
       "    <tr>\n",
       "      <th>3424065</th>\n",
       "      <td>20201231</td>\n",
       "      <td>removed</td>\n",
       "      <td>Govt extends deadline for use of FASTag till F...</td>\n",
       "    </tr>\n",
       "    <tr>\n",
       "      <th>3424066</th>\n",
       "      <td>20201231</td>\n",
       "      <td>entertainment.bengali.movies.news</td>\n",
       "      <td>Celebs plan to party safely and responsibly on...</td>\n",
       "    </tr>\n",
       "  </tbody>\n",
       "</table>\n",
       "<p>3399876 rows × 3 columns</p>\n",
       "</div>"
      ],
      "text/plain": [
       "         publish_date                  headline_category  \\\n",
       "0            20010102                            unknown   \n",
       "1            20010102                            unknown   \n",
       "2            20010102                            unknown   \n",
       "3            20010102                            unknown   \n",
       "4            20010102                            unknown   \n",
       "...               ...                                ...   \n",
       "3424062      20201231                       city.jodhpur   \n",
       "3424063      20201231                       city.udaipur   \n",
       "3424064      20201231                         city.ajmer   \n",
       "3424065      20201231                            removed   \n",
       "3424066      20201231  entertainment.bengali.movies.news   \n",
       "\n",
       "                                             headline_text  \n",
       "0        Status quo will not be disturbed at Ayodhya; s...  \n",
       "1                      Fissures in Hurriyat over Pak visit  \n",
       "2                    America's unwanted heading for India?  \n",
       "3                       For bigwigs; it is destination Goa  \n",
       "4                     Extra buses to clear tourist traffic  \n",
       "...                                                    ...  \n",
       "3424062  Covid-19: Despite dip in cases; Rajasthan amon...  \n",
       "3424063  Covid-19: Despite dip in cases; Rajasthan amon...  \n",
       "3424064  Covid-19: Despite dip in cases; Rajasthan amon...  \n",
       "3424065  Govt extends deadline for use of FASTag till F...  \n",
       "3424066  Celebs plan to party safely and responsibly on...  \n",
       "\n",
       "[3399876 rows x 3 columns]"
      ]
     },
     "execution_count": 13,
     "metadata": {},
     "output_type": "execute_result"
    }
   ],
   "source": [
    "stock_headlines .drop_duplicates()"
   ]
  },
  {
   "cell_type": "markdown",
   "metadata": {},
   "source": [
    "## analyzing each attributes and  computing current  data "
   ]
  },
  {
   "cell_type": "code",
   "execution_count": 14,
   "metadata": {},
   "outputs": [
    {
     "data": {
      "text/html": [
       "<div>\n",
       "<style scoped>\n",
       "    .dataframe tbody tr th:only-of-type {\n",
       "        vertical-align: middle;\n",
       "    }\n",
       "\n",
       "    .dataframe tbody tr th {\n",
       "        vertical-align: top;\n",
       "    }\n",
       "\n",
       "    .dataframe thead th {\n",
       "        text-align: right;\n",
       "    }\n",
       "</style>\n",
       "<table border=\"1\" class=\"dataframe\">\n",
       "  <thead>\n",
       "    <tr style=\"text-align: right;\">\n",
       "      <th></th>\n",
       "      <th>Close</th>\n",
       "      <th>Open</th>\n",
       "      <th>High</th>\n",
       "      <th>Low</th>\n",
       "      <th>Volume</th>\n",
       "    </tr>\n",
       "    <tr>\n",
       "      <th>Date</th>\n",
       "      <th></th>\n",
       "      <th></th>\n",
       "      <th></th>\n",
       "      <th></th>\n",
       "      <th></th>\n",
       "    </tr>\n",
       "  </thead>\n",
       "  <tbody>\n",
       "    <tr>\n",
       "      <th>2001-01-02</th>\n",
       "      <td>0.265625</td>\n",
       "      <td>0.265625</td>\n",
       "      <td>0.272321</td>\n",
       "      <td>0.260045</td>\n",
       "      <td>452312000</td>\n",
       "    </tr>\n",
       "    <tr>\n",
       "      <th>2001-01-03</th>\n",
       "      <td>0.292411</td>\n",
       "      <td>0.258929</td>\n",
       "      <td>0.297991</td>\n",
       "      <td>0.257813</td>\n",
       "      <td>817073600</td>\n",
       "    </tr>\n",
       "    <tr>\n",
       "      <th>2001-01-04</th>\n",
       "      <td>0.304688</td>\n",
       "      <td>0.323940</td>\n",
       "      <td>0.330357</td>\n",
       "      <td>0.300223</td>\n",
       "      <td>739396000</td>\n",
       "    </tr>\n",
       "    <tr>\n",
       "      <th>2001-01-05</th>\n",
       "      <td>0.292411</td>\n",
       "      <td>0.302455</td>\n",
       "      <td>0.310268</td>\n",
       "      <td>0.286830</td>\n",
       "      <td>412356000</td>\n",
       "    </tr>\n",
       "    <tr>\n",
       "      <th>2001-01-08</th>\n",
       "      <td>0.295759</td>\n",
       "      <td>0.302455</td>\n",
       "      <td>0.303292</td>\n",
       "      <td>0.284598</td>\n",
       "      <td>373699200</td>\n",
       "    </tr>\n",
       "    <tr>\n",
       "      <th>...</th>\n",
       "      <td>...</td>\n",
       "      <td>...</td>\n",
       "      <td>...</td>\n",
       "      <td>...</td>\n",
       "      <td>...</td>\n",
       "    </tr>\n",
       "    <tr>\n",
       "      <th>2020-06-24</th>\n",
       "      <td>90.014999</td>\n",
       "      <td>91.250000</td>\n",
       "      <td>92.197502</td>\n",
       "      <td>89.629997</td>\n",
       "      <td>192623200</td>\n",
       "    </tr>\n",
       "    <tr>\n",
       "      <th>2020-06-25</th>\n",
       "      <td>91.209999</td>\n",
       "      <td>90.175003</td>\n",
       "      <td>91.250000</td>\n",
       "      <td>89.392502</td>\n",
       "      <td>137522400</td>\n",
       "    </tr>\n",
       "    <tr>\n",
       "      <th>2020-06-26</th>\n",
       "      <td>88.407501</td>\n",
       "      <td>91.102501</td>\n",
       "      <td>91.330002</td>\n",
       "      <td>88.254997</td>\n",
       "      <td>205256800</td>\n",
       "    </tr>\n",
       "    <tr>\n",
       "      <th>2020-06-29</th>\n",
       "      <td>90.445000</td>\n",
       "      <td>88.312500</td>\n",
       "      <td>90.542503</td>\n",
       "      <td>87.820000</td>\n",
       "      <td>130646000</td>\n",
       "    </tr>\n",
       "    <tr>\n",
       "      <th>2020-06-30</th>\n",
       "      <td>91.199997</td>\n",
       "      <td>90.019997</td>\n",
       "      <td>91.495003</td>\n",
       "      <td>90.000000</td>\n",
       "      <td>140223200</td>\n",
       "    </tr>\n",
       "  </tbody>\n",
       "</table>\n",
       "<p>4904 rows × 5 columns</p>\n",
       "</div>"
      ],
      "text/plain": [
       "                Close       Open       High        Low     Volume\n",
       "Date                                                             \n",
       "2001-01-02   0.265625   0.265625   0.272321   0.260045  452312000\n",
       "2001-01-03   0.292411   0.258929   0.297991   0.257813  817073600\n",
       "2001-01-04   0.304688   0.323940   0.330357   0.300223  739396000\n",
       "2001-01-05   0.292411   0.302455   0.310268   0.286830  412356000\n",
       "2001-01-08   0.295759   0.302455   0.303292   0.284598  373699200\n",
       "...               ...        ...        ...        ...        ...\n",
       "2020-06-24  90.014999  91.250000  92.197502  89.629997  192623200\n",
       "2020-06-25  91.209999  90.175003  91.250000  89.392502  137522400\n",
       "2020-06-26  88.407501  91.102501  91.330002  88.254997  205256800\n",
       "2020-06-29  90.445000  88.312500  90.542503  87.820000  130646000\n",
       "2020-06-30  91.199997  90.019997  91.495003  90.000000  140223200\n",
       "\n",
       "[4904 rows x 5 columns]"
      ]
     },
     "execution_count": 14,
     "metadata": {},
     "output_type": "execute_result"
    }
   ],
   "source": [
    "stock_price = stock_price.drop_duplicates()\n",
    "stock_price['Date'] = pd.to_datetime(stock_price['Date']).dt.normalize()\n",
    "stock_price = stock_price.filter(['Date', 'Close', 'Open', 'High', 'Low', 'Volume'])\n",
    "stock_price.set_index('Date', inplace= True)\n",
    "stock_price = stock_price.sort_index(ascending=True, axis=0)\n",
    "stock_price"
   ]
  },
  {
   "cell_type": "code",
   "execution_count": 15,
   "metadata": {},
   "outputs": [
    {
     "data": {
      "text/html": [
       "<div>\n",
       "<style scoped>\n",
       "    .dataframe tbody tr th:only-of-type {\n",
       "        vertical-align: middle;\n",
       "    }\n",
       "\n",
       "    .dataframe tbody tr th {\n",
       "        vertical-align: top;\n",
       "    }\n",
       "\n",
       "    .dataframe thead th {\n",
       "        text-align: right;\n",
       "    }\n",
       "</style>\n",
       "<table border=\"1\" class=\"dataframe\">\n",
       "  <thead>\n",
       "    <tr style=\"text-align: right;\">\n",
       "      <th></th>\n",
       "      <th>headline_text</th>\n",
       "    </tr>\n",
       "    <tr>\n",
       "      <th>publish_date</th>\n",
       "      <th></th>\n",
       "    </tr>\n",
       "  </thead>\n",
       "  <tbody>\n",
       "    <tr>\n",
       "      <th>2001-01-02</th>\n",
       "      <td>Status quo will not be disturbed at Ayodhya; s...</td>\n",
       "    </tr>\n",
       "    <tr>\n",
       "      <th>2001-01-03</th>\n",
       "      <td>Powerless north India gropes in the dark,Think...</td>\n",
       "    </tr>\n",
       "    <tr>\n",
       "      <th>2001-01-04</th>\n",
       "      <td>The string that pulled Stephen Hawking to Indi...</td>\n",
       "    </tr>\n",
       "    <tr>\n",
       "      <th>2001-01-05</th>\n",
       "      <td>Light combat craft takes India into club class...</td>\n",
       "    </tr>\n",
       "    <tr>\n",
       "      <th>2001-01-06</th>\n",
       "      <td>Light combat craft takes India into club class...</td>\n",
       "    </tr>\n",
       "    <tr>\n",
       "      <th>...</th>\n",
       "      <td>...</td>\n",
       "    </tr>\n",
       "    <tr>\n",
       "      <th>2020-12-27</th>\n",
       "      <td>#BigInterview! Dhritiman Chatterjee: Nobody da...</td>\n",
       "    </tr>\n",
       "    <tr>\n",
       "      <th>2020-12-28</th>\n",
       "      <td>Horoscope Today; 28 December 2020: Check astro...</td>\n",
       "    </tr>\n",
       "    <tr>\n",
       "      <th>2020-12-29</th>\n",
       "      <td>Man recovers charred remains of 'thief' from h...</td>\n",
       "    </tr>\n",
       "    <tr>\n",
       "      <th>2020-12-30</th>\n",
       "      <td>Numerology Readings 30 December 2020: Predicti...</td>\n",
       "    </tr>\n",
       "    <tr>\n",
       "      <th>2020-12-31</th>\n",
       "      <td>Horoscope Today; 31 December 2020: Check astro...</td>\n",
       "    </tr>\n",
       "  </tbody>\n",
       "</table>\n",
       "<p>7262 rows × 1 columns</p>\n",
       "</div>"
      ],
      "text/plain": [
       "                                                  headline_text\n",
       "publish_date                                                   \n",
       "2001-01-02    Status quo will not be disturbed at Ayodhya; s...\n",
       "2001-01-03    Powerless north India gropes in the dark,Think...\n",
       "2001-01-04    The string that pulled Stephen Hawking to Indi...\n",
       "2001-01-05    Light combat craft takes India into club class...\n",
       "2001-01-06    Light combat craft takes India into club class...\n",
       "...                                                         ...\n",
       "2020-12-27    #BigInterview! Dhritiman Chatterjee: Nobody da...\n",
       "2020-12-28    Horoscope Today; 28 December 2020: Check astro...\n",
       "2020-12-29    Man recovers charred remains of 'thief' from h...\n",
       "2020-12-30    Numerology Readings 30 December 2020: Predicti...\n",
       "2020-12-31    Horoscope Today; 31 December 2020: Check astro...\n",
       "\n",
       "[7262 rows x 1 columns]"
      ]
     },
     "execution_count": 15,
     "metadata": {},
     "output_type": "execute_result"
    }
   ],
   "source": [
    "\n",
    "stock_headlines = stock_headlines.drop_duplicates()\n",
    "stock_headlines['publish_date'] = stock_headlines['publish_date'].astype(str)\n",
    "stock_headlines['publish_date'] = stock_headlines['publish_date'].apply(lambda x: x[0:4]+'-'+x[4:6]+'-'+x[6:8])\n",
    "stock_headlines['publish_date'] = pd.to_datetime(stock_headlines['publish_date']).dt.normalize()\n",
    "stock_headlines = stock_headlines.filter(['publish_date', 'headline_text'])\n",
    "stock_headlines = stock_headlines.groupby(['publish_date'])['headline_text'].apply(lambda x: ','.join(x)).reset_index()\n",
    "stock_headlines.set_index('publish_date', inplace= True)\n",
    "stock_headlines = stock_headlines.sort_index(ascending=True, axis=0)\n",
    "stock_headlines"
   ]
  },
  {
   "cell_type": "code",
   "execution_count": 16,
   "metadata": {},
   "outputs": [
    {
     "data": {
      "text/html": [
       "<div>\n",
       "<style scoped>\n",
       "    .dataframe tbody tr th:only-of-type {\n",
       "        vertical-align: middle;\n",
       "    }\n",
       "\n",
       "    .dataframe tbody tr th {\n",
       "        vertical-align: top;\n",
       "    }\n",
       "\n",
       "    .dataframe thead th {\n",
       "        text-align: right;\n",
       "    }\n",
       "</style>\n",
       "<table border=\"1\" class=\"dataframe\">\n",
       "  <thead>\n",
       "    <tr style=\"text-align: right;\">\n",
       "      <th></th>\n",
       "      <th>Close</th>\n",
       "      <th>Open</th>\n",
       "      <th>High</th>\n",
       "      <th>Low</th>\n",
       "      <th>Volume</th>\n",
       "      <th>headline_text</th>\n",
       "    </tr>\n",
       "  </thead>\n",
       "  <tbody>\n",
       "    <tr>\n",
       "      <th>2001-01-02</th>\n",
       "      <td>0.265625</td>\n",
       "      <td>0.265625</td>\n",
       "      <td>0.272321</td>\n",
       "      <td>0.260045</td>\n",
       "      <td>452312000.0</td>\n",
       "      <td>Status quo will not be disturbed at Ayodhya; s...</td>\n",
       "    </tr>\n",
       "    <tr>\n",
       "      <th>2001-01-03</th>\n",
       "      <td>0.292411</td>\n",
       "      <td>0.258929</td>\n",
       "      <td>0.297991</td>\n",
       "      <td>0.257813</td>\n",
       "      <td>817073600.0</td>\n",
       "      <td>Powerless north India gropes in the dark,Think...</td>\n",
       "    </tr>\n",
       "    <tr>\n",
       "      <th>2001-01-04</th>\n",
       "      <td>0.304688</td>\n",
       "      <td>0.323940</td>\n",
       "      <td>0.330357</td>\n",
       "      <td>0.300223</td>\n",
       "      <td>739396000.0</td>\n",
       "      <td>The string that pulled Stephen Hawking to Indi...</td>\n",
       "    </tr>\n",
       "    <tr>\n",
       "      <th>2001-01-05</th>\n",
       "      <td>0.292411</td>\n",
       "      <td>0.302455</td>\n",
       "      <td>0.310268</td>\n",
       "      <td>0.286830</td>\n",
       "      <td>412356000.0</td>\n",
       "      <td>Light combat craft takes India into club class...</td>\n",
       "    </tr>\n",
       "    <tr>\n",
       "      <th>2001-01-08</th>\n",
       "      <td>0.295759</td>\n",
       "      <td>0.302455</td>\n",
       "      <td>0.303292</td>\n",
       "      <td>0.284598</td>\n",
       "      <td>373699200.0</td>\n",
       "      <td>Sangh Parivar; Babri panel up the ante,Frontru...</td>\n",
       "    </tr>\n",
       "    <tr>\n",
       "      <th>...</th>\n",
       "      <td>...</td>\n",
       "      <td>...</td>\n",
       "      <td>...</td>\n",
       "      <td>...</td>\n",
       "      <td>...</td>\n",
       "      <td>...</td>\n",
       "    </tr>\n",
       "    <tr>\n",
       "      <th>2020-06-24</th>\n",
       "      <td>90.014999</td>\n",
       "      <td>91.250000</td>\n",
       "      <td>92.197502</td>\n",
       "      <td>89.629997</td>\n",
       "      <td>192623200.0</td>\n",
       "      <td>I never thought I had a voice until today: Vid...</td>\n",
       "    </tr>\n",
       "    <tr>\n",
       "      <th>2020-06-25</th>\n",
       "      <td>91.209999</td>\n",
       "      <td>90.175003</td>\n",
       "      <td>91.250000</td>\n",
       "      <td>89.392502</td>\n",
       "      <td>137522400.0</td>\n",
       "      <td>Truck firms look for new export markets to sel...</td>\n",
       "    </tr>\n",
       "    <tr>\n",
       "      <th>2020-06-26</th>\n",
       "      <td>88.407501</td>\n",
       "      <td>91.102501</td>\n",
       "      <td>91.330002</td>\n",
       "      <td>88.254997</td>\n",
       "      <td>205256800.0</td>\n",
       "      <td>Containment zone residents slam high prices ch...</td>\n",
       "    </tr>\n",
       "    <tr>\n",
       "      <th>2020-06-29</th>\n",
       "      <td>90.445000</td>\n",
       "      <td>88.312500</td>\n",
       "      <td>90.542503</td>\n",
       "      <td>87.820000</td>\n",
       "      <td>130646000.0</td>\n",
       "      <td>6 hot and stylish bikini looks of Katrina Kaif...</td>\n",
       "    </tr>\n",
       "    <tr>\n",
       "      <th>2020-06-30</th>\n",
       "      <td>91.199997</td>\n",
       "      <td>90.019997</td>\n",
       "      <td>91.495003</td>\n",
       "      <td>90.000000</td>\n",
       "      <td>140223200.0</td>\n",
       "      <td>Monday blues for office-goers as diesel price ...</td>\n",
       "    </tr>\n",
       "  </tbody>\n",
       "</table>\n",
       "<p>4876 rows × 6 columns</p>\n",
       "</div>"
      ],
      "text/plain": [
       "                Close       Open       High        Low       Volume  \\\n",
       "2001-01-02   0.265625   0.265625   0.272321   0.260045  452312000.0   \n",
       "2001-01-03   0.292411   0.258929   0.297991   0.257813  817073600.0   \n",
       "2001-01-04   0.304688   0.323940   0.330357   0.300223  739396000.0   \n",
       "2001-01-05   0.292411   0.302455   0.310268   0.286830  412356000.0   \n",
       "2001-01-08   0.295759   0.302455   0.303292   0.284598  373699200.0   \n",
       "...               ...        ...        ...        ...          ...   \n",
       "2020-06-24  90.014999  91.250000  92.197502  89.629997  192623200.0   \n",
       "2020-06-25  91.209999  90.175003  91.250000  89.392502  137522400.0   \n",
       "2020-06-26  88.407501  91.102501  91.330002  88.254997  205256800.0   \n",
       "2020-06-29  90.445000  88.312500  90.542503  87.820000  130646000.0   \n",
       "2020-06-30  91.199997  90.019997  91.495003  90.000000  140223200.0   \n",
       "\n",
       "                                                headline_text  \n",
       "2001-01-02  Status quo will not be disturbed at Ayodhya; s...  \n",
       "2001-01-03  Powerless north India gropes in the dark,Think...  \n",
       "2001-01-04  The string that pulled Stephen Hawking to Indi...  \n",
       "2001-01-05  Light combat craft takes India into club class...  \n",
       "2001-01-08  Sangh Parivar; Babri panel up the ante,Frontru...  \n",
       "...                                                       ...  \n",
       "2020-06-24  I never thought I had a voice until today: Vid...  \n",
       "2020-06-25  Truck firms look for new export markets to sel...  \n",
       "2020-06-26  Containment zone residents slam high prices ch...  \n",
       "2020-06-29  6 hot and stylish bikini looks of Katrina Kaif...  \n",
       "2020-06-30  Monday blues for office-goers as diesel price ...  \n",
       "\n",
       "[4876 rows x 6 columns]"
      ]
     },
     "execution_count": 16,
     "metadata": {},
     "output_type": "execute_result"
    }
   ],
   "source": [
    "stock_data = pd.concat([stock_price, stock_headlines], axis=1)\n",
    "stock_data.dropna(axis=0, inplace=True)\n",
    "stock_data"
   ]
  },
  {
   "cell_type": "markdown",
   "metadata": {},
   "source": [
    "# predicting the future data based on past "
   ]
  },
  {
   "cell_type": "code",
   "execution_count": 17,
   "metadata": {},
   "outputs": [
    {
     "data": {
      "text/html": [
       "<div>\n",
       "<style scoped>\n",
       "    .dataframe tbody tr th:only-of-type {\n",
       "        vertical-align: middle;\n",
       "    }\n",
       "\n",
       "    .dataframe tbody tr th {\n",
       "        vertical-align: top;\n",
       "    }\n",
       "\n",
       "    .dataframe thead th {\n",
       "        text-align: right;\n",
       "    }\n",
       "</style>\n",
       "<table border=\"1\" class=\"dataframe\">\n",
       "  <thead>\n",
       "    <tr style=\"text-align: right;\">\n",
       "      <th></th>\n",
       "      <th>Close</th>\n",
       "      <th>Open</th>\n",
       "      <th>High</th>\n",
       "      <th>Low</th>\n",
       "      <th>Volume</th>\n",
       "      <th>headline_text</th>\n",
       "      <th>compound</th>\n",
       "      <th>negative</th>\n",
       "      <th>neutral</th>\n",
       "      <th>positive</th>\n",
       "    </tr>\n",
       "  </thead>\n",
       "  <tbody>\n",
       "    <tr>\n",
       "      <th>2001-01-02</th>\n",
       "      <td>0.265625</td>\n",
       "      <td>0.265625</td>\n",
       "      <td>0.272321</td>\n",
       "      <td>0.260045</td>\n",
       "      <td>452312000.0</td>\n",
       "      <td>Status quo will not be disturbed at Ayodhya; s...</td>\n",
       "      <td></td>\n",
       "      <td></td>\n",
       "      <td></td>\n",
       "      <td></td>\n",
       "    </tr>\n",
       "    <tr>\n",
       "      <th>2001-01-03</th>\n",
       "      <td>0.292411</td>\n",
       "      <td>0.258929</td>\n",
       "      <td>0.297991</td>\n",
       "      <td>0.257813</td>\n",
       "      <td>817073600.0</td>\n",
       "      <td>Powerless north India gropes in the dark,Think...</td>\n",
       "      <td></td>\n",
       "      <td></td>\n",
       "      <td></td>\n",
       "      <td></td>\n",
       "    </tr>\n",
       "    <tr>\n",
       "      <th>2001-01-04</th>\n",
       "      <td>0.304688</td>\n",
       "      <td>0.323940</td>\n",
       "      <td>0.330357</td>\n",
       "      <td>0.300223</td>\n",
       "      <td>739396000.0</td>\n",
       "      <td>The string that pulled Stephen Hawking to Indi...</td>\n",
       "      <td></td>\n",
       "      <td></td>\n",
       "      <td></td>\n",
       "      <td></td>\n",
       "    </tr>\n",
       "    <tr>\n",
       "      <th>2001-01-05</th>\n",
       "      <td>0.292411</td>\n",
       "      <td>0.302455</td>\n",
       "      <td>0.310268</td>\n",
       "      <td>0.286830</td>\n",
       "      <td>412356000.0</td>\n",
       "      <td>Light combat craft takes India into club class...</td>\n",
       "      <td></td>\n",
       "      <td></td>\n",
       "      <td></td>\n",
       "      <td></td>\n",
       "    </tr>\n",
       "    <tr>\n",
       "      <th>2001-01-08</th>\n",
       "      <td>0.295759</td>\n",
       "      <td>0.302455</td>\n",
       "      <td>0.303292</td>\n",
       "      <td>0.284598</td>\n",
       "      <td>373699200.0</td>\n",
       "      <td>Sangh Parivar; Babri panel up the ante,Frontru...</td>\n",
       "      <td></td>\n",
       "      <td></td>\n",
       "      <td></td>\n",
       "      <td></td>\n",
       "    </tr>\n",
       "  </tbody>\n",
       "</table>\n",
       "</div>"
      ],
      "text/plain": [
       "               Close      Open      High       Low       Volume  \\\n",
       "2001-01-02  0.265625  0.265625  0.272321  0.260045  452312000.0   \n",
       "2001-01-03  0.292411  0.258929  0.297991  0.257813  817073600.0   \n",
       "2001-01-04  0.304688  0.323940  0.330357  0.300223  739396000.0   \n",
       "2001-01-05  0.292411  0.302455  0.310268  0.286830  412356000.0   \n",
       "2001-01-08  0.295759  0.302455  0.303292  0.284598  373699200.0   \n",
       "\n",
       "                                                headline_text compound  \\\n",
       "2001-01-02  Status quo will not be disturbed at Ayodhya; s...            \n",
       "2001-01-03  Powerless north India gropes in the dark,Think...            \n",
       "2001-01-04  The string that pulled Stephen Hawking to Indi...            \n",
       "2001-01-05  Light combat craft takes India into club class...            \n",
       "2001-01-08  Sangh Parivar; Babri panel up the ante,Frontru...            \n",
       "\n",
       "           negative neutral positive  \n",
       "2001-01-02                            \n",
       "2001-01-03                            \n",
       "2001-01-04                            \n",
       "2001-01-05                            \n",
       "2001-01-08                            "
      ]
     },
     "execution_count": 17,
     "metadata": {},
     "output_type": "execute_result"
    }
   ],
   "source": [
    "# adding empty sentiment columns to stock_data for later calculation\n",
    "stock_data['compound'] = ''\n",
    "stock_data['negative'] = ''\n",
    "stock_data['neutral'] = ''\n",
    "stock_data['positive'] = ''\n",
    "stock_data.head()"
   ]
  },
  {
   "cell_type": "code",
   "execution_count": 18,
   "metadata": {},
   "outputs": [
    {
     "data": {
      "text/plain": [
       "Text(0, 0.5, 'Close Price ($)')"
      ]
     },
     "execution_count": 18,
     "metadata": {},
     "output_type": "execute_result"
    },
    {
     "data": {
      "image/png": "[encoded data removed]",
      "text/plain": [
       "<Figure size 1080x720 with 1 Axes>"
      ]
     },
     "metadata": {
      "needs_background": "light"
     },
     "output_type": "display_data"
    }
   ],
   "source": [
    "plt.figure(figsize=(15,10))\n",
    "stock_price['Close'].plot()\n",
    "plt.title(\"Close Price\")\n",
    "plt.xlabel('Date')\n",
    "plt.ylabel('Close Price ($)')"
   ]
  },
  {
   "cell_type": "code",
   "execution_count": null,
   "metadata": {},
   "outputs": [],
   "source": []
  },
  {
   "cell_type": "code",
   "execution_count": 19,
   "metadata": {},
   "outputs": [
    {
     "data": {
      "text/html": [
       "<div>\n",
       "<style scoped>\n",
       "    .dataframe tbody tr th:only-of-type {\n",
       "        vertical-align: middle;\n",
       "    }\n",
       "\n",
       "    .dataframe tbody tr th {\n",
       "        vertical-align: top;\n",
       "    }\n",
       "\n",
       "    .dataframe thead th {\n",
       "        text-align: right;\n",
       "    }\n",
       "</style>\n",
       "<table border=\"1\" class=\"dataframe\">\n",
       "  <thead>\n",
       "    <tr style=\"text-align: right;\">\n",
       "      <th></th>\n",
       "      <th>Close</th>\n",
       "      <th>Open</th>\n",
       "      <th>High</th>\n",
       "      <th>Low</th>\n",
       "      <th>Volume</th>\n",
       "    </tr>\n",
       "    <tr>\n",
       "      <th>Date</th>\n",
       "      <th></th>\n",
       "      <th></th>\n",
       "      <th></th>\n",
       "      <th></th>\n",
       "      <th></th>\n",
       "    </tr>\n",
       "  </thead>\n",
       "  <tbody>\n",
       "    <tr>\n",
       "      <th>2001-01-02</th>\n",
       "      <td>NaN</td>\n",
       "      <td>NaN</td>\n",
       "      <td>NaN</td>\n",
       "      <td>NaN</td>\n",
       "      <td>NaN</td>\n",
       "    </tr>\n",
       "    <tr>\n",
       "      <th>2001-01-03</th>\n",
       "      <td>NaN</td>\n",
       "      <td>NaN</td>\n",
       "      <td>NaN</td>\n",
       "      <td>NaN</td>\n",
       "      <td>NaN</td>\n",
       "    </tr>\n",
       "    <tr>\n",
       "      <th>2001-01-04</th>\n",
       "      <td>NaN</td>\n",
       "      <td>NaN</td>\n",
       "      <td>NaN</td>\n",
       "      <td>NaN</td>\n",
       "      <td>NaN</td>\n",
       "    </tr>\n",
       "    <tr>\n",
       "      <th>2001-01-05</th>\n",
       "      <td>NaN</td>\n",
       "      <td>NaN</td>\n",
       "      <td>NaN</td>\n",
       "      <td>NaN</td>\n",
       "      <td>NaN</td>\n",
       "    </tr>\n",
       "    <tr>\n",
       "      <th>2001-01-08</th>\n",
       "      <td>NaN</td>\n",
       "      <td>NaN</td>\n",
       "      <td>NaN</td>\n",
       "      <td>NaN</td>\n",
       "      <td>NaN</td>\n",
       "    </tr>\n",
       "    <tr>\n",
       "      <th>2001-01-09</th>\n",
       "      <td>NaN</td>\n",
       "      <td>NaN</td>\n",
       "      <td>NaN</td>\n",
       "      <td>NaN</td>\n",
       "      <td>NaN</td>\n",
       "    </tr>\n",
       "    <tr>\n",
       "      <th>2001-01-10</th>\n",
       "      <td>0.293368</td>\n",
       "      <td>0.293088</td>\n",
       "      <td>0.304687</td>\n",
       "      <td>0.281728</td>\n",
       "      <td>566364000.0</td>\n",
       "    </tr>\n",
       "    <tr>\n",
       "      <th>2001-01-11</th>\n",
       "      <td>0.301340</td>\n",
       "      <td>0.296596</td>\n",
       "      <td>0.312978</td>\n",
       "      <td>0.286033</td>\n",
       "      <td>616567200.0</td>\n",
       "    </tr>\n",
       "    <tr>\n",
       "      <th>2001-01-12</th>\n",
       "      <td>0.303412</td>\n",
       "      <td>0.305206</td>\n",
       "      <td>0.316326</td>\n",
       "      <td>0.292730</td>\n",
       "      <td>560324800.0</td>\n",
       "    </tr>\n",
       "    <tr>\n",
       "      <th>2001-01-16</th>\n",
       "      <td>0.303572</td>\n",
       "      <td>0.303412</td>\n",
       "      <td>0.315689</td>\n",
       "      <td>0.293208</td>\n",
       "      <td>498428000.0</td>\n",
       "    </tr>\n",
       "    <tr>\n",
       "      <th>2001-01-17</th>\n",
       "      <td>0.304688</td>\n",
       "      <td>0.305006</td>\n",
       "      <td>0.316167</td>\n",
       "      <td>0.294324</td>\n",
       "      <td>559644800.0</td>\n",
       "    </tr>\n",
       "    <tr>\n",
       "      <th>2001-01-18</th>\n",
       "      <td>0.310109</td>\n",
       "      <td>0.307238</td>\n",
       "      <td>0.320671</td>\n",
       "      <td>0.298629</td>\n",
       "      <td>681546400.0</td>\n",
       "    </tr>\n",
       "    <tr>\n",
       "      <th>2001-01-19</th>\n",
       "      <td>0.316008</td>\n",
       "      <td>0.313935</td>\n",
       "      <td>0.325574</td>\n",
       "      <td>0.304050</td>\n",
       "      <td>708365600.0</td>\n",
       "    </tr>\n",
       "    <tr>\n",
       "      <th>2001-01-22</th>\n",
       "      <td>0.322864</td>\n",
       "      <td>0.319994</td>\n",
       "      <td>0.332270</td>\n",
       "      <td>0.310108</td>\n",
       "      <td>699586400.0</td>\n",
       "    </tr>\n",
       "    <tr>\n",
       "      <th>2001-01-23</th>\n",
       "      <td>0.329241</td>\n",
       "      <td>0.327806</td>\n",
       "      <td>0.338488</td>\n",
       "      <td>0.317283</td>\n",
       "      <td>710414400.0</td>\n",
       "    </tr>\n",
       "    <tr>\n",
       "      <th>2001-01-24</th>\n",
       "      <td>0.337691</td>\n",
       "      <td>0.334821</td>\n",
       "      <td>0.345344</td>\n",
       "      <td>0.323661</td>\n",
       "      <td>752373600.0</td>\n",
       "    </tr>\n",
       "    <tr>\n",
       "      <th>2001-01-25</th>\n",
       "      <td>0.344866</td>\n",
       "      <td>0.342793</td>\n",
       "      <td>0.351244</td>\n",
       "      <td>0.330676</td>\n",
       "      <td>778600800.0</td>\n",
       "    </tr>\n",
       "    <tr>\n",
       "      <th>2001-01-26</th>\n",
       "      <td>0.351881</td>\n",
       "      <td>0.347736</td>\n",
       "      <td>0.356983</td>\n",
       "      <td>0.337213</td>\n",
       "      <td>727450400.0</td>\n",
       "    </tr>\n",
       "    <tr>\n",
       "      <th>2001-01-29</th>\n",
       "      <td>0.359534</td>\n",
       "      <td>0.352200</td>\n",
       "      <td>0.364637</td>\n",
       "      <td>0.342156</td>\n",
       "      <td>674381600.0</td>\n",
       "    </tr>\n",
       "    <tr>\n",
       "      <th>2001-01-30</th>\n",
       "      <td>0.365274</td>\n",
       "      <td>0.357621</td>\n",
       "      <td>0.370855</td>\n",
       "      <td>0.347736</td>\n",
       "      <td>662347200.0</td>\n",
       "    </tr>\n",
       "  </tbody>\n",
       "</table>\n",
       "</div>"
      ],
      "text/plain": [
       "               Close      Open      High       Low       Volume\n",
       "Date                                                           \n",
       "2001-01-02       NaN       NaN       NaN       NaN          NaN\n",
       "2001-01-03       NaN       NaN       NaN       NaN          NaN\n",
       "2001-01-04       NaN       NaN       NaN       NaN          NaN\n",
       "2001-01-05       NaN       NaN       NaN       NaN          NaN\n",
       "2001-01-08       NaN       NaN       NaN       NaN          NaN\n",
       "2001-01-09       NaN       NaN       NaN       NaN          NaN\n",
       "2001-01-10  0.293368  0.293088  0.304687  0.281728  566364000.0\n",
       "2001-01-11  0.301340  0.296596  0.312978  0.286033  616567200.0\n",
       "2001-01-12  0.303412  0.305206  0.316326  0.292730  560324800.0\n",
       "2001-01-16  0.303572  0.303412  0.315689  0.293208  498428000.0\n",
       "2001-01-17  0.304688  0.305006  0.316167  0.294324  559644800.0\n",
       "2001-01-18  0.310109  0.307238  0.320671  0.298629  681546400.0\n",
       "2001-01-19  0.316008  0.313935  0.325574  0.304050  708365600.0\n",
       "2001-01-22  0.322864  0.319994  0.332270  0.310108  699586400.0\n",
       "2001-01-23  0.329241  0.327806  0.338488  0.317283  710414400.0\n",
       "2001-01-24  0.337691  0.334821  0.345344  0.323661  752373600.0\n",
       "2001-01-25  0.344866  0.342793  0.351244  0.330676  778600800.0\n",
       "2001-01-26  0.351881  0.347736  0.356983  0.337213  727450400.0\n",
       "2001-01-29  0.359534  0.352200  0.364637  0.342156  674381600.0\n",
       "2001-01-30  0.365274  0.357621  0.370855  0.347736  662347200.0"
      ]
     },
     "execution_count": 19,
     "metadata": {},
     "output_type": "execute_result"
    }
   ],
   "source": [
    "stock_price.rolling(7).mean().head(20)"
   ]
  },
  {
   "cell_type": "code",
   "execution_count": 20,
   "metadata": {},
   "outputs": [
    {
     "data": {
      "text/plain": [
       "<AxesSubplot:xlabel='Date'>"
      ]
     },
     "execution_count": 20,
     "metadata": {},
     "output_type": "execute_result"
    },
    {
     "data": {
      "image/png": "[encoded data removed]",
      "text/plain": [
       "<Figure size 1152x432 with 1 Axes>"
      ]
     },
     "metadata": {
      "needs_background": "light"
     },
     "output_type": "display_data"
    }
   ],
   "source": [
    "stock_price['Open'].plot(figsize=(16,6))\n",
    "stock_price.rolling(window=30).mean()['Close'].plot()"
   ]
  },
  {
   "cell_type": "code",
   "execution_count": 21,
   "metadata": {},
   "outputs": [],
   "source": [
    "stock_price=stock_price.reset_index()['Close']"
   ]
  },
  {
   "cell_type": "code",
   "execution_count": 22,
   "metadata": {},
   "outputs": [],
   "source": [
    "import numpy as np\n",
    "from sklearn.preprocessing import MinMaxScaler\n",
    "scaler=MinMaxScaler(feature_range=(0,1))\n",
    "stock_price=scaler.fit_transform(np.array(stock_price).reshape(-1,1))"
   ]
  },
  {
   "cell_type": "code",
   "execution_count": 23,
   "metadata": {},
   "outputs": [
    {
     "name": "stdout",
     "output_type": "stream",
     "text": [
      "[[3.42884162e-04]\n",
      " [6.35953346e-04]\n",
      " [7.70277634e-04]\n",
      " ...\n",
      " [9.64714858e-01]\n",
      " [9.87007405e-01]\n",
      " [9.95267927e-01]]\n"
     ]
    }
   ],
   "source": [
    "print(stock_price)"
   ]
  },
  {
   "cell_type": "code",
   "execution_count": 24,
   "metadata": {},
   "outputs": [],
   "source": [
    "training_size=int(len(stock_price)*0.65)\n",
    "test_size=len(stock_price)-training_size\n",
    "train_data,test_data=stock_price[0:training_size,:],stock_price[training_size:len(stock_price),:1]"
   ]
  },
  {
   "cell_type": "code",
   "execution_count": 25,
   "metadata": {},
   "outputs": [
    {
     "data": {
      "text/plain": [
       "(3187, 1717)"
      ]
     },
     "execution_count": 25,
     "metadata": {},
     "output_type": "execute_result"
    }
   ],
   "source": [
    "training_size,test_size"
   ]
  },
  {
   "cell_type": "code",
   "execution_count": 26,
   "metadata": {},
   "outputs": [
    {
     "data": {
      "text/plain": [
       "array([[0.00034288],\n",
       "       [0.00063595],\n",
       "       [0.00077028],\n",
       "       ...,\n",
       "       [0.18782018],\n",
       "       [0.1883516 ],\n",
       "       [0.19230214]])"
      ]
     },
     "execution_count": 26,
     "metadata": {},
     "output_type": "execute_result"
    }
   ],
   "source": [
    "train_data"
   ]
  },
  {
   "cell_type": "code",
   "execution_count": 27,
   "metadata": {},
   "outputs": [
    {
     "name": "stdout",
     "output_type": "stream",
     "text": [
      "Number of records in Training Data: 3922\n",
      "Number of records in Test Data: 982\n"
     ]
    }
   ],
   "source": [
    "percentage_of_data = 1.0\n",
    "data_to_use = int(percentage_of_data*(len(stock_price)-1))\n",
    "train_end = int(data_to_use*0.8)\n",
    "total_data = len(stock_price)\n",
    "start = total_data - data_to_use\n",
    "print(\"Number of records in Training Data:\", train_end)\n",
    "print(\"Number of records in Test Data:\", total_data - train_end)"
   ]
  },
  {
   "cell_type": "code",
   "execution_count": 28,
   "metadata": {},
   "outputs": [],
   "source": [
    "import numpy \n",
    "def create_stock_price(stock_price, time_step = 1):\n",
    "    dataX, dataY = [],[]\n",
    "    for i  in range (len(stock_price)-time_step-1):\n",
    "        a = stock_price[i:(i+time_step),0]\n",
    "        dataX.append(a)\n",
    "        dataY.append(stock_price[i+time_step,0])\n",
    "    return numpy.array(dataX),numpy.array(dataY)"
   ]
  },
  {
   "cell_type": "code",
   "execution_count": 29,
   "metadata": {},
   "outputs": [],
   "source": [
    "time_step = 100\n",
    "X_train, y_train = create_stock_price(train_data, time_step)\n",
    "X_test, ytest = create_stock_price(test_data, time_step)"
   ]
  },
  {
   "cell_type": "code",
   "execution_count": 30,
   "metadata": {},
   "outputs": [],
   "source": [
    "X_train =X_train.reshape(X_train.shape[0],X_train.shape[1] , 1)\n",
    "X_test = X_test.reshape(X_test.shape[0],X_test.shape[1] , 1)"
   ]
  },
  {
   "cell_type": "code",
   "execution_count": 31,
   "metadata": {},
   "outputs": [
    {
     "name": "stdout",
     "output_type": "stream",
     "text": [
      "Shape of Training set X: (3086, 100, 1, 1)\n",
      "Shape of Test set X: (1616, 100, 1, 1)\n"
     ]
    }
   ],
   "source": [
    "\n",
    "X_train = X_train.reshape (X_train.shape + (1,)) \n",
    "X_test = X_test.reshape(X_test.shape + (1,))\n",
    "\n",
    "print('Shape of Training set X:', X_train.shape)\n",
    "print('Shape of Test set X:', X_test.shape)"
   ]
  },
  {
   "cell_type": "code",
   "execution_count": 32,
   "metadata": {},
   "outputs": [],
   "source": [
    "from tensorflow.keras.models import Sequential\n",
    "from tensorflow.keras.layers import Dense\n",
    "from tensorflow.keras.layers import LSTM"
   ]
  },
  {
   "cell_type": "code",
   "execution_count": 33,
   "metadata": {},
   "outputs": [],
   "source": [
    "model=Sequential()\n",
    "model.add(LSTM(50,return_sequences=True,input_shape=(100,1)))\n",
    "model.add(LSTM(50,return_sequences=True))\n",
    "model.add(LSTM(50))\n",
    "model.add(Dense(1))\n",
    "model.compile(loss='mean_squared_error',optimizer='adam')\n"
   ]
  },
  {
   "cell_type": "code",
   "execution_count": 34,
   "metadata": {},
   "outputs": [
    {
     "name": "stdout",
     "output_type": "stream",
     "text": [
      "Model: \"sequential\"\n",
      "_________________________________________________________________\n",
      "Layer (type)                 Output Shape              Param #   \n",
      "=================================================================\n",
      "lstm (LSTM)                  (None, 100, 50)           10400     \n",
      "_________________________________________________________________\n",
      "lstm_1 (LSTM)                (None, 100, 50)           20200     \n",
      "_________________________________________________________________\n",
      "lstm_2 (LSTM)                (None, 50)                20200     \n",
      "_________________________________________________________________\n",
      "dense (Dense)                (None, 1)                 51        \n",
      "=================================================================\n",
      "Total params: 50,851\n",
      "Trainable params: 50,851\n",
      "Non-trainable params: 0\n",
      "_________________________________________________________________\n"
     ]
    }
   ],
   "source": [
    "model.summary()"
   ]
  },
  {
   "cell_type": "code",
   "execution_count": 35,
   "metadata": {},
   "outputs": [
    {
     "name": "stdout",
     "output_type": "stream",
     "text": [
      "Number of records in Training Data: 3900\n",
      "Number of records in Test Data: 976\n"
     ]
    }
   ],
   "source": [
    "percentage_of_data = 1.0\n",
    "data_to_use = int(percentage_of_data*(len(stock_data)-1))\n",
    "train_end = int(data_to_use*0.8)\n",
    "total_data = len(stock_data)\n",
    "start = total_data - data_to_use\n",
    "print(\"Number of records in Training Data:\", train_end)\n",
    "print(\"Number of records in Test Data:\", total_data - train_end)"
   ]
  },
  {
   "cell_type": "code",
   "execution_count": 36,
   "metadata": {},
   "outputs": [
    {
     "name": "stdout",
     "output_type": "stream",
     "text": [
      "Close Price:\n"
     ]
    },
    {
     "data": {
      "text/plain": [
       "2001-01-03     0.292411\n",
       "2001-01-04     0.304688\n",
       "2001-01-05     0.292411\n",
       "2001-01-08     0.295759\n",
       "2001-01-09     0.306920\n",
       "                ...    \n",
       "2020-06-24    90.014999\n",
       "2020-06-25    91.209999\n",
       "2020-06-26    88.407501\n",
       "2020-06-29    90.445000\n",
       "2020-06-30    91.199997\n",
       "Name: Close, Length: 4875, dtype: float64"
      ]
     },
     "execution_count": 36,
     "metadata": {},
     "output_type": "execute_result"
    }
   ],
   "source": [
    "steps_to_predict = 1\n",
    "close_price = stock_data.iloc[start:total_data,0] \n",
    "compound = stock_data.iloc[start:total_data,1]\n",
    "negative = stock_data.iloc[start:total_data,2] \n",
    "neutral = stock_data.iloc[start:total_data,3] \n",
    "positive = stock_data.iloc[start:total_data,4] \n",
    "open_price = stock_data.iloc[start:total_data,5] \n",
    "high = stock_data.iloc[start:total_data,6] \n",
    "low = stock_data.iloc[start:total_data,7]\n",
    "volume = stock_data.iloc[start:total_data,8] \n",
    "print(\"Close Price:\")\n",
    "close_price"
   ]
  },
  {
   "cell_type": "code",
   "execution_count": 38,
   "metadata": {},
   "outputs": [],
   "source": [
    "import tensorflow as tf"
   ]
  },
  {
   "cell_type": "code",
   "execution_count": 39,
   "metadata": {},
   "outputs": [
    {
     "data": {
      "text/plain": [
       "'2.4.1'"
      ]
     },
     "execution_count": 39,
     "metadata": {},
     "output_type": "execute_result"
    }
   ],
   "source": [
    "tf.__version__"
   ]
  },
  {
   "cell_type": "code",
   "execution_count": 52,
   "metadata": {},
   "outputs": [
    {
     "data": {
      "text/plain": [
       "Text(0.5, 1.0, 'Visualize average, numberOf, min, max, std, Queartile')"
      ]
     },
     "execution_count": 52,
     "metadata": {},
     "output_type": "execute_result"
    },
    {
     "data": {
      "image/png": "[encoded data removed]",
      "text/plain": [
       "<Figure size 864x576 with 2 Axes>"
      ]
     },
     "metadata": {
      "needs_background": "light"
     },
     "output_type": "display_data"
    }
   ],
   "source": [
    "plt.figure(figsize=(12, 8))\n",
    "sns.heatmap(stock_data.describe(), annot = True, fmt = '.2f', cmap = 'rainbow')\n",
    "plt.xticks(fontsize = 12)\n",
    "plt.yticks(fontsize = 12)\n",
    "plt.title(\"Visualize average, numberOf, min, max, std, Queartile\", fontsize = 16)"
   ]
  },
  {
   "cell_type": "markdown",
   "metadata": {},
   "source": [
    "##note  the efficiency of the model is low and can be further improved by adding more data to the database and code  over time "
   ]
  },
  {
   "cell_type": "code",
   "execution_count": null,
   "metadata": {},
   "outputs": [],
   "source": [
    "# demonstrate prediction for next 10 days\n",
    "from numpy import array\n",
    "\n",
    "lst_output=[]\n",
    "n_steps=100\n",
    "i=0\n",
    "while(i<30):\n",
    "    \n",
    "    if(len(temp_input)>100):\n",
    "        #print(temp_input)\n",
    "        x_input=np.array(temp_input[1:])\n",
    "        print(\"{} day input {}\".format(i,x_input))\n",
    "        x_input=x_input.reshape(1,-1)\n",
    "        x_input = x_input.reshape((1, n_steps, 1))\n",
    "        #print(x_input)\n",
    "        yhat = model.predict(x_input, verbose=0)\n",
    "        print(\"{} day output {}\".format(i,yhat))\n",
    "        temp_input.extend(yhat[0].tolist())\n",
    "        temp_input=temp_input[1:]\n",
    "        #print(temp_input)\n",
    "        lst_output.extend(yhat.tolist())\n",
    "        i=i+1\n",
    "    else:\n",
    "        x_input = x_input.reshape((1, n_steps,1))\n",
    "        yhat = model.predict(x_input, verbose=0)\n",
    "        print(yhat[0])\n",
    "        temp_input.extend(yhat[0].tolist())\n",
    "        print(len(temp_input))\n",
    "        lst_output.extend(yhat.tolist())\n",
    "        i=i+1\n",
    "    \n",
    "\n",
    "print(lst_output)"
   ]
  },
  {
   "cell_type": "markdown",
   "metadata": {},
   "source": [
    "# conclusion :- as per my analysis news headline data and  stock data  not matching more so not much usful for accurate  stock prediction "
   ]
  }
 ],
 "metadata": {
  "kernelspec": {
   "display_name": "Python 3",
   "language": "python",
   "name": "python3"
  },
  "language_info": {
   "codemirror_mode": {
    "name": "ipython",
    "version": 3
   },
   "file_extension": ".py",
   "mimetype": "text/x-python",
   "name": "python",
   "nbconvert_exporter": "python",
   "pygments_lexer": "ipython3",
   "version": "3.8.5"
  }
 },
 "nbformat": 4,
 "nbformat_minor": 2
}
